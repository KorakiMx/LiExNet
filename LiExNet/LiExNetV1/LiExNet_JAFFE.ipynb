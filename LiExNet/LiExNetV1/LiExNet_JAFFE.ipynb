{
 "cells": [
  {
   "cell_type": "code",
   "execution_count": 1,
   "metadata": {},
   "outputs": [],
   "source": [
    "\n",
    "import os\n",
    "import cv2\n",
    "import numpy as np\n",
    "import tensorflow as tf \n",
    "import matplotlib.pyplot as plt\n",
    "from sklearn.model_selection import train_test_split\n",
    "from tensorflow.keras.models import Sequential\n",
    "from tensorflow.keras.layers import Dense, Flatten\n",
    "from tensorflow.keras.applications import MobileNet\n",
    "from sklearn.metrics import accuracy_score, confusion_matrix, classification_report\n",
    "import seaborn as sn\n"
   ]
  },
  {
   "cell_type": "code",
   "execution_count": 2,
   "metadata": {},
   "outputs": [],
   "source": [
    "# Configurar TensorFlow para usar solo la CPU\n",
    "#os.environ['CUDA_VISIBLE_DEVICES'] = '-1'\n",
    "\n",
    "# Define el directorio de la base de datos\n",
    "directorio = r'C:\\Users\\joshu\\Downloads\\JAFFE\\JAFFE\\jaffedbase\\jaffedbase'\n",
    "\n",
    "# Define el mapeo de emociones a etiquetas numéricas\n",
    "emociones = {\n",
    "    'NE': 0,  # Neutral\n",
    "    'HA': 1,  # Happy\n",
    "    'SA': 2,  # Sad\n",
    "    'SU': 3,  # Surprise\n",
    "    'AN': 4,  # Angry\n",
    "    'DI': 5,  # Disgust\n",
    "    'FE': 6   # Fear\n",
    "}\n",
    "\n",
    "contenido = os.listdir(directorio)\n",
    "imagenes = [nombre for nombre in contenido if nombre.endswith('.tiff')]\n",
    "imagenes_data = []\n",
    "etiquetas = []\n",
    "\n",
    "# Cargar imágenes y etiquetas\n",
    "for nombre_imagen in imagenes:\n",
    "    partes = nombre_imagen.split('.')\n",
    "    codigo_emocion = partes[1][:2]  \n",
    "    etiqueta = emociones.get(codigo_emocion, -1)  # -1 para emociones no definidas\n",
    "    etiquetas.append(etiqueta)\n",
    "    \n",
    "    ruta_imagen = os.path.join(directorio, nombre_imagen)\n",
    "    imagen_actual = cv2.imread(ruta_imagen, cv2.IMREAD_GRAYSCALE)\n",
    "    imagen_actual = cv2.resize(imagen_actual, (224, 224))\n",
    "    imagen_rgb = cv2.cvtColor(imagen_actual, cv2.COLOR_GRAY2RGB)\n",
    "    imagen_rgb = imagen_rgb / 255.0  # Normalizar\n",
    "    imagenes_data.append(imagen_rgb)\n",
    "\n",
    "imagenes_data = np.array(imagenes_data)\n",
    "etiquetas = np.array(etiquetas)\n",
    "\n",
    "# Separar los datos en conjuntos de entrenamiento y validación\n",
    "imagenes_train, imagenes_val, etiquetas_train, etiquetas_val = train_test_split(\n",
    "    imagenes_data, etiquetas, test_size=0.2, random_state=42\n",
    ")\n"
   ]
  },
  {
   "cell_type": "code",
   "execution_count": 3,
   "metadata": {},
   "outputs": [
    {
     "name": "stdout",
     "output_type": "stream",
     "text": [
      "Epoch 1/400\n",
      "2/2 [==============================] - 0s 33ms/steploss: 2.3977 - accuracy: 0.13\n",
      "Epoch 1 — F1: 0.0158, Precision: 0.0087, Recall: 0.0930\n",
      "85/85 [==============================] - 4s 14ms/step - loss: 2.3925 - accuracy: 0.1471 - val_loss: 2.3398 - val_accuracy: 0.0930\n",
      "Epoch 2/400\n",
      "35/85 [===========>..................] - ETA: 0s - loss: 2.3374 - accuracy: 0.2000"
     ]
    },
    {
     "name": "stderr",
     "output_type": "stream",
     "text": [
      "c:\\Users\\joshu\\anaconda3\\envs\\SuperBoop\\lib\\site-packages\\sklearn\\metrics\\_classification.py:1531: UndefinedMetricWarning: Precision is ill-defined and being set to 0.0 in labels with no predicted samples. Use `zero_division` parameter to control this behavior.\n",
      "  _warn_prf(average, modifier, f\"{metric.capitalize()} is\", len(result))\n"
     ]
    },
    {
     "name": "stdout",
     "output_type": "stream",
     "text": [
      "2/2 [==============================] - 0s 16ms/steploss: 2.3606 - accuracy: 0.15\n",
      "Epoch 2 — F1: 0.0158, Precision: 0.0087, Recall: 0.0930\n",
      "85/85 [==============================] - 1s 8ms/step - loss: 2.3557 - accuracy: 0.1471 - val_loss: 2.3213 - val_accuracy: 0.0930\n",
      "Epoch 3/400\n",
      "18/85 [=====>........................] - ETA: 0s - loss: 2.3258 - accuracy: 0.1389  "
     ]
    },
    {
     "name": "stderr",
     "output_type": "stream",
     "text": [
      "c:\\Users\\joshu\\anaconda3\\envs\\SuperBoop\\lib\\site-packages\\sklearn\\metrics\\_classification.py:1531: UndefinedMetricWarning: Precision is ill-defined and being set to 0.0 in labels with no predicted samples. Use `zero_division` parameter to control this behavior.\n",
      "  _warn_prf(average, modifier, f\"{metric.capitalize()} is\", len(result))\n"
     ]
    },
    {
     "name": "stdout",
     "output_type": "stream",
     "text": [
      "2/2 [==============================] - 0s 0s/step- loss: 2.3345 - accuracy: 0.12\n",
      "Epoch 3 — F1: 0.0158, Precision: 0.0087, Recall: 0.0930\n",
      "85/85 [==============================] - 1s 9ms/step - loss: 2.3342 - accuracy: 0.1353 - val_loss: 2.3035 - val_accuracy: 0.0930\n",
      "Epoch 4/400\n",
      "35/85 [===========>..................] - ETA: 0s - loss: 2.2792 - accuracy: 0.1286"
     ]
    },
    {
     "name": "stderr",
     "output_type": "stream",
     "text": [
      "c:\\Users\\joshu\\anaconda3\\envs\\SuperBoop\\lib\\site-packages\\sklearn\\metrics\\_classification.py:1531: UndefinedMetricWarning: Precision is ill-defined and being set to 0.0 in labels with no predicted samples. Use `zero_division` parameter to control this behavior.\n",
      "  _warn_prf(average, modifier, f\"{metric.capitalize()} is\", len(result))\n"
     ]
    },
    {
     "name": "stdout",
     "output_type": "stream",
     "text": [
      "2/2 [==============================] - 0s 24ms/steploss: 2.3054 - accuracy: 0.10\n",
      "Epoch 4 — F1: 0.0158, Precision: 0.0087, Recall: 0.0930\n",
      "85/85 [==============================] - 1s 8ms/step - loss: 2.3064 - accuracy: 0.1059 - val_loss: 2.2874 - val_accuracy: 0.0930\n",
      "Epoch 5/400\n",
      "18/85 [=====>........................] - ETA: 0s - loss: 2.3128 - accuracy: 0.1111  "
     ]
    },
    {
     "name": "stderr",
     "output_type": "stream",
     "text": [
      "c:\\Users\\joshu\\anaconda3\\envs\\SuperBoop\\lib\\site-packages\\sklearn\\metrics\\_classification.py:1531: UndefinedMetricWarning: Precision is ill-defined and being set to 0.0 in labels with no predicted samples. Use `zero_division` parameter to control this behavior.\n",
      "  _warn_prf(average, modifier, f\"{metric.capitalize()} is\", len(result))\n"
     ]
    },
    {
     "name": "stdout",
     "output_type": "stream",
     "text": [
      "2/2 [==============================] - 0s 11ms/steploss: 2.2864 - accuracy: 0.10\n",
      "Epoch 5 — F1: 0.0592, Precision: 0.0362, Recall: 0.1628\n",
      "85/85 [==============================] - 1s 9ms/step - loss: 2.2818 - accuracy: 0.1176 - val_loss: 2.2709 - val_accuracy: 0.1628\n",
      "Epoch 6/400\n",
      "31/85 [=========>....................] - ETA: 0s - loss: 2.2847 - accuracy: 0.1290"
     ]
    },
    {
     "name": "stderr",
     "output_type": "stream",
     "text": [
      "c:\\Users\\joshu\\anaconda3\\envs\\SuperBoop\\lib\\site-packages\\sklearn\\metrics\\_classification.py:1531: UndefinedMetricWarning: Precision is ill-defined and being set to 0.0 in labels with no predicted samples. Use `zero_division` parameter to control this behavior.\n",
      "  _warn_prf(average, modifier, f\"{metric.capitalize()} is\", len(result))\n"
     ]
    },
    {
     "name": "stdout",
     "output_type": "stream",
     "text": [
      "2/2 [==============================] - 0s 0s/step- loss: 2.2866 - accuracy: 0.11\n",
      "Epoch 6 — F1: 0.1210, Precision: 0.0903, Recall: 0.1860\n",
      "85/85 [==============================] - 1s 7ms/step - loss: 2.2821 - accuracy: 0.1118 - val_loss: 2.2566 - val_accuracy: 0.1860\n",
      "Epoch 7/400\n",
      "25/85 [=======>......................] - ETA: 0s - loss: 2.2227 - accuracy: 0.2200  "
     ]
    },
    {
     "name": "stderr",
     "output_type": "stream",
     "text": [
      "c:\\Users\\joshu\\anaconda3\\envs\\SuperBoop\\lib\\site-packages\\sklearn\\metrics\\_classification.py:1531: UndefinedMetricWarning: Precision is ill-defined and being set to 0.0 in labels with no predicted samples. Use `zero_division` parameter to control this behavior.\n",
      "  _warn_prf(average, modifier, f\"{metric.capitalize()} is\", len(result))\n"
     ]
    },
    {
     "name": "stdout",
     "output_type": "stream",
     "text": [
      "2/2 [==============================] - 0s 18ms/steploss: 2.2577 - accuracy: 0.16\n",
      "Epoch 7 — F1: 0.0859, Precision: 0.0633, Recall: 0.1395\n",
      "85/85 [==============================] - 1s 7ms/step - loss: 2.2562 - accuracy: 0.1706 - val_loss: 2.2441 - val_accuracy: 0.1395\n",
      "Epoch 8/400\n",
      "37/85 [============>.................] - ETA: 0s - loss: 2.2352 - accuracy: 0.1622"
     ]
    },
    {
     "name": "stderr",
     "output_type": "stream",
     "text": [
      "c:\\Users\\joshu\\anaconda3\\envs\\SuperBoop\\lib\\site-packages\\sklearn\\metrics\\_classification.py:1531: UndefinedMetricWarning: Precision is ill-defined and being set to 0.0 in labels with no predicted samples. Use `zero_division` parameter to control this behavior.\n",
      "  _warn_prf(average, modifier, f\"{metric.capitalize()} is\", len(result))\n"
     ]
    },
    {
     "name": "stdout",
     "output_type": "stream",
     "text": [
      "2/2 [==============================] - 0s 16ms/steploss: 2.2304 - accuracy: 0.19\n",
      "Epoch 8 — F1: 0.0791, Precision: 0.0504, Recall: 0.1860\n",
      "85/85 [==============================] - 1s 7ms/step - loss: 2.2316 - accuracy: 0.1882 - val_loss: 2.2326 - val_accuracy: 0.1860\n",
      "Epoch 9/400\n",
      "31/85 [=========>....................] - ETA: 0s - loss: 2.2028 - accuracy: 0.2258"
     ]
    },
    {
     "name": "stderr",
     "output_type": "stream",
     "text": [
      "c:\\Users\\joshu\\anaconda3\\envs\\SuperBoop\\lib\\site-packages\\sklearn\\metrics\\_classification.py:1531: UndefinedMetricWarning: Precision is ill-defined and being set to 0.0 in labels with no predicted samples. Use `zero_division` parameter to control this behavior.\n",
      "  _warn_prf(average, modifier, f\"{metric.capitalize()} is\", len(result))\n"
     ]
    },
    {
     "name": "stdout",
     "output_type": "stream",
     "text": [
      "2/2 [==============================] - 0s 9ms/step loss: 2.2215 - accuracy: 0.17\n",
      "Epoch 9 — F1: 0.1543, Precision: 0.1583, Recall: 0.2326\n",
      "85/85 [==============================] - 1s 7ms/step - loss: 2.2213 - accuracy: 0.1706 - val_loss: 2.2147 - val_accuracy: 0.2326\n",
      "Epoch 10/400\n",
      "33/85 [==========>...................] - ETA: 0s - loss: 2.2048 - accuracy: 0.1364"
     ]
    },
    {
     "name": "stderr",
     "output_type": "stream",
     "text": [
      "c:\\Users\\joshu\\anaconda3\\envs\\SuperBoop\\lib\\site-packages\\sklearn\\metrics\\_classification.py:1531: UndefinedMetricWarning: Precision is ill-defined and being set to 0.0 in labels with no predicted samples. Use `zero_division` parameter to control this behavior.\n",
      "  _warn_prf(average, modifier, f\"{metric.capitalize()} is\", len(result))\n"
     ]
    },
    {
     "name": "stdout",
     "output_type": "stream",
     "text": [
      "2/2 [==============================] - 0s 12ms/steploss: 2.2179 - accuracy: 0.13\n",
      "Epoch 10 — F1: 0.2491, Precision: 0.3028, Recall: 0.3023\n",
      "85/85 [==============================] - 1s 7ms/step - loss: 2.2179 - accuracy: 0.1353 - val_loss: 2.2019 - val_accuracy: 0.3023\n",
      "Epoch 11/400\n",
      "32/85 [==========>...................] - ETA: 0s - loss: 2.2153 - accuracy: 0.1406"
     ]
    },
    {
     "name": "stderr",
     "output_type": "stream",
     "text": [
      "c:\\Users\\joshu\\anaconda3\\envs\\SuperBoop\\lib\\site-packages\\sklearn\\metrics\\_classification.py:1531: UndefinedMetricWarning: Precision is ill-defined and being set to 0.0 in labels with no predicted samples. Use `zero_division` parameter to control this behavior.\n",
      "  _warn_prf(average, modifier, f\"{metric.capitalize()} is\", len(result))\n"
     ]
    },
    {
     "name": "stdout",
     "output_type": "stream",
     "text": [
      "2/2 [==============================] - 0s 11ms/steploss: 2.2101 - accuracy: 0.12\n",
      "Epoch 11 — F1: 0.1523, Precision: 0.1603, Recall: 0.2093\n",
      "85/85 [==============================] - 1s 7ms/step - loss: 2.2101 - accuracy: 0.1235 - val_loss: 2.1935 - val_accuracy: 0.2326\n",
      "Epoch 12/400\n",
      "32/85 [==========>...................] - ETA: 0s - loss: 2.2125 - accuracy: 0.2031"
     ]
    },
    {
     "name": "stderr",
     "output_type": "stream",
     "text": [
      "c:\\Users\\joshu\\anaconda3\\envs\\SuperBoop\\lib\\site-packages\\sklearn\\metrics\\_classification.py:1531: UndefinedMetricWarning: Precision is ill-defined and being set to 0.0 in labels with no predicted samples. Use `zero_division` parameter to control this behavior.\n",
      "  _warn_prf(average, modifier, f\"{metric.capitalize()} is\", len(result))\n"
     ]
    },
    {
     "name": "stdout",
     "output_type": "stream",
     "text": [
      "2/2 [==============================] - 0s 10ms/steploss: 2.1984 - accuracy: 0.17\n",
      "Epoch 12 — F1: 0.1512, Precision: 0.2421, Recall: 0.2093\n",
      "85/85 [==============================] - 1s 7ms/step - loss: 2.1982 - accuracy: 0.1706 - val_loss: 2.1831 - val_accuracy: 0.2093\n",
      "Epoch 13/400\n",
      "32/85 [==========>...................] - ETA: 0s - loss: 2.1853 - accuracy: 0.1406"
     ]
    },
    {
     "name": "stderr",
     "output_type": "stream",
     "text": [
      "c:\\Users\\joshu\\anaconda3\\envs\\SuperBoop\\lib\\site-packages\\sklearn\\metrics\\_classification.py:1531: UndefinedMetricWarning: Precision is ill-defined and being set to 0.0 in labels with no predicted samples. Use `zero_division` parameter to control this behavior.\n",
      "  _warn_prf(average, modifier, f\"{metric.capitalize()} is\", len(result))\n"
     ]
    },
    {
     "name": "stdout",
     "output_type": "stream",
     "text": [
      "2/2 [==============================] - 0s 12ms/steploss: 2.1953 - accuracy: 0.14\n",
      "Epoch 13 — F1: 0.1698, Precision: 0.1905, Recall: 0.2093\n",
      "85/85 [==============================] - 1s 7ms/step - loss: 2.1953 - accuracy: 0.1412 - val_loss: 2.1785 - val_accuracy: 0.2093\n",
      "Epoch 14/400\n",
      "2/2 [==============================] - 0s 14ms/steploss: 2.1711 - accuracy: 0.17\n",
      "Epoch 14 — F1: 0.2293, Precision: 0.3540, Recall: 0.2558\n",
      "85/85 [==============================] - 1s 7ms/step - loss: 2.1698 - accuracy: 0.1882 - val_loss: 2.1709 - val_accuracy: 0.2558\n",
      "Epoch 15/400\n",
      "2/2 [==============================] - 0s 11ms/steploss: 2.1757 - accuracy: 0.19\n",
      "Epoch 15 — F1: 0.1558, Precision: 0.2752, Recall: 0.1860\n",
      "85/85 [==============================] - 1s 7ms/step - loss: 2.1749 - accuracy: 0.1941 - val_loss: 2.1659 - val_accuracy: 0.1860\n",
      "Epoch 16/400\n",
      "2/2 [==============================] - 0s 12ms/steploss: 2.1738 - accuracy: 0.17\n",
      "Epoch 16 — F1: 0.2003, Precision: 0.2469, Recall: 0.2791\n",
      "85/85 [==============================] - 1s 7ms/step - loss: 2.1708 - accuracy: 0.1765 - val_loss: 2.1562 - val_accuracy: 0.2558\n",
      "Epoch 17/400\n",
      "30/85 [=========>....................] - ETA: 0s - loss: 2.1811 - accuracy: 0.1500"
     ]
    },
    {
     "name": "stderr",
     "output_type": "stream",
     "text": [
      "c:\\Users\\joshu\\anaconda3\\envs\\SuperBoop\\lib\\site-packages\\sklearn\\metrics\\_classification.py:1531: UndefinedMetricWarning: Precision is ill-defined and being set to 0.0 in labels with no predicted samples. Use `zero_division` parameter to control this behavior.\n",
      "  _warn_prf(average, modifier, f\"{metric.capitalize()} is\", len(result))\n"
     ]
    },
    {
     "name": "stdout",
     "output_type": "stream",
     "text": [
      "2/2 [==============================] - 0s 14ms/steploss: 2.1694 - accuracy: 0.18\n",
      "Epoch 17 — F1: 0.1801, Precision: 0.2998, Recall: 0.2093\n",
      "85/85 [==============================] - 1s 7ms/step - loss: 2.1704 - accuracy: 0.1765 - val_loss: 2.1554 - val_accuracy: 0.2093\n",
      "Epoch 18/400\n",
      "2/2 [==============================] - 0s 12ms/steploss: 2.1589 - accuracy: 0.12\n",
      "Epoch 18 — F1: 0.2485, Precision: 0.3448, Recall: 0.2791\n",
      "85/85 [==============================] - 1s 7ms/step - loss: 2.1577 - accuracy: 0.1294 - val_loss: 2.1555 - val_accuracy: 0.2791\n",
      "Epoch 19/400\n",
      "2/2 [==============================] - 0s 12ms/steploss: 2.1501 - accuracy: 0.19\n",
      "Epoch 19 — F1: 0.1527, Precision: 0.1249, Recall: 0.2093\n",
      "85/85 [==============================] - 1s 7ms/step - loss: 2.1504 - accuracy: 0.1941 - val_loss: 2.1526 - val_accuracy: 0.2093\n",
      "Epoch 20/400\n",
      "33/85 [==========>...................] - ETA: 0s - loss: 2.1642 - accuracy: 0.1515"
     ]
    },
    {
     "name": "stderr",
     "output_type": "stream",
     "text": [
      "c:\\Users\\joshu\\anaconda3\\envs\\SuperBoop\\lib\\site-packages\\sklearn\\metrics\\_classification.py:1531: UndefinedMetricWarning: Precision is ill-defined and being set to 0.0 in labels with no predicted samples. Use `zero_division` parameter to control this behavior.\n",
      "  _warn_prf(average, modifier, f\"{metric.capitalize()} is\", len(result))\n"
     ]
    },
    {
     "name": "stdout",
     "output_type": "stream",
     "text": [
      "2/2 [==============================] - 0s 13ms/steploss: 2.1548 - accuracy: 0.17\n",
      "Epoch 20 — F1: 0.1546, Precision: 0.1239, Recall: 0.2093\n",
      "85/85 [==============================] - 1s 7ms/step - loss: 2.1548 - accuracy: 0.1706 - val_loss: 2.1477 - val_accuracy: 0.2093\n",
      "Epoch 21/400\n",
      "34/85 [===========>..................] - ETA: 0s - loss: 2.1222 - accuracy: 0.2353"
     ]
    },
    {
     "name": "stderr",
     "output_type": "stream",
     "text": [
      "c:\\Users\\joshu\\anaconda3\\envs\\SuperBoop\\lib\\site-packages\\sklearn\\metrics\\_classification.py:1531: UndefinedMetricWarning: Precision is ill-defined and being set to 0.0 in labels with no predicted samples. Use `zero_division` parameter to control this behavior.\n",
      "  _warn_prf(average, modifier, f\"{metric.capitalize()} is\", len(result))\n"
     ]
    },
    {
     "name": "stdout",
     "output_type": "stream",
     "text": [
      "2/2 [==============================] - 0s 11ms/steploss: 2.1416 - accuracy: 0.18\n",
      "Epoch 21 — F1: 0.2062, Precision: 0.4254, Recall: 0.2326\n",
      "85/85 [==============================] - 1s 7ms/step - loss: 2.1425 - accuracy: 0.1824 - val_loss: 2.1400 - val_accuracy: 0.2326\n",
      "Epoch 22/400\n",
      "31/85 [=========>....................] - ETA: 0s - loss: 2.1452 - accuracy: 0.1935"
     ]
    },
    {
     "name": "stderr",
     "output_type": "stream",
     "text": [
      "c:\\Users\\joshu\\anaconda3\\envs\\SuperBoop\\lib\\site-packages\\sklearn\\metrics\\_classification.py:1531: UndefinedMetricWarning: Precision is ill-defined and being set to 0.0 in labels with no predicted samples. Use `zero_division` parameter to control this behavior.\n",
      "  _warn_prf(average, modifier, f\"{metric.capitalize()} is\", len(result))\n"
     ]
    },
    {
     "name": "stdout",
     "output_type": "stream",
     "text": [
      "2/2 [==============================] - 0s 7ms/step loss: 2.1391 - accuracy: 0.19\n",
      "Epoch 22 — F1: 0.1560, Precision: 0.1271, Recall: 0.2093\n",
      "85/85 [==============================] - 1s 7ms/step - loss: 2.1401 - accuracy: 0.1882 - val_loss: 2.1329 - val_accuracy: 0.2093\n",
      "Epoch 23/400\n",
      "31/85 [=========>....................] - ETA: 0s - loss: 2.1446 - accuracy: 0.1935"
     ]
    },
    {
     "name": "stderr",
     "output_type": "stream",
     "text": [
      "c:\\Users\\joshu\\anaconda3\\envs\\SuperBoop\\lib\\site-packages\\sklearn\\metrics\\_classification.py:1531: UndefinedMetricWarning: Precision is ill-defined and being set to 0.0 in labels with no predicted samples. Use `zero_division` parameter to control this behavior.\n",
      "  _warn_prf(average, modifier, f\"{metric.capitalize()} is\", len(result))\n"
     ]
    },
    {
     "name": "stdout",
     "output_type": "stream",
     "text": [
      "2/2 [==============================] - 0s 10ms/steploss: 2.1352 - accuracy: 0.18\n",
      "Epoch 23 — F1: 0.1939, Precision: 0.1739, Recall: 0.2326\n",
      "85/85 [==============================] - 1s 7ms/step - loss: 2.1353 - accuracy: 0.1824 - val_loss: 2.1325 - val_accuracy: 0.2326\n",
      "Epoch 24/400\n",
      "31/85 [=========>....................] - ETA: 0s - loss: 2.1220 - accuracy: 0.2581"
     ]
    },
    {
     "name": "stderr",
     "output_type": "stream",
     "text": [
      "c:\\Users\\joshu\\anaconda3\\envs\\SuperBoop\\lib\\site-packages\\sklearn\\metrics\\_classification.py:1531: UndefinedMetricWarning: Precision is ill-defined and being set to 0.0 in labels with no predicted samples. Use `zero_division` parameter to control this behavior.\n",
      "  _warn_prf(average, modifier, f\"{metric.capitalize()} is\", len(result))\n"
     ]
    },
    {
     "name": "stdout",
     "output_type": "stream",
     "text": [
      "2/2 [==============================] - 0s 8ms/step loss: 2.1260 - accuracy: 0.23\n",
      "Epoch 24 — F1: 0.2278, Precision: 0.1925, Recall: 0.3023\n",
      "85/85 [==============================] - 1s 7ms/step - loss: 2.1254 - accuracy: 0.2412 - val_loss: 2.1195 - val_accuracy: 0.3023\n",
      "Epoch 25/400\n",
      "33/85 [==========>...................] - ETA: 0s - loss: 2.1265 - accuracy: 0.2121"
     ]
    },
    {
     "name": "stderr",
     "output_type": "stream",
     "text": [
      "c:\\Users\\joshu\\anaconda3\\envs\\SuperBoop\\lib\\site-packages\\sklearn\\metrics\\_classification.py:1531: UndefinedMetricWarning: Precision is ill-defined and being set to 0.0 in labels with no predicted samples. Use `zero_division` parameter to control this behavior.\n",
      "  _warn_prf(average, modifier, f\"{metric.capitalize()} is\", len(result))\n"
     ]
    },
    {
     "name": "stdout",
     "output_type": "stream",
     "text": [
      "2/2 [==============================] - 0s 12ms/steploss: 2.1246 - accuracy: 0.17\n",
      "Epoch 25 — F1: 0.1886, Precision: 0.1574, Recall: 0.2558\n",
      "85/85 [==============================] - 1s 7ms/step - loss: 2.1246 - accuracy: 0.1706 - val_loss: 2.1193 - val_accuracy: 0.2558\n",
      "Epoch 26/400\n",
      "33/85 [==========>...................] - ETA: 0s - loss: 2.1117 - accuracy: 0.1970"
     ]
    },
    {
     "name": "stderr",
     "output_type": "stream",
     "text": [
      "c:\\Users\\joshu\\anaconda3\\envs\\SuperBoop\\lib\\site-packages\\sklearn\\metrics\\_classification.py:1531: UndefinedMetricWarning: Precision is ill-defined and being set to 0.0 in labels with no predicted samples. Use `zero_division` parameter to control this behavior.\n",
      "  _warn_prf(average, modifier, f\"{metric.capitalize()} is\", len(result))\n"
     ]
    },
    {
     "name": "stdout",
     "output_type": "stream",
     "text": [
      "2/2 [==============================] - 0s 11ms/steploss: 2.1190 - accuracy: 0.18\n",
      "Epoch 26 — F1: 0.2259, Precision: 0.2242, Recall: 0.2791\n",
      "85/85 [==============================] - 1s 7ms/step - loss: 2.1192 - accuracy: 0.1824 - val_loss: 2.1132 - val_accuracy: 0.2791\n",
      "Epoch 27/400\n",
      "33/85 [==========>...................] - ETA: 0s - loss: 2.1116 - accuracy: 0.1818"
     ]
    },
    {
     "name": "stderr",
     "output_type": "stream",
     "text": [
      "c:\\Users\\joshu\\anaconda3\\envs\\SuperBoop\\lib\\site-packages\\sklearn\\metrics\\_classification.py:1531: UndefinedMetricWarning: Precision is ill-defined and being set to 0.0 in labels with no predicted samples. Use `zero_division` parameter to control this behavior.\n",
      "  _warn_prf(average, modifier, f\"{metric.capitalize()} is\", len(result))\n"
     ]
    },
    {
     "name": "stdout",
     "output_type": "stream",
     "text": [
      "2/2 [==============================] - 0s 13ms/steploss: 2.1152 - accuracy: 0.19\n",
      "Epoch 27 — F1: 0.2100, Precision: 0.2143, Recall: 0.2558\n",
      "85/85 [==============================] - 1s 7ms/step - loss: 2.1152 - accuracy: 0.1941 - val_loss: 2.1151 - val_accuracy: 0.2558\n",
      "Epoch 28/400\n",
      "31/85 [=========>....................] - ETA: 0s - loss: 2.1209 - accuracy: 0.1452"
     ]
    },
    {
     "name": "stderr",
     "output_type": "stream",
     "text": [
      "c:\\Users\\joshu\\anaconda3\\envs\\SuperBoop\\lib\\site-packages\\sklearn\\metrics\\_classification.py:1531: UndefinedMetricWarning: Precision is ill-defined and being set to 0.0 in labels with no predicted samples. Use `zero_division` parameter to control this behavior.\n",
      "  _warn_prf(average, modifier, f\"{metric.capitalize()} is\", len(result))\n"
     ]
    },
    {
     "name": "stdout",
     "output_type": "stream",
     "text": [
      "2/2 [==============================] - 0s 12ms/steploss: 2.1180 - accuracy: 0.17\n",
      "Epoch 28 — F1: 0.1800, Precision: 0.1794, Recall: 0.2558\n",
      "85/85 [==============================] - 1s 7ms/step - loss: 2.1164 - accuracy: 0.1765 - val_loss: 2.1080 - val_accuracy: 0.2558\n",
      "Epoch 29/400\n",
      "33/85 [==========>...................] - ETA: 0s - loss: 2.1022 - accuracy: 0.2273"
     ]
    },
    {
     "name": "stderr",
     "output_type": "stream",
     "text": [
      "c:\\Users\\joshu\\anaconda3\\envs\\SuperBoop\\lib\\site-packages\\sklearn\\metrics\\_classification.py:1531: UndefinedMetricWarning: Precision is ill-defined and being set to 0.0 in labels with no predicted samples. Use `zero_division` parameter to control this behavior.\n",
      "  _warn_prf(average, modifier, f\"{metric.capitalize()} is\", len(result))\n"
     ]
    },
    {
     "name": "stdout",
     "output_type": "stream",
     "text": [
      "2/2 [==============================] - 0s 12ms/steploss: 2.1065 - accuracy: 0.20\n",
      "Epoch 29 — F1: 0.1831, Precision: 0.1744, Recall: 0.2326\n",
      "85/85 [==============================] - 1s 7ms/step - loss: 2.1065 - accuracy: 0.2000 - val_loss: 2.1070 - val_accuracy: 0.2326\n",
      "Epoch 30/400\n",
      "33/85 [==========>...................] - ETA: 0s - loss: 2.1027 - accuracy: 0.2273"
     ]
    },
    {
     "name": "stderr",
     "output_type": "stream",
     "text": [
      "c:\\Users\\joshu\\anaconda3\\envs\\SuperBoop\\lib\\site-packages\\sklearn\\metrics\\_classification.py:1531: UndefinedMetricWarning: Precision is ill-defined and being set to 0.0 in labels with no predicted samples. Use `zero_division` parameter to control this behavior.\n",
      "  _warn_prf(average, modifier, f\"{metric.capitalize()} is\", len(result))\n"
     ]
    },
    {
     "name": "stdout",
     "output_type": "stream",
     "text": [
      "2/2 [==============================] - 0s 12ms/steploss: 2.1134 - accuracy: 0.19\n",
      "Epoch 30 — F1: 0.2154, Precision: 0.2496, Recall: 0.2791\n",
      "85/85 [==============================] - 1s 7ms/step - loss: 2.1122 - accuracy: 0.2000 - val_loss: 2.1037 - val_accuracy: 0.2791\n",
      "Epoch 31/400\n",
      "33/85 [==========>...................] - ETA: 0s - loss: 2.1101 - accuracy: 0.1970"
     ]
    },
    {
     "name": "stderr",
     "output_type": "stream",
     "text": [
      "c:\\Users\\joshu\\anaconda3\\envs\\SuperBoop\\lib\\site-packages\\sklearn\\metrics\\_classification.py:1531: UndefinedMetricWarning: Precision is ill-defined and being set to 0.0 in labels with no predicted samples. Use `zero_division` parameter to control this behavior.\n",
      "  _warn_prf(average, modifier, f\"{metric.capitalize()} is\", len(result))\n"
     ]
    },
    {
     "name": "stdout",
     "output_type": "stream",
     "text": [
      "2/2 [==============================] - 0s 17ms/steploss: 2.1123 - accuracy: 0.16\n",
      "Epoch 31 — F1: 0.1870, Precision: 0.2500, Recall: 0.2558\n",
      "85/85 [==============================] - 1s 7ms/step - loss: 2.1123 - accuracy: 0.1647 - val_loss: 2.0958 - val_accuracy: 0.2558\n",
      "Epoch 32/400\n",
      "32/85 [==========>...................] - ETA: 0s - loss: 2.1261 - accuracy: 0.0938"
     ]
    },
    {
     "name": "stderr",
     "output_type": "stream",
     "text": [
      "c:\\Users\\joshu\\anaconda3\\envs\\SuperBoop\\lib\\site-packages\\sklearn\\metrics\\_classification.py:1531: UndefinedMetricWarning: Precision is ill-defined and being set to 0.0 in labels with no predicted samples. Use `zero_division` parameter to control this behavior.\n",
      "  _warn_prf(average, modifier, f\"{metric.capitalize()} is\", len(result))\n"
     ]
    },
    {
     "name": "stdout",
     "output_type": "stream",
     "text": [
      "2/2 [==============================] - 0s 12ms/steploss: 2.1229 - accuracy: 0.14\n",
      "Epoch 32 — F1: 0.1354, Precision: 0.1401, Recall: 0.2326\n",
      "85/85 [==============================] - 1s 7ms/step - loss: 2.1234 - accuracy: 0.1471 - val_loss: 2.0933 - val_accuracy: 0.2326\n",
      "Epoch 33/400\n",
      "32/85 [==========>...................] - ETA: 0s - loss: 2.1088 - accuracy: 0.2031"
     ]
    },
    {
     "name": "stderr",
     "output_type": "stream",
     "text": [
      "c:\\Users\\joshu\\anaconda3\\envs\\SuperBoop\\lib\\site-packages\\sklearn\\metrics\\_classification.py:1531: UndefinedMetricWarning: Precision is ill-defined and being set to 0.0 in labels with no predicted samples. Use `zero_division` parameter to control this behavior.\n",
      "  _warn_prf(average, modifier, f\"{metric.capitalize()} is\", len(result))\n"
     ]
    },
    {
     "name": "stdout",
     "output_type": "stream",
     "text": [
      "2/2 [==============================] - 0s 14ms/steploss: 2.1093 - accuracy: 0.18\n",
      "Epoch 33 — F1: 0.2127, Precision: 0.2205, Recall: 0.2791\n",
      "85/85 [==============================] - 1s 7ms/step - loss: 2.1062 - accuracy: 0.2059 - val_loss: 2.1023 - val_accuracy: 0.2791\n",
      "Epoch 34/400\n",
      "33/85 [==========>...................] - ETA: 0s - loss: 2.0986 - accuracy: 0.2727"
     ]
    },
    {
     "name": "stderr",
     "output_type": "stream",
     "text": [
      "c:\\Users\\joshu\\anaconda3\\envs\\SuperBoop\\lib\\site-packages\\sklearn\\metrics\\_classification.py:1531: UndefinedMetricWarning: Precision is ill-defined and being set to 0.0 in labels with no predicted samples. Use `zero_division` parameter to control this behavior.\n",
      "  _warn_prf(average, modifier, f\"{metric.capitalize()} is\", len(result))\n"
     ]
    },
    {
     "name": "stdout",
     "output_type": "stream",
     "text": [
      "2/2 [==============================] - 0s 13ms/steploss: 2.1054 - accuracy: 0.22\n",
      "Epoch 34 — F1: 0.1442, Precision: 0.1244, Recall: 0.2093\n",
      "85/85 [==============================] - 1s 7ms/step - loss: 2.1058 - accuracy: 0.2235 - val_loss: 2.0895 - val_accuracy: 0.2093\n",
      "Epoch 35/400\n",
      "31/85 [=========>....................] - ETA: 0s - loss: 2.0948 - accuracy: 0.2903"
     ]
    },
    {
     "name": "stderr",
     "output_type": "stream",
     "text": [
      "c:\\Users\\joshu\\anaconda3\\envs\\SuperBoop\\lib\\site-packages\\sklearn\\metrics\\_classification.py:1531: UndefinedMetricWarning: Precision is ill-defined and being set to 0.0 in labels with no predicted samples. Use `zero_division` parameter to control this behavior.\n",
      "  _warn_prf(average, modifier, f\"{metric.capitalize()} is\", len(result))\n"
     ]
    },
    {
     "name": "stdout",
     "output_type": "stream",
     "text": [
      "2/2 [==============================] - 0s 12ms/steploss: 2.0998 - accuracy: 0.21\n",
      "Epoch 35 — F1: 0.2415, Precision: 0.3694, Recall: 0.3023\n",
      "85/85 [==============================] - 1s 7ms/step - loss: 2.0977 - accuracy: 0.2235 - val_loss: 2.0851 - val_accuracy: 0.3023\n",
      "Epoch 36/400\n",
      "32/85 [==========>...................] - ETA: 0s - loss: 2.0822 - accuracy: 0.2969"
     ]
    },
    {
     "name": "stderr",
     "output_type": "stream",
     "text": [
      "c:\\Users\\joshu\\anaconda3\\envs\\SuperBoop\\lib\\site-packages\\sklearn\\metrics\\_classification.py:1531: UndefinedMetricWarning: Precision is ill-defined and being set to 0.0 in labels with no predicted samples. Use `zero_division` parameter to control this behavior.\n",
      "  _warn_prf(average, modifier, f\"{metric.capitalize()} is\", len(result))\n"
     ]
    },
    {
     "name": "stdout",
     "output_type": "stream",
     "text": [
      "2/2 [==============================] - 0s 13ms/steploss: 2.0987 - accuracy: 0.22\n",
      "Epoch 36 — F1: 0.2918, Precision: 0.3248, Recall: 0.3256\n",
      "85/85 [==============================] - 1s 7ms/step - loss: 2.0987 - accuracy: 0.2294 - val_loss: 2.0824 - val_accuracy: 0.3256\n",
      "Epoch 37/400\n",
      "31/85 [=========>....................] - ETA: 0s - loss: 2.0919 - accuracy: 0.2742"
     ]
    },
    {
     "name": "stderr",
     "output_type": "stream",
     "text": [
      "c:\\Users\\joshu\\anaconda3\\envs\\SuperBoop\\lib\\site-packages\\sklearn\\metrics\\_classification.py:1531: UndefinedMetricWarning: Precision is ill-defined and being set to 0.0 in labels with no predicted samples. Use `zero_division` parameter to control this behavior.\n",
      "  _warn_prf(average, modifier, f\"{metric.capitalize()} is\", len(result))\n"
     ]
    },
    {
     "name": "stdout",
     "output_type": "stream",
     "text": [
      "2/2 [==============================] - 0s 10ms/steploss: 2.1024 - accuracy: 0.21\n",
      "Epoch 37 — F1: 0.2147, Precision: 0.2190, Recall: 0.2558\n",
      "85/85 [==============================] - 1s 7ms/step - loss: 2.1031 - accuracy: 0.2176 - val_loss: 2.0814 - val_accuracy: 0.2558\n",
      "Epoch 38/400\n",
      "31/85 [=========>....................] - ETA: 0s - loss: 2.1007 - accuracy: 0.1935"
     ]
    },
    {
     "name": "stderr",
     "output_type": "stream",
     "text": [
      "c:\\Users\\joshu\\anaconda3\\envs\\SuperBoop\\lib\\site-packages\\sklearn\\metrics\\_classification.py:1531: UndefinedMetricWarning: Precision is ill-defined and being set to 0.0 in labels with no predicted samples. Use `zero_division` parameter to control this behavior.\n",
      "  _warn_prf(average, modifier, f\"{metric.capitalize()} is\", len(result))\n"
     ]
    },
    {
     "name": "stdout",
     "output_type": "stream",
     "text": [
      "2/2 [==============================] - 0s 10ms/steploss: 2.0933 - accuracy: 0.24\n",
      "Epoch 38 — F1: 0.3065, Precision: 0.3664, Recall: 0.3256\n",
      "85/85 [==============================] - 1s 7ms/step - loss: 2.0936 - accuracy: 0.2412 - val_loss: 2.0846 - val_accuracy: 0.3023\n",
      "Epoch 39/400\n",
      "33/85 [==========>...................] - ETA: 0s - loss: 2.0979 - accuracy: 0.1818"
     ]
    },
    {
     "name": "stderr",
     "output_type": "stream",
     "text": [
      "c:\\Users\\joshu\\anaconda3\\envs\\SuperBoop\\lib\\site-packages\\sklearn\\metrics\\_classification.py:1531: UndefinedMetricWarning: Precision is ill-defined and being set to 0.0 in labels with no predicted samples. Use `zero_division` parameter to control this behavior.\n",
      "  _warn_prf(average, modifier, f\"{metric.capitalize()} is\", len(result))\n"
     ]
    },
    {
     "name": "stdout",
     "output_type": "stream",
     "text": [
      "2/2 [==============================] - 0s 14ms/steploss: 2.0876 - accuracy: 0.22\n",
      "Epoch 39 — F1: 0.1656, Precision: 0.2426, Recall: 0.2558\n",
      "85/85 [==============================] - 1s 7ms/step - loss: 2.0896 - accuracy: 0.2118 - val_loss: 2.0810 - val_accuracy: 0.2558\n",
      "Epoch 40/400\n",
      "33/85 [==========>...................] - ETA: 0s - loss: 2.0927 - accuracy: 0.2576"
     ]
    },
    {
     "name": "stderr",
     "output_type": "stream",
     "text": [
      "c:\\Users\\joshu\\anaconda3\\envs\\SuperBoop\\lib\\site-packages\\sklearn\\metrics\\_classification.py:1531: UndefinedMetricWarning: Precision is ill-defined and being set to 0.0 in labels with no predicted samples. Use `zero_division` parameter to control this behavior.\n",
      "  _warn_prf(average, modifier, f\"{metric.capitalize()} is\", len(result))\n"
     ]
    },
    {
     "name": "stdout",
     "output_type": "stream",
     "text": [
      "2/2 [==============================] - 0s 15ms/steploss: 2.0953 - accuracy: 0.24\n",
      "Epoch 40 — F1: 0.2243, Precision: 0.3077, Recall: 0.2558\n",
      "85/85 [==============================] - 1s 7ms/step - loss: 2.0960 - accuracy: 0.2412 - val_loss: 2.0813 - val_accuracy: 0.2558\n",
      "Epoch 41/400\n",
      "31/85 [=========>....................] - ETA: 0s - loss: 2.1005 - accuracy: 0.2258"
     ]
    },
    {
     "name": "stderr",
     "output_type": "stream",
     "text": [
      "c:\\Users\\joshu\\anaconda3\\envs\\SuperBoop\\lib\\site-packages\\sklearn\\metrics\\_classification.py:1531: UndefinedMetricWarning: Precision is ill-defined and being set to 0.0 in labels with no predicted samples. Use `zero_division` parameter to control this behavior.\n",
      "  _warn_prf(average, modifier, f\"{metric.capitalize()} is\", len(result))\n"
     ]
    },
    {
     "name": "stdout",
     "output_type": "stream",
     "text": [
      "2/2 [==============================] - 0s 11ms/steploss: 2.0925 - accuracy: 0.21\n",
      "Epoch 41 — F1: 0.2137, Precision: 0.2902, Recall: 0.2558\n",
      "85/85 [==============================] - 1s 7ms/step - loss: 2.0949 - accuracy: 0.2118 - val_loss: 2.0818 - val_accuracy: 0.2558\n",
      "Epoch 42/400\n",
      "32/85 [==========>...................] - ETA: 0s - loss: 2.0954 - accuracy: 0.1719"
     ]
    },
    {
     "name": "stderr",
     "output_type": "stream",
     "text": [
      "c:\\Users\\joshu\\anaconda3\\envs\\SuperBoop\\lib\\site-packages\\sklearn\\metrics\\_classification.py:1531: UndefinedMetricWarning: Precision is ill-defined and being set to 0.0 in labels with no predicted samples. Use `zero_division` parameter to control this behavior.\n",
      "  _warn_prf(average, modifier, f\"{metric.capitalize()} is\", len(result))\n"
     ]
    },
    {
     "name": "stdout",
     "output_type": "stream",
     "text": [
      "2/2 [==============================] - 0s 12ms/steploss: 2.0939 - accuracy: 0.18\n",
      "Epoch 42 — F1: 0.2143, Precision: 0.3381, Recall: 0.2558\n",
      "85/85 [==============================] - 1s 7ms/step - loss: 2.0942 - accuracy: 0.1882 - val_loss: 2.0735 - val_accuracy: 0.2558\n",
      "Epoch 43/400\n",
      "32/85 [==========>...................] - ETA: 0s - loss: 2.0836 - accuracy: 0.2344"
     ]
    },
    {
     "name": "stderr",
     "output_type": "stream",
     "text": [
      "c:\\Users\\joshu\\anaconda3\\envs\\SuperBoop\\lib\\site-packages\\sklearn\\metrics\\_classification.py:1531: UndefinedMetricWarning: Precision is ill-defined and being set to 0.0 in labels with no predicted samples. Use `zero_division` parameter to control this behavior.\n",
      "  _warn_prf(average, modifier, f\"{metric.capitalize()} is\", len(result))\n"
     ]
    },
    {
     "name": "stdout",
     "output_type": "stream",
     "text": [
      "2/2 [==============================] - 0s 7ms/step loss: 2.0835 - accuracy: 0.27\n",
      "Epoch 43 — F1: 0.1919, Precision: 0.2445, Recall: 0.2326\n",
      "85/85 [==============================] - 1s 7ms/step - loss: 2.0835 - accuracy: 0.2706 - val_loss: 2.0678 - val_accuracy: 0.2326\n",
      "Epoch 44/400\n",
      "31/85 [=========>....................] - ETA: 0s - loss: 2.0538 - accuracy: 0.2742"
     ]
    },
    {
     "name": "stderr",
     "output_type": "stream",
     "text": [
      "c:\\Users\\joshu\\anaconda3\\envs\\SuperBoop\\lib\\site-packages\\sklearn\\metrics\\_classification.py:1531: UndefinedMetricWarning: Precision is ill-defined and being set to 0.0 in labels with no predicted samples. Use `zero_division` parameter to control this behavior.\n",
      "  _warn_prf(average, modifier, f\"{metric.capitalize()} is\", len(result))\n"
     ]
    },
    {
     "name": "stdout",
     "output_type": "stream",
     "text": [
      "2/2 [==============================] - 0s 11ms/steploss: 2.0655 - accuracy: 0.24\n",
      "Epoch 44 — F1: 0.1507, Precision: 0.1934, Recall: 0.2093\n",
      "85/85 [==============================] - 1s 7ms/step - loss: 2.0695 - accuracy: 0.2353 - val_loss: 2.0760 - val_accuracy: 0.2093\n",
      "Epoch 45/400\n",
      "31/85 [=========>....................] - ETA: 0s - loss: 2.0636 - accuracy: 0.2419"
     ]
    },
    {
     "name": "stderr",
     "output_type": "stream",
     "text": [
      "c:\\Users\\joshu\\anaconda3\\envs\\SuperBoop\\lib\\site-packages\\sklearn\\metrics\\_classification.py:1531: UndefinedMetricWarning: Precision is ill-defined and being set to 0.0 in labels with no predicted samples. Use `zero_division` parameter to control this behavior.\n",
      "  _warn_prf(average, modifier, f\"{metric.capitalize()} is\", len(result))\n"
     ]
    },
    {
     "name": "stdout",
     "output_type": "stream",
     "text": [
      "2/2 [==============================] - 0s 12ms/steploss: 2.0791 - accuracy: 0.23\n",
      "Epoch 45 — F1: 0.2620, Precision: 0.3209, Recall: 0.3023\n",
      "85/85 [==============================] - 1s 7ms/step - loss: 2.0806 - accuracy: 0.2353 - val_loss: 2.0736 - val_accuracy: 0.3023\n",
      "Epoch 46/400\n",
      "31/85 [=========>....................] - ETA: 0s - loss: 2.0723 - accuracy: 0.2258"
     ]
    },
    {
     "name": "stderr",
     "output_type": "stream",
     "text": [
      "c:\\Users\\joshu\\anaconda3\\envs\\SuperBoop\\lib\\site-packages\\sklearn\\metrics\\_classification.py:1531: UndefinedMetricWarning: Precision is ill-defined and being set to 0.0 in labels with no predicted samples. Use `zero_division` parameter to control this behavior.\n",
      "  _warn_prf(average, modifier, f\"{metric.capitalize()} is\", len(result))\n"
     ]
    },
    {
     "name": "stdout",
     "output_type": "stream",
     "text": [
      "2/2 [==============================] - 0s 11ms/steploss: 2.0826 - accuracy: 0.20\n",
      "Epoch 46 — F1: 0.2450, Precision: 0.3775, Recall: 0.2791\n",
      "85/85 [==============================] - 1s 7ms/step - loss: 2.0824 - accuracy: 0.2059 - val_loss: 2.0718 - val_accuracy: 0.2791\n",
      "Epoch 47/400\n",
      "2/2 [==============================] - 0s 12ms/steploss: 2.0810 - accuracy: 0.19\n",
      "Epoch 47 — F1: 0.2266, Precision: 0.2292, Recall: 0.2791\n",
      "85/85 [==============================] - 1s 7ms/step - loss: 2.0829 - accuracy: 0.1941 - val_loss: 2.0703 - val_accuracy: 0.2791\n",
      "Epoch 48/400\n",
      "34/85 [===========>..................] - ETA: 0s - loss: 2.0650 - accuracy: 0.3088"
     ]
    },
    {
     "name": "stderr",
     "output_type": "stream",
     "text": [
      "c:\\Users\\joshu\\anaconda3\\envs\\SuperBoop\\lib\\site-packages\\sklearn\\metrics\\_classification.py:1531: UndefinedMetricWarning: Precision is ill-defined and being set to 0.0 in labels with no predicted samples. Use `zero_division` parameter to control this behavior.\n",
      "  _warn_prf(average, modifier, f\"{metric.capitalize()} is\", len(result))\n"
     ]
    },
    {
     "name": "stdout",
     "output_type": "stream",
     "text": [
      "2/2 [==============================] - 0s 11ms/steploss: 2.0626 - accuracy: 0.24\n",
      "Epoch 48 — F1: 0.1902, Precision: 0.2509, Recall: 0.2558\n",
      "85/85 [==============================] - 1s 7ms/step - loss: 2.0602 - accuracy: 0.2647 - val_loss: 2.0688 - val_accuracy: 0.2558\n",
      "Epoch 49/400\n",
      "31/85 [=========>....................] - ETA: 0s - loss: 2.0718 - accuracy: 0.2258"
     ]
    },
    {
     "name": "stderr",
     "output_type": "stream",
     "text": [
      "c:\\Users\\joshu\\anaconda3\\envs\\SuperBoop\\lib\\site-packages\\sklearn\\metrics\\_classification.py:1531: UndefinedMetricWarning: Precision is ill-defined and being set to 0.0 in labels with no predicted samples. Use `zero_division` parameter to control this behavior.\n",
      "  _warn_prf(average, modifier, f\"{metric.capitalize()} is\", len(result))\n"
     ]
    },
    {
     "name": "stdout",
     "output_type": "stream",
     "text": [
      "2/2 [==============================] - 0s 18ms/steploss: 2.0628 - accuracy: 0.23\n",
      "Epoch 49 — F1: 0.1555, Precision: 0.1434, Recall: 0.2326\n",
      "85/85 [==============================] - 1s 7ms/step - loss: 2.0624 - accuracy: 0.2294 - val_loss: 2.0625 - val_accuracy: 0.2326\n",
      "Epoch 50/400\n",
      "33/85 [==========>...................] - ETA: 0s - loss: 2.0914 - accuracy: 0.2121"
     ]
    },
    {
     "name": "stderr",
     "output_type": "stream",
     "text": [
      "c:\\Users\\joshu\\anaconda3\\envs\\SuperBoop\\lib\\site-packages\\sklearn\\metrics\\_classification.py:1531: UndefinedMetricWarning: Precision is ill-defined and being set to 0.0 in labels with no predicted samples. Use `zero_division` parameter to control this behavior.\n",
      "  _warn_prf(average, modifier, f\"{metric.capitalize()} is\", len(result))\n"
     ]
    },
    {
     "name": "stdout",
     "output_type": "stream",
     "text": [
      "2/2 [==============================] - 0s 8ms/step loss: 2.0859 - accuracy: 0.20\n",
      "Epoch 50 — F1: 0.1906, Precision: 0.1959, Recall: 0.2558\n",
      "85/85 [==============================] - 1s 7ms/step - loss: 2.0800 - accuracy: 0.2176 - val_loss: 2.0680 - val_accuracy: 0.2558\n",
      "Epoch 51/400\n",
      "32/85 [==========>...................] - ETA: 0s - loss: 2.0638 - accuracy: 0.2969"
     ]
    },
    {
     "name": "stderr",
     "output_type": "stream",
     "text": [
      "c:\\Users\\joshu\\anaconda3\\envs\\SuperBoop\\lib\\site-packages\\sklearn\\metrics\\_classification.py:1531: UndefinedMetricWarning: Precision is ill-defined and being set to 0.0 in labels with no predicted samples. Use `zero_division` parameter to control this behavior.\n",
      "  _warn_prf(average, modifier, f\"{metric.capitalize()} is\", len(result))\n"
     ]
    },
    {
     "name": "stdout",
     "output_type": "stream",
     "text": [
      "2/2 [==============================] - 0s 8ms/step loss: 2.0660 - accuracy: 0.24\n",
      "Epoch 51 — F1: 0.1763, Precision: 0.2474, Recall: 0.2326\n",
      "85/85 [==============================] - 1s 7ms/step - loss: 2.0697 - accuracy: 0.2412 - val_loss: 2.0706 - val_accuracy: 0.2326\n",
      "Epoch 52/400\n",
      "32/85 [==========>...................] - ETA: 0s - loss: 2.0599 - accuracy: 0.2344"
     ]
    },
    {
     "name": "stderr",
     "output_type": "stream",
     "text": [
      "c:\\Users\\joshu\\anaconda3\\envs\\SuperBoop\\lib\\site-packages\\sklearn\\metrics\\_classification.py:1531: UndefinedMetricWarning: Precision is ill-defined and being set to 0.0 in labels with no predicted samples. Use `zero_division` parameter to control this behavior.\n",
      "  _warn_prf(average, modifier, f\"{metric.capitalize()} is\", len(result))\n"
     ]
    },
    {
     "name": "stdout",
     "output_type": "stream",
     "text": [
      "2/2 [==============================] - 0s 7ms/step loss: 2.0649 - accuracy: 0.21\n",
      "Epoch 52 — F1: 0.2063, Precision: 0.3064, Recall: 0.2558\n",
      "85/85 [==============================] - 1s 7ms/step - loss: 2.0678 - accuracy: 0.2118 - val_loss: 2.0568 - val_accuracy: 0.2558\n",
      "Epoch 53/400\n",
      "32/85 [==========>...................] - ETA: 0s - loss: 2.0574 - accuracy: 0.2812"
     ]
    },
    {
     "name": "stderr",
     "output_type": "stream",
     "text": [
      "c:\\Users\\joshu\\anaconda3\\envs\\SuperBoop\\lib\\site-packages\\sklearn\\metrics\\_classification.py:1531: UndefinedMetricWarning: Precision is ill-defined and being set to 0.0 in labels with no predicted samples. Use `zero_division` parameter to control this behavior.\n",
      "  _warn_prf(average, modifier, f\"{metric.capitalize()} is\", len(result))\n"
     ]
    },
    {
     "name": "stdout",
     "output_type": "stream",
     "text": [
      "2/2 [==============================] - 0s 10ms/steploss: 2.0745 - accuracy: 0.24\n",
      "Epoch 53 — F1: 0.2292, Precision: 0.2275, Recall: 0.2791\n",
      "85/85 [==============================] - 1s 7ms/step - loss: 2.0728 - accuracy: 0.2471 - val_loss: 2.0638 - val_accuracy: 0.2791\n",
      "Epoch 54/400\n",
      "32/85 [==========>...................] - ETA: 0s - loss: 2.0451 - accuracy: 0.3750"
     ]
    },
    {
     "name": "stderr",
     "output_type": "stream",
     "text": [
      "c:\\Users\\joshu\\anaconda3\\envs\\SuperBoop\\lib\\site-packages\\sklearn\\metrics\\_classification.py:1531: UndefinedMetricWarning: Precision is ill-defined and being set to 0.0 in labels with no predicted samples. Use `zero_division` parameter to control this behavior.\n",
      "  _warn_prf(average, modifier, f\"{metric.capitalize()} is\", len(result))\n"
     ]
    },
    {
     "name": "stdout",
     "output_type": "stream",
     "text": [
      "2/2 [==============================] - 0s 11ms/steploss: 2.0626 - accuracy: 0.27\n",
      "Epoch 54 — F1: 0.2924, Precision: 0.4380, Recall: 0.3023\n",
      "85/85 [==============================] - 1s 7ms/step - loss: 2.0625 - accuracy: 0.2765 - val_loss: 2.0587 - val_accuracy: 0.3023\n",
      "Epoch 55/400\n",
      "2/2 [==============================] - 0s 12ms/steploss: 2.0722 - accuracy: 0.20\n",
      "Epoch 55 — F1: 0.1923, Precision: 0.2925, Recall: 0.2326\n",
      "85/85 [==============================] - 1s 7ms/step - loss: 2.0696 - accuracy: 0.2235 - val_loss: 2.0709 - val_accuracy: 0.2326\n",
      "Epoch 56/400\n",
      "2/2 [==============================] - 0s 13ms/steploss: 2.0523 - accuracy: 0.26\n",
      "Epoch 56 — F1: 0.2694, Precision: 0.3333, Recall: 0.3023\n",
      "85/85 [==============================] - 1s 7ms/step - loss: 2.0540 - accuracy: 0.2588 - val_loss: 2.0499 - val_accuracy: 0.3023\n",
      "Epoch 57/400\n",
      "2/2 [==============================] - 0s 17ms/steploss: 2.0630 - accuracy: 0.26\n",
      "Epoch 57 — F1: 0.2341, Precision: 0.3478, Recall: 0.2791\n",
      "85/85 [==============================] - 1s 7ms/step - loss: 2.0622 - accuracy: 0.2588 - val_loss: 2.0559 - val_accuracy: 0.2791\n",
      "Epoch 58/400\n",
      "2/2 [==============================] - 0s 10ms/steploss: 2.0677 - accuracy: 0.25\n",
      "Epoch 58 — F1: 0.3263, Precision: 0.4280, Recall: 0.3488\n",
      "85/85 [==============================] - 1s 7ms/step - loss: 2.0681 - accuracy: 0.2647 - val_loss: 2.0553 - val_accuracy: 0.3488\n",
      "Epoch 59/400\n",
      "2/2 [==============================] - 0s 12ms/steploss: 2.0537 - accuracy: 0.28\n",
      "Epoch 59 — F1: 0.2602, Precision: 0.3655, Recall: 0.3023\n",
      "85/85 [==============================] - 1s 7ms/step - loss: 2.0537 - accuracy: 0.2882 - val_loss: 2.0618 - val_accuracy: 0.3023\n",
      "Epoch 60/400\n",
      "34/85 [===========>..................] - ETA: 0s - loss: 2.0609 - accuracy: 0.2206"
     ]
    },
    {
     "name": "stderr",
     "output_type": "stream",
     "text": [
      "c:\\Users\\joshu\\anaconda3\\envs\\SuperBoop\\lib\\site-packages\\sklearn\\metrics\\_classification.py:1531: UndefinedMetricWarning: Precision is ill-defined and being set to 0.0 in labels with no predicted samples. Use `zero_division` parameter to control this behavior.\n",
      "  _warn_prf(average, modifier, f\"{metric.capitalize()} is\", len(result))\n"
     ]
    },
    {
     "name": "stdout",
     "output_type": "stream",
     "text": [
      "2/2 [==============================] - 0s 12ms/steploss: 2.0577 - accuracy: 0.24\n",
      "Epoch 60 — F1: 0.2277, Precision: 0.2516, Recall: 0.3023\n",
      "85/85 [==============================] - 1s 7ms/step - loss: 2.0529 - accuracy: 0.2471 - val_loss: 2.0458 - val_accuracy: 0.3023\n",
      "Epoch 61/400\n",
      "31/85 [=========>....................] - ETA: 0s - loss: 2.0480 - accuracy: 0.2903"
     ]
    },
    {
     "name": "stderr",
     "output_type": "stream",
     "text": [
      "c:\\Users\\joshu\\anaconda3\\envs\\SuperBoop\\lib\\site-packages\\sklearn\\metrics\\_classification.py:1531: UndefinedMetricWarning: Precision is ill-defined and being set to 0.0 in labels with no predicted samples. Use `zero_division` parameter to control this behavior.\n",
      "  _warn_prf(average, modifier, f\"{metric.capitalize()} is\", len(result))\n"
     ]
    },
    {
     "name": "stdout",
     "output_type": "stream",
     "text": [
      "2/2 [==============================] - 0s 11ms/steploss: 2.0473 - accuracy: 0.28\n",
      "Epoch 61 — F1: 0.3405, Precision: 0.5280, Recall: 0.3488\n",
      "85/85 [==============================] - 1s 7ms/step - loss: 2.0468 - accuracy: 0.2941 - val_loss: 2.0386 - val_accuracy: 0.3488\n",
      "Epoch 62/400\n",
      "2/2 [==============================] - 0s 16ms/steploss: 2.0466 - accuracy: 0.21\n",
      "Epoch 62 — F1: 0.2834, Precision: 0.3904, Recall: 0.3023\n",
      "85/85 [==============================] - 1s 7ms/step - loss: 2.0426 - accuracy: 0.2353 - val_loss: 2.0331 - val_accuracy: 0.3023\n",
      "Epoch 63/400\n",
      "2/2 [==============================] - 0s 7ms/step loss: 2.0483 - accuracy: 0.25\n",
      "Epoch 63 — F1: 0.1596, Precision: 0.1414, Recall: 0.2326\n",
      "85/85 [==============================] - 1s 7ms/step - loss: 2.0471 - accuracy: 0.2529 - val_loss: 2.0368 - val_accuracy: 0.2326\n",
      "Epoch 64/400\n",
      "34/85 [===========>..................] - ETA: 0s - loss: 2.0461 - accuracy: 0.1471"
     ]
    },
    {
     "name": "stderr",
     "output_type": "stream",
     "text": [
      "c:\\Users\\joshu\\anaconda3\\envs\\SuperBoop\\lib\\site-packages\\sklearn\\metrics\\_classification.py:1531: UndefinedMetricWarning: Precision is ill-defined and being set to 0.0 in labels with no predicted samples. Use `zero_division` parameter to control this behavior.\n",
      "  _warn_prf(average, modifier, f\"{metric.capitalize()} is\", len(result))\n"
     ]
    },
    {
     "name": "stdout",
     "output_type": "stream",
     "text": [
      "2/2 [==============================] - 0s 12ms/steploss: 2.0408 - accuracy: 0.21\n",
      "Epoch 64 — F1: 0.2221, Precision: 0.3214, Recall: 0.2558\n",
      "85/85 [==============================] - 1s 7ms/step - loss: 2.0447 - accuracy: 0.2059 - val_loss: 2.0478 - val_accuracy: 0.2558\n",
      "Epoch 65/400\n",
      "33/85 [==========>...................] - ETA: 0s - loss: 2.0298 - accuracy: 0.2273"
     ]
    },
    {
     "name": "stderr",
     "output_type": "stream",
     "text": [
      "c:\\Users\\joshu\\anaconda3\\envs\\SuperBoop\\lib\\site-packages\\sklearn\\metrics\\_classification.py:1531: UndefinedMetricWarning: Precision is ill-defined and being set to 0.0 in labels with no predicted samples. Use `zero_division` parameter to control this behavior.\n",
      "  _warn_prf(average, modifier, f\"{metric.capitalize()} is\", len(result))\n"
     ]
    },
    {
     "name": "stdout",
     "output_type": "stream",
     "text": [
      "2/2 [==============================] - 0s 11ms/steploss: 2.0503 - accuracy: 0.20\n",
      "Epoch 65 — F1: 0.2201, Precision: 0.2151, Recall: 0.2791\n",
      "85/85 [==============================] - 1s 7ms/step - loss: 2.0499 - accuracy: 0.2118 - val_loss: 2.0326 - val_accuracy: 0.2791\n",
      "Epoch 66/400\n",
      "33/85 [==========>...................] - ETA: 0s - loss: 2.0361 - accuracy: 0.2727"
     ]
    },
    {
     "name": "stderr",
     "output_type": "stream",
     "text": [
      "c:\\Users\\joshu\\anaconda3\\envs\\SuperBoop\\lib\\site-packages\\sklearn\\metrics\\_classification.py:1531: UndefinedMetricWarning: Precision is ill-defined and being set to 0.0 in labels with no predicted samples. Use `zero_division` parameter to control this behavior.\n",
      "  _warn_prf(average, modifier, f\"{metric.capitalize()} is\", len(result))\n"
     ]
    },
    {
     "name": "stdout",
     "output_type": "stream",
     "text": [
      "2/2 [==============================] - 0s 12ms/steploss: 2.0346 - accuracy: 0.26\n",
      "Epoch 66 — F1: 0.2372, Precision: 0.2848, Recall: 0.3023\n",
      "85/85 [==============================] - 1s 7ms/step - loss: 2.0349 - accuracy: 0.2824 - val_loss: 2.0261 - val_accuracy: 0.3023\n",
      "Epoch 67/400\n",
      "34/85 [===========>..................] - ETA: 0s - loss: 2.0375 - accuracy: 0.2206"
     ]
    },
    {
     "name": "stderr",
     "output_type": "stream",
     "text": [
      "c:\\Users\\joshu\\anaconda3\\envs\\SuperBoop\\lib\\site-packages\\sklearn\\metrics\\_classification.py:1531: UndefinedMetricWarning: Precision is ill-defined and being set to 0.0 in labels with no predicted samples. Use `zero_division` parameter to control this behavior.\n",
      "  _warn_prf(average, modifier, f\"{metric.capitalize()} is\", len(result))\n"
     ]
    },
    {
     "name": "stdout",
     "output_type": "stream",
     "text": [
      "2/2 [==============================] - 0s 14ms/steploss: 2.0446 - accuracy: 0.22\n",
      "Epoch 67 — F1: 0.2562, Precision: 0.2503, Recall: 0.3256\n",
      "85/85 [==============================] - 1s 7ms/step - loss: 2.0470 - accuracy: 0.2294 - val_loss: 2.0225 - val_accuracy: 0.3256\n",
      "Epoch 68/400\n",
      "32/85 [==========>...................] - ETA: 0s - loss: 1.9698 - accuracy: 0.3438"
     ]
    },
    {
     "name": "stderr",
     "output_type": "stream",
     "text": [
      "c:\\Users\\joshu\\anaconda3\\envs\\SuperBoop\\lib\\site-packages\\sklearn\\metrics\\_classification.py:1531: UndefinedMetricWarning: Precision is ill-defined and being set to 0.0 in labels with no predicted samples. Use `zero_division` parameter to control this behavior.\n",
      "  _warn_prf(average, modifier, f\"{metric.capitalize()} is\", len(result))\n"
     ]
    },
    {
     "name": "stdout",
     "output_type": "stream",
     "text": [
      "2/2 [==============================] - 0s 8ms/step loss: 1.9998 - accuracy: 0.28\n",
      "Epoch 68 — F1: 0.2442, Precision: 0.2722, Recall: 0.2791\n",
      "85/85 [==============================] - 1s 7ms/step - loss: 1.9998 - accuracy: 0.2824 - val_loss: 2.0364 - val_accuracy: 0.2791\n",
      "Epoch 69/400\n",
      "33/85 [==========>...................] - ETA: 0s - loss: 2.0256 - accuracy: 0.2121"
     ]
    },
    {
     "name": "stderr",
     "output_type": "stream",
     "text": [
      "c:\\Users\\joshu\\anaconda3\\envs\\SuperBoop\\lib\\site-packages\\sklearn\\metrics\\_classification.py:1531: UndefinedMetricWarning: Precision is ill-defined and being set to 0.0 in labels with no predicted samples. Use `zero_division` parameter to control this behavior.\n",
      "  _warn_prf(average, modifier, f\"{metric.capitalize()} is\", len(result))\n"
     ]
    },
    {
     "name": "stdout",
     "output_type": "stream",
     "text": [
      "2/2 [==============================] - 0s 14ms/steploss: 2.0208 - accuracy: 0.23\n",
      "Epoch 69 — F1: 0.2726, Precision: 0.3054, Recall: 0.3256\n",
      "85/85 [==============================] - 1s 7ms/step - loss: 2.0209 - accuracy: 0.2353 - val_loss: 2.0274 - val_accuracy: 0.3256\n",
      "Epoch 70/400\n",
      "2/2 [==============================] - 0s 12ms/steploss: 2.0337 - accuracy: 0.22\n",
      "Epoch 70 — F1: 0.1886, Precision: 0.2675, Recall: 0.2558\n",
      "85/85 [==============================] - 1s 7ms/step - loss: 2.0305 - accuracy: 0.2294 - val_loss: 2.0304 - val_accuracy: 0.2558\n",
      "Epoch 71/400\n",
      "32/85 [==========>...................] - ETA: 0s - loss: 2.0333 - accuracy: 0.2031"
     ]
    },
    {
     "name": "stderr",
     "output_type": "stream",
     "text": [
      "c:\\Users\\joshu\\anaconda3\\envs\\SuperBoop\\lib\\site-packages\\sklearn\\metrics\\_classification.py:1531: UndefinedMetricWarning: Precision is ill-defined and being set to 0.0 in labels with no predicted samples. Use `zero_division` parameter to control this behavior.\n",
      "  _warn_prf(average, modifier, f\"{metric.capitalize()} is\", len(result))\n"
     ]
    },
    {
     "name": "stdout",
     "output_type": "stream",
     "text": [
      "2/2 [==============================] - 0s 12ms/steploss: 2.0371 - accuracy: 0.22\n",
      "Epoch 71 — F1: 0.2557, Precision: 0.3143, Recall: 0.3023\n",
      "85/85 [==============================] - 1s 7ms/step - loss: 2.0356 - accuracy: 0.2294 - val_loss: 2.0257 - val_accuracy: 0.3023\n",
      "Epoch 72/400\n",
      "32/85 [==========>...................] - ETA: 0s - loss: 1.9815 - accuracy: 0.4062"
     ]
    },
    {
     "name": "stderr",
     "output_type": "stream",
     "text": [
      "c:\\Users\\joshu\\anaconda3\\envs\\SuperBoop\\lib\\site-packages\\sklearn\\metrics\\_classification.py:1531: UndefinedMetricWarning: Precision is ill-defined and being set to 0.0 in labels with no predicted samples. Use `zero_division` parameter to control this behavior.\n",
      "  _warn_prf(average, modifier, f\"{metric.capitalize()} is\", len(result))\n"
     ]
    },
    {
     "name": "stdout",
     "output_type": "stream",
     "text": [
      "2/2 [==============================] - 0s 12ms/steploss: 2.0220 - accuracy: 0.29\n",
      "Epoch 72 — F1: 0.3244, Precision: 0.4998, Recall: 0.3256\n",
      "85/85 [==============================] - 1s 7ms/step - loss: 2.0194 - accuracy: 0.3000 - val_loss: 2.0218 - val_accuracy: 0.3256\n",
      "Epoch 73/400\n",
      "2/2 [==============================] - 0s 7ms/step loss: 2.0525 - accuracy: 0.20\n",
      "Epoch 73 — F1: 0.2753, Precision: 0.2674, Recall: 0.3256\n",
      "85/85 [==============================] - 1s 7ms/step - loss: 2.0506 - accuracy: 0.2118 - val_loss: 2.0177 - val_accuracy: 0.3256\n",
      "Epoch 74/400\n",
      "32/85 [==========>...................] - ETA: 0s - loss: 2.0047 - accuracy: 0.3125"
     ]
    },
    {
     "name": "stderr",
     "output_type": "stream",
     "text": [
      "c:\\Users\\joshu\\anaconda3\\envs\\SuperBoop\\lib\\site-packages\\sklearn\\metrics\\_classification.py:1531: UndefinedMetricWarning: Precision is ill-defined and being set to 0.0 in labels with no predicted samples. Use `zero_division` parameter to control this behavior.\n",
      "  _warn_prf(average, modifier, f\"{metric.capitalize()} is\", len(result))\n"
     ]
    },
    {
     "name": "stdout",
     "output_type": "stream",
     "text": [
      "2/2 [==============================] - 0s 14ms/steploss: 2.0202 - accuracy: 0.26\n",
      "Epoch 74 — F1: 0.2993, Precision: 0.4459, Recall: 0.3488\n",
      "85/85 [==============================] - 1s 7ms/step - loss: 2.0238 - accuracy: 0.2588 - val_loss: 2.0148 - val_accuracy: 0.3488\n",
      "Epoch 75/400\n",
      "31/85 [=========>....................] - ETA: 0s - loss: 1.9995 - accuracy: 0.3548"
     ]
    },
    {
     "name": "stderr",
     "output_type": "stream",
     "text": [
      "c:\\Users\\joshu\\anaconda3\\envs\\SuperBoop\\lib\\site-packages\\sklearn\\metrics\\_classification.py:1531: UndefinedMetricWarning: Precision is ill-defined and being set to 0.0 in labels with no predicted samples. Use `zero_division` parameter to control this behavior.\n",
      "  _warn_prf(average, modifier, f\"{metric.capitalize()} is\", len(result))\n"
     ]
    },
    {
     "name": "stdout",
     "output_type": "stream",
     "text": [
      "2/2 [==============================] - 0s 11ms/steploss: 2.0191 - accuracy: 0.27\n",
      "Epoch 75 — F1: 0.1824, Precision: 0.1543, Recall: 0.2326\n",
      "85/85 [==============================] - 1s 7ms/step - loss: 2.0177 - accuracy: 0.2765 - val_loss: 2.0333 - val_accuracy: 0.2326\n",
      "Epoch 76/400\n",
      "32/85 [==========>...................] - ETA: 0s - loss: 2.0363 - accuracy: 0.2500"
     ]
    },
    {
     "name": "stderr",
     "output_type": "stream",
     "text": [
      "c:\\Users\\joshu\\anaconda3\\envs\\SuperBoop\\lib\\site-packages\\sklearn\\metrics\\_classification.py:1531: UndefinedMetricWarning: Precision is ill-defined and being set to 0.0 in labels with no predicted samples. Use `zero_division` parameter to control this behavior.\n",
      "  _warn_prf(average, modifier, f\"{metric.capitalize()} is\", len(result))\n"
     ]
    },
    {
     "name": "stdout",
     "output_type": "stream",
     "text": [
      "2/2 [==============================] - 0s 12ms/steploss: 2.0197 - accuracy: 0.24\n",
      "Epoch 76 — F1: 0.2966, Precision: 0.4282, Recall: 0.3488\n",
      "85/85 [==============================] - 1s 7ms/step - loss: 2.0205 - accuracy: 0.2412 - val_loss: 2.0083 - val_accuracy: 0.3488\n",
      "Epoch 77/400\n",
      "32/85 [==========>...................] - ETA: 0s - loss: 2.0185 - accuracy: 0.2188"
     ]
    },
    {
     "name": "stderr",
     "output_type": "stream",
     "text": [
      "c:\\Users\\joshu\\anaconda3\\envs\\SuperBoop\\lib\\site-packages\\sklearn\\metrics\\_classification.py:1531: UndefinedMetricWarning: Precision is ill-defined and being set to 0.0 in labels with no predicted samples. Use `zero_division` parameter to control this behavior.\n",
      "  _warn_prf(average, modifier, f\"{metric.capitalize()} is\", len(result))\n"
     ]
    },
    {
     "name": "stdout",
     "output_type": "stream",
     "text": [
      "2/2 [==============================] - 0s 15ms/steploss: 2.0115 - accuracy: 0.26\n",
      "Epoch 77 — F1: 0.2944, Precision: 0.3726, Recall: 0.3488\n",
      "85/85 [==============================] - 1s 7ms/step - loss: 2.0101 - accuracy: 0.2647 - val_loss: 2.0098 - val_accuracy: 0.3488\n",
      "Epoch 78/400\n",
      "32/85 [==========>...................] - ETA: 0s - loss: 2.0202 - accuracy: 0.2969"
     ]
    },
    {
     "name": "stderr",
     "output_type": "stream",
     "text": [
      "c:\\Users\\joshu\\anaconda3\\envs\\SuperBoop\\lib\\site-packages\\sklearn\\metrics\\_classification.py:1531: UndefinedMetricWarning: Precision is ill-defined and being set to 0.0 in labels with no predicted samples. Use `zero_division` parameter to control this behavior.\n",
      "  _warn_prf(average, modifier, f\"{metric.capitalize()} is\", len(result))\n"
     ]
    },
    {
     "name": "stdout",
     "output_type": "stream",
     "text": [
      "2/2 [==============================] - 0s 12ms/steploss: 1.9987 - accuracy: 0.35\n",
      "Epoch 78 — F1: 0.2390, Precision: 0.2024, Recall: 0.3023\n",
      "85/85 [==============================] - 1s 7ms/step - loss: 2.0003 - accuracy: 0.3471 - val_loss: 2.0146 - val_accuracy: 0.3023\n",
      "Epoch 79/400\n",
      "33/85 [==========>...................] - ETA: 0s - loss: 2.0019 - accuracy: 0.1818"
     ]
    },
    {
     "name": "stderr",
     "output_type": "stream",
     "text": [
      "c:\\Users\\joshu\\anaconda3\\envs\\SuperBoop\\lib\\site-packages\\sklearn\\metrics\\_classification.py:1531: UndefinedMetricWarning: Precision is ill-defined and being set to 0.0 in labels with no predicted samples. Use `zero_division` parameter to control this behavior.\n",
      "  _warn_prf(average, modifier, f\"{metric.capitalize()} is\", len(result))\n"
     ]
    },
    {
     "name": "stdout",
     "output_type": "stream",
     "text": [
      "2/2 [==============================] - 0s 12ms/steploss: 2.0144 - accuracy: 0.23\n",
      "Epoch 79 — F1: 0.2649, Precision: 0.2831, Recall: 0.3256\n",
      "85/85 [==============================] - 1s 7ms/step - loss: 2.0144 - accuracy: 0.2353 - val_loss: 1.9925 - val_accuracy: 0.3256\n",
      "Epoch 80/400\n",
      "32/85 [==========>...................] - ETA: 0s - loss: 2.0418 - accuracy: 0.2500"
     ]
    },
    {
     "name": "stderr",
     "output_type": "stream",
     "text": [
      "c:\\Users\\joshu\\anaconda3\\envs\\SuperBoop\\lib\\site-packages\\sklearn\\metrics\\_classification.py:1531: UndefinedMetricWarning: Precision is ill-defined and being set to 0.0 in labels with no predicted samples. Use `zero_division` parameter to control this behavior.\n",
      "  _warn_prf(average, modifier, f\"{metric.capitalize()} is\", len(result))\n"
     ]
    },
    {
     "name": "stdout",
     "output_type": "stream",
     "text": [
      "2/2 [==============================] - 0s 10ms/steploss: 2.0290 - accuracy: 0.25\n",
      "Epoch 80 — F1: 0.3090, Precision: 0.4219, Recall: 0.3488\n",
      "85/85 [==============================] - 1s 7ms/step - loss: 2.0277 - accuracy: 0.2588 - val_loss: 2.0049 - val_accuracy: 0.3721\n",
      "Epoch 81/400\n",
      "31/85 [=========>....................] - ETA: 0s - loss: 1.9743 - accuracy: 0.3065"
     ]
    },
    {
     "name": "stderr",
     "output_type": "stream",
     "text": [
      "c:\\Users\\joshu\\anaconda3\\envs\\SuperBoop\\lib\\site-packages\\sklearn\\metrics\\_classification.py:1531: UndefinedMetricWarning: Precision is ill-defined and being set to 0.0 in labels with no predicted samples. Use `zero_division` parameter to control this behavior.\n",
      "  _warn_prf(average, modifier, f\"{metric.capitalize()} is\", len(result))\n"
     ]
    },
    {
     "name": "stdout",
     "output_type": "stream",
     "text": [
      "2/2 [==============================] - 0s 12ms/steploss: 1.9884 - accuracy: 0.28\n",
      "Epoch 81 — F1: 0.2567, Precision: 0.2688, Recall: 0.3256\n",
      "85/85 [==============================] - 1s 7ms/step - loss: 1.9892 - accuracy: 0.2941 - val_loss: 1.9974 - val_accuracy: 0.3256\n",
      "Epoch 82/400\n",
      "32/85 [==========>...................] - ETA: 0s - loss: 2.0285 - accuracy: 0.2344"
     ]
    },
    {
     "name": "stderr",
     "output_type": "stream",
     "text": [
      "c:\\Users\\joshu\\anaconda3\\envs\\SuperBoop\\lib\\site-packages\\sklearn\\metrics\\_classification.py:1531: UndefinedMetricWarning: Precision is ill-defined and being set to 0.0 in labels with no predicted samples. Use `zero_division` parameter to control this behavior.\n",
      "  _warn_prf(average, modifier, f\"{metric.capitalize()} is\", len(result))\n"
     ]
    },
    {
     "name": "stdout",
     "output_type": "stream",
     "text": [
      "2/2 [==============================] - 0s 12ms/steploss: 1.9976 - accuracy: 0.31\n",
      "Epoch 82 — F1: 0.3236, Precision: 0.4936, Recall: 0.3488\n",
      "85/85 [==============================] - 1s 7ms/step - loss: 1.9979 - accuracy: 0.3176 - val_loss: 1.9968 - val_accuracy: 0.3488\n",
      "Epoch 83/400\n",
      "2/2 [==============================] - 0s 12ms/steploss: 1.9850 - accuracy: 0.31\n",
      "Epoch 83 — F1: 0.2457, Precision: 0.2455, Recall: 0.3023\n",
      "85/85 [==============================] - 1s 7ms/step - loss: 1.9862 - accuracy: 0.3118 - val_loss: 1.9928 - val_accuracy: 0.3023\n",
      "Epoch 84/400\n",
      "32/85 [==========>...................] - ETA: 0s - loss: 1.9842 - accuracy: 0.2344"
     ]
    },
    {
     "name": "stderr",
     "output_type": "stream",
     "text": [
      "c:\\Users\\joshu\\anaconda3\\envs\\SuperBoop\\lib\\site-packages\\sklearn\\metrics\\_classification.py:1531: UndefinedMetricWarning: Precision is ill-defined and being set to 0.0 in labels with no predicted samples. Use `zero_division` parameter to control this behavior.\n",
      "  _warn_prf(average, modifier, f\"{metric.capitalize()} is\", len(result))\n"
     ]
    },
    {
     "name": "stdout",
     "output_type": "stream",
     "text": [
      "2/2 [==============================] - 0s 11ms/steploss: 1.9804 - accuracy: 0.30\n",
      "Epoch 84 — F1: 0.3599, Precision: 0.5240, Recall: 0.3953\n",
      "85/85 [==============================] - 1s 7ms/step - loss: 1.9852 - accuracy: 0.2941 - val_loss: 1.9918 - val_accuracy: 0.3953\n",
      "Epoch 85/400\n",
      "2/2 [==============================] - 0s 12ms/steploss: 2.0019 - accuracy: 0.27\n",
      "Epoch 85 — F1: 0.3139, Precision: 0.3271, Recall: 0.3488\n",
      "85/85 [==============================] - 1s 7ms/step - loss: 2.0022 - accuracy: 0.2765 - val_loss: 1.9875 - val_accuracy: 0.3488\n",
      "Epoch 86/400\n",
      "2/2 [==============================] - 0s 17ms/steploss: 1.9857 - accuracy: 0.31\n",
      "Epoch 86 — F1: 0.2374, Precision: 0.2653, Recall: 0.3023\n",
      "85/85 [==============================] - 1s 7ms/step - loss: 1.9847 - accuracy: 0.3235 - val_loss: 1.9888 - val_accuracy: 0.3023\n",
      "Epoch 87/400\n",
      "33/85 [==========>...................] - ETA: 0s - loss: 1.9578 - accuracy: 0.2879"
     ]
    },
    {
     "name": "stderr",
     "output_type": "stream",
     "text": [
      "c:\\Users\\joshu\\anaconda3\\envs\\SuperBoop\\lib\\site-packages\\sklearn\\metrics\\_classification.py:1531: UndefinedMetricWarning: Precision is ill-defined and being set to 0.0 in labels with no predicted samples. Use `zero_division` parameter to control this behavior.\n",
      "  _warn_prf(average, modifier, f\"{metric.capitalize()} is\", len(result))\n"
     ]
    },
    {
     "name": "stdout",
     "output_type": "stream",
     "text": [
      "2/2 [==============================] - 0s 8ms/step loss: 1.9732 - accuracy: 0.29\n",
      "Epoch 87 — F1: 0.3191, Precision: 0.3386, Recall: 0.3721\n",
      "85/85 [==============================] - 1s 7ms/step - loss: 1.9732 - accuracy: 0.2941 - val_loss: 1.9918 - val_accuracy: 0.3721\n",
      "Epoch 88/400\n",
      "33/85 [==========>...................] - ETA: 0s - loss: 2.0038 - accuracy: 0.2273"
     ]
    },
    {
     "name": "stderr",
     "output_type": "stream",
     "text": [
      "c:\\Users\\joshu\\anaconda3\\envs\\SuperBoop\\lib\\site-packages\\sklearn\\metrics\\_classification.py:1531: UndefinedMetricWarning: Precision is ill-defined and being set to 0.0 in labels with no predicted samples. Use `zero_division` parameter to control this behavior.\n",
      "  _warn_prf(average, modifier, f\"{metric.capitalize()} is\", len(result))\n"
     ]
    },
    {
     "name": "stdout",
     "output_type": "stream",
     "text": [
      "2/2 [==============================] - 0s 7ms/step loss: 1.9958 - accuracy: 0.30\n",
      "Epoch 88 — F1: 0.3011, Precision: 0.3293, Recall: 0.3488\n",
      "85/85 [==============================] - 1s 7ms/step - loss: 1.9982 - accuracy: 0.3000 - val_loss: 1.9949 - val_accuracy: 0.3488\n",
      "Epoch 89/400\n",
      "34/85 [===========>..................] - ETA: 0s - loss: 1.9921 - accuracy: 0.2500"
     ]
    },
    {
     "name": "stderr",
     "output_type": "stream",
     "text": [
      "c:\\Users\\joshu\\anaconda3\\envs\\SuperBoop\\lib\\site-packages\\sklearn\\metrics\\_classification.py:1531: UndefinedMetricWarning: Precision is ill-defined and being set to 0.0 in labels with no predicted samples. Use `zero_division` parameter to control this behavior.\n",
      "  _warn_prf(average, modifier, f\"{metric.capitalize()} is\", len(result))\n"
     ]
    },
    {
     "name": "stdout",
     "output_type": "stream",
     "text": [
      "2/2 [==============================] - 0s 10ms/steploss: 1.9891 - accuracy: 0.25\n",
      "Epoch 89 — F1: 0.3320, Precision: 0.4045, Recall: 0.3721\n",
      "85/85 [==============================] - 1s 7ms/step - loss: 1.9904 - accuracy: 0.2529 - val_loss: 1.9961 - val_accuracy: 0.3721\n",
      "Epoch 90/400\n",
      "32/85 [==========>...................] - ETA: 0s - loss: 1.9338 - accuracy: 0.3438"
     ]
    },
    {
     "name": "stderr",
     "output_type": "stream",
     "text": [
      "c:\\Users\\joshu\\anaconda3\\envs\\SuperBoop\\lib\\site-packages\\sklearn\\metrics\\_classification.py:1531: UndefinedMetricWarning: Precision is ill-defined and being set to 0.0 in labels with no predicted samples. Use `zero_division` parameter to control this behavior.\n",
      "  _warn_prf(average, modifier, f\"{metric.capitalize()} is\", len(result))\n"
     ]
    },
    {
     "name": "stdout",
     "output_type": "stream",
     "text": [
      "2/2 [==============================] - 0s 15ms/steploss: 1.9762 - accuracy: 0.29\n",
      "Epoch 90 — F1: 0.2515, Precision: 0.2168, Recall: 0.3023\n",
      "85/85 [==============================] - 1s 7ms/step - loss: 1.9758 - accuracy: 0.2941 - val_loss: 2.0055 - val_accuracy: 0.3023\n",
      "Epoch 91/400\n",
      "32/85 [==========>...................] - ETA: 0s - loss: 1.9905 - accuracy: 0.2500"
     ]
    },
    {
     "name": "stderr",
     "output_type": "stream",
     "text": [
      "c:\\Users\\joshu\\anaconda3\\envs\\SuperBoop\\lib\\site-packages\\sklearn\\metrics\\_classification.py:1531: UndefinedMetricWarning: Precision is ill-defined and being set to 0.0 in labels with no predicted samples. Use `zero_division` parameter to control this behavior.\n",
      "  _warn_prf(average, modifier, f\"{metric.capitalize()} is\", len(result))\n"
     ]
    },
    {
     "name": "stdout",
     "output_type": "stream",
     "text": [
      "2/2 [==============================] - 0s 13ms/steploss: 1.9547 - accuracy: 0.32\n",
      "Epoch 91 — F1: 0.2901, Precision: 0.3044, Recall: 0.3488\n",
      "85/85 [==============================] - 1s 7ms/step - loss: 1.9575 - accuracy: 0.3235 - val_loss: 1.9708 - val_accuracy: 0.3488\n",
      "Epoch 92/400\n",
      "33/85 [==========>...................] - ETA: 0s - loss: 1.9683 - accuracy: 0.3030"
     ]
    },
    {
     "name": "stderr",
     "output_type": "stream",
     "text": [
      "c:\\Users\\joshu\\anaconda3\\envs\\SuperBoop\\lib\\site-packages\\sklearn\\metrics\\_classification.py:1531: UndefinedMetricWarning: Precision is ill-defined and being set to 0.0 in labels with no predicted samples. Use `zero_division` parameter to control this behavior.\n",
      "  _warn_prf(average, modifier, f\"{metric.capitalize()} is\", len(result))\n"
     ]
    },
    {
     "name": "stdout",
     "output_type": "stream",
     "text": [
      "2/2 [==============================] - 0s 12ms/steploss: 1.9637 - accuracy: 0.34\n",
      "Epoch 92 — F1: 0.2722, Precision: 0.2934, Recall: 0.3256\n",
      "85/85 [==============================] - 1s 7ms/step - loss: 1.9637 - accuracy: 0.3412 - val_loss: 1.9792 - val_accuracy: 0.3256\n",
      "Epoch 93/400\n",
      "32/85 [==========>...................] - ETA: 0s - loss: 1.9712 - accuracy: 0.2969"
     ]
    },
    {
     "name": "stderr",
     "output_type": "stream",
     "text": [
      "c:\\Users\\joshu\\anaconda3\\envs\\SuperBoop\\lib\\site-packages\\sklearn\\metrics\\_classification.py:1531: UndefinedMetricWarning: Precision is ill-defined and being set to 0.0 in labels with no predicted samples. Use `zero_division` parameter to control this behavior.\n",
      "  _warn_prf(average, modifier, f\"{metric.capitalize()} is\", len(result))\n"
     ]
    },
    {
     "name": "stdout",
     "output_type": "stream",
     "text": [
      "2/2 [==============================] - 0s 6ms/step loss: 1.9651 - accuracy: 0.30\n",
      "Epoch 93 — F1: 0.2605, Precision: 0.2383, Recall: 0.3256\n",
      "85/85 [==============================] - 1s 7ms/step - loss: 1.9662 - accuracy: 0.3000 - val_loss: 1.9918 - val_accuracy: 0.3256\n",
      "Epoch 94/400\n",
      "32/85 [==========>...................] - ETA: 0s - loss: 1.9329 - accuracy: 0.2500"
     ]
    },
    {
     "name": "stderr",
     "output_type": "stream",
     "text": [
      "c:\\Users\\joshu\\anaconda3\\envs\\SuperBoop\\lib\\site-packages\\sklearn\\metrics\\_classification.py:1531: UndefinedMetricWarning: Precision is ill-defined and being set to 0.0 in labels with no predicted samples. Use `zero_division` parameter to control this behavior.\n",
      "  _warn_prf(average, modifier, f\"{metric.capitalize()} is\", len(result))\n"
     ]
    },
    {
     "name": "stdout",
     "output_type": "stream",
     "text": [
      "2/2 [==============================] - 0s 12ms/steploss: 1.9678 - accuracy: 0.24\n",
      "Epoch 94 — F1: 0.3433, Precision: 0.4669, Recall: 0.3721\n",
      "85/85 [==============================] - 1s 7ms/step - loss: 1.9674 - accuracy: 0.2412 - val_loss: 1.9802 - val_accuracy: 0.3721\n",
      "Epoch 95/400\n",
      "2/2 [==============================] - 0s 13ms/steploss: 1.9481 - accuracy: 0.27\n",
      "Epoch 95 — F1: 0.2719, Precision: 0.2865, Recall: 0.3256\n",
      "85/85 [==============================] - 1s 7ms/step - loss: 1.9446 - accuracy: 0.2824 - val_loss: 1.9672 - val_accuracy: 0.3256\n",
      "Epoch 96/400\n",
      "32/85 [==========>...................] - ETA: 0s - loss: 1.9969 - accuracy: 0.2656"
     ]
    },
    {
     "name": "stderr",
     "output_type": "stream",
     "text": [
      "c:\\Users\\joshu\\anaconda3\\envs\\SuperBoop\\lib\\site-packages\\sklearn\\metrics\\_classification.py:1531: UndefinedMetricWarning: Precision is ill-defined and being set to 0.0 in labels with no predicted samples. Use `zero_division` parameter to control this behavior.\n",
      "  _warn_prf(average, modifier, f\"{metric.capitalize()} is\", len(result))\n"
     ]
    },
    {
     "name": "stdout",
     "output_type": "stream",
     "text": [
      "2/2 [==============================] - 0s 13ms/steploss: 1.9517 - accuracy: 0.31\n",
      "Epoch 96 — F1: 0.2979, Precision: 0.4466, Recall: 0.3488\n",
      "85/85 [==============================] - 1s 7ms/step - loss: 1.9594 - accuracy: 0.3118 - val_loss: 1.9591 - val_accuracy: 0.3488\n",
      "Epoch 97/400\n",
      "2/2 [==============================] - 0s 12ms/steploss: 1.9504 - accuracy: 0.36\n",
      "Epoch 97 — F1: 0.3414, Precision: 0.4920, Recall: 0.3488\n",
      "85/85 [==============================] - 1s 7ms/step - loss: 1.9568 - accuracy: 0.3471 - val_loss: 1.9660 - val_accuracy: 0.3488\n",
      "Epoch 98/400\n",
      "2/2 [==============================] - 0s 14ms/steploss: 1.9656 - accuracy: 0.30\n",
      "Epoch 98 — F1: 0.2757, Precision: 0.3054, Recall: 0.3256\n",
      "85/85 [==============================] - 1s 7ms/step - loss: 1.9656 - accuracy: 0.3059 - val_loss: 1.9553 - val_accuracy: 0.3256\n",
      "Epoch 99/400\n",
      "31/85 [=========>....................] - ETA: 0s - loss: 1.9389 - accuracy: 0.2742"
     ]
    },
    {
     "name": "stderr",
     "output_type": "stream",
     "text": [
      "c:\\Users\\joshu\\anaconda3\\envs\\SuperBoop\\lib\\site-packages\\sklearn\\metrics\\_classification.py:1531: UndefinedMetricWarning: Precision is ill-defined and being set to 0.0 in labels with no predicted samples. Use `zero_division` parameter to control this behavior.\n",
      "  _warn_prf(average, modifier, f\"{metric.capitalize()} is\", len(result))\n"
     ]
    },
    {
     "name": "stdout",
     "output_type": "stream",
     "text": [
      "2/2 [==============================] - 0s 12ms/steploss: 1.9480 - accuracy: 0.33\n",
      "Epoch 99 — F1: 0.2543, Precision: 0.2657, Recall: 0.3256\n",
      "85/85 [==============================] - 1s 7ms/step - loss: 1.9461 - accuracy: 0.3353 - val_loss: 1.9469 - val_accuracy: 0.3256\n",
      "Epoch 100/400\n",
      "31/85 [=========>....................] - ETA: 0s - loss: 1.9444 - accuracy: 0.2742"
     ]
    },
    {
     "name": "stderr",
     "output_type": "stream",
     "text": [
      "c:\\Users\\joshu\\anaconda3\\envs\\SuperBoop\\lib\\site-packages\\sklearn\\metrics\\_classification.py:1531: UndefinedMetricWarning: Precision is ill-defined and being set to 0.0 in labels with no predicted samples. Use `zero_division` parameter to control this behavior.\n",
      "  _warn_prf(average, modifier, f\"{metric.capitalize()} is\", len(result))\n"
     ]
    },
    {
     "name": "stdout",
     "output_type": "stream",
     "text": [
      "2/2 [==============================] - 0s 12ms/steploss: 1.9605 - accuracy: 0.27\n",
      "Epoch 100 — F1: 0.3306, Precision: 0.3829, Recall: 0.3721\n",
      "85/85 [==============================] - 1s 7ms/step - loss: 1.9587 - accuracy: 0.2824 - val_loss: 1.9435 - val_accuracy: 0.3721\n",
      "Epoch 101/400\n",
      "2/2 [==============================] - 0s 12ms/steploss: 1.9483 - accuracy: 0.31\n",
      "Epoch 101 — F1: 0.2609, Precision: 0.3390, Recall: 0.3256\n",
      "85/85 [==============================] - 1s 7ms/step - loss: 1.9483 - accuracy: 0.3176 - val_loss: 1.9485 - val_accuracy: 0.3256\n",
      "Epoch 102/400\n",
      "2/2 [==============================] - 0s 14ms/steploss: 1.9210 - accuracy: 0.35\n",
      "Epoch 102 — F1: 0.2246, Precision: 0.2284, Recall: 0.2791\n",
      "85/85 [==============================] - 1s 7ms/step - loss: 1.9219 - accuracy: 0.3588 - val_loss: 1.9725 - val_accuracy: 0.2791\n",
      "Epoch 103/400\n",
      "31/85 [=========>....................] - ETA: 0s - loss: 1.9776 - accuracy: 0.2581"
     ]
    },
    {
     "name": "stderr",
     "output_type": "stream",
     "text": [
      "c:\\Users\\joshu\\anaconda3\\envs\\SuperBoop\\lib\\site-packages\\sklearn\\metrics\\_classification.py:1531: UndefinedMetricWarning: Precision is ill-defined and being set to 0.0 in labels with no predicted samples. Use `zero_division` parameter to control this behavior.\n",
      "  _warn_prf(average, modifier, f\"{metric.capitalize()} is\", len(result))\n"
     ]
    },
    {
     "name": "stdout",
     "output_type": "stream",
     "text": [
      "2/2 [==============================] - 0s 14ms/steploss: 1.9494 - accuracy: 0.28\n",
      "Epoch 103 — F1: 0.3879, Precision: 0.5269, Recall: 0.4186\n",
      "85/85 [==============================] - 1s 7ms/step - loss: 1.9495 - accuracy: 0.2882 - val_loss: 1.9613 - val_accuracy: 0.4186\n",
      "Epoch 104/400\n",
      "2/2 [==============================] - 0s 18ms/steploss: 1.9266 - accuracy: 0.33\n",
      "Epoch 104 — F1: 0.2338, Precision: 0.2809, Recall: 0.3023\n",
      "85/85 [==============================] - 1s 7ms/step - loss: 1.9268 - accuracy: 0.3294 - val_loss: 1.9603 - val_accuracy: 0.3023\n",
      "Epoch 105/400\n",
      "33/85 [==========>...................] - ETA: 0s - loss: 1.9277 - accuracy: 0.2727"
     ]
    },
    {
     "name": "stderr",
     "output_type": "stream",
     "text": [
      "c:\\Users\\joshu\\anaconda3\\envs\\SuperBoop\\lib\\site-packages\\sklearn\\metrics\\_classification.py:1531: UndefinedMetricWarning: Precision is ill-defined and being set to 0.0 in labels with no predicted samples. Use `zero_division` parameter to control this behavior.\n",
      "  _warn_prf(average, modifier, f\"{metric.capitalize()} is\", len(result))\n"
     ]
    },
    {
     "name": "stdout",
     "output_type": "stream",
     "text": [
      "2/2 [==============================] - 0s 12ms/steploss: 1.9380 - accuracy: 0.28\n",
      "Epoch 105 — F1: 0.3158, Precision: 0.3208, Recall: 0.3721\n",
      "85/85 [==============================] - 1s 7ms/step - loss: 1.9268 - accuracy: 0.3059 - val_loss: 1.9520 - val_accuracy: 0.3721\n",
      "Epoch 106/400\n",
      "30/85 [=========>....................] - ETA: 0s - loss: 1.9374 - accuracy: 0.3833"
     ]
    },
    {
     "name": "stderr",
     "output_type": "stream",
     "text": [
      "c:\\Users\\joshu\\anaconda3\\envs\\SuperBoop\\lib\\site-packages\\sklearn\\metrics\\_classification.py:1531: UndefinedMetricWarning: Precision is ill-defined and being set to 0.0 in labels with no predicted samples. Use `zero_division` parameter to control this behavior.\n",
      "  _warn_prf(average, modifier, f\"{metric.capitalize()} is\", len(result))\n"
     ]
    },
    {
     "name": "stdout",
     "output_type": "stream",
     "text": [
      "2/2 [==============================] - 0s 10ms/steploss: 1.9410 - accuracy: 0.31\n",
      "Epoch 106 — F1: 0.1862, Precision: 0.4077, Recall: 0.2558\n",
      "85/85 [==============================] - 1s 7ms/step - loss: 1.9404 - accuracy: 0.3118 - val_loss: 1.9652 - val_accuracy: 0.2558\n",
      "Epoch 107/400\n",
      "31/85 [=========>....................] - ETA: 0s - loss: 1.9510 - accuracy: 0.2742"
     ]
    },
    {
     "name": "stderr",
     "output_type": "stream",
     "text": [
      "c:\\Users\\joshu\\anaconda3\\envs\\SuperBoop\\lib\\site-packages\\sklearn\\metrics\\_classification.py:1531: UndefinedMetricWarning: Precision is ill-defined and being set to 0.0 in labels with no predicted samples. Use `zero_division` parameter to control this behavior.\n",
      "  _warn_prf(average, modifier, f\"{metric.capitalize()} is\", len(result))\n"
     ]
    },
    {
     "name": "stdout",
     "output_type": "stream",
     "text": [
      "2/2 [==============================] - 0s 11ms/steploss: 1.9428 - accuracy: 0.30\n",
      "Epoch 107 — F1: 0.3261, Precision: 0.3496, Recall: 0.3721\n",
      "85/85 [==============================] - 1s 7ms/step - loss: 1.9425 - accuracy: 0.3059 - val_loss: 1.9472 - val_accuracy: 0.3721\n",
      "Epoch 108/400\n",
      "2/2 [==============================] - 0s 7ms/step loss: 1.9142 - accuracy: 0.34\n",
      "Epoch 108 — F1: 0.1887, Precision: 0.3472, Recall: 0.1860\n",
      "85/85 [==============================] - 1s 7ms/step - loss: 1.9152 - accuracy: 0.3471 - val_loss: 1.9763 - val_accuracy: 0.1860\n",
      "Epoch 109/400\n",
      "2/2 [==============================] - 0s 12ms/steploss: 1.9354 - accuracy: 0.30\n",
      "Epoch 109 — F1: 0.2585, Precision: 0.2761, Recall: 0.3023\n",
      "85/85 [==============================] - 1s 7ms/step - loss: 1.9289 - accuracy: 0.3118 - val_loss: 1.9412 - val_accuracy: 0.3023\n",
      "Epoch 110/400\n",
      "33/85 [==========>...................] - ETA: 0s - loss: 1.8984 - accuracy: 0.3636"
     ]
    },
    {
     "name": "stderr",
     "output_type": "stream",
     "text": [
      "c:\\Users\\joshu\\anaconda3\\envs\\SuperBoop\\lib\\site-packages\\sklearn\\metrics\\_classification.py:1531: UndefinedMetricWarning: Precision is ill-defined and being set to 0.0 in labels with no predicted samples. Use `zero_division` parameter to control this behavior.\n",
      "  _warn_prf(average, modifier, f\"{metric.capitalize()} is\", len(result))\n"
     ]
    },
    {
     "name": "stdout",
     "output_type": "stream",
     "text": [
      "2/2 [==============================] - 0s 16ms/steploss: 1.8889 - accuracy: 0.37\n",
      "Epoch 110 — F1: 0.3330, Precision: 0.4596, Recall: 0.3721\n",
      "85/85 [==============================] - 1s 7ms/step - loss: 1.8889 - accuracy: 0.3765 - val_loss: 1.9317 - val_accuracy: 0.3721\n",
      "Epoch 111/400\n",
      "2/2 [==============================] - 0s 6ms/step loss: 1.8721 - accuracy: 0.32\n",
      "Epoch 111 — F1: 0.3345, Precision: 0.3553, Recall: 0.3721\n",
      "85/85 [==============================] - 1s 7ms/step - loss: 1.8798 - accuracy: 0.3294 - val_loss: 1.9323 - val_accuracy: 0.3721\n",
      "Epoch 112/400\n",
      "2/2 [==============================] - 0s 13ms/steploss: 1.9015 - accuracy: 0.30\n",
      "Epoch 112 — F1: 0.3243, Precision: 0.3616, Recall: 0.3721\n",
      "85/85 [==============================] - 1s 7ms/step - loss: 1.9037 - accuracy: 0.3059 - val_loss: 1.9312 - val_accuracy: 0.3721\n",
      "Epoch 113/400\n",
      "2/2 [==============================] - 0s 12ms/steploss: 1.8762 - accuracy: 0.33\n",
      "Epoch 113 — F1: 0.2898, Precision: 0.3055, Recall: 0.3256\n",
      "85/85 [==============================] - 1s 7ms/step - loss: 1.8757 - accuracy: 0.3353 - val_loss: 1.9391 - val_accuracy: 0.3256\n",
      "Epoch 114/400\n",
      "32/85 [==========>...................] - ETA: 0s - loss: 1.9062 - accuracy: 0.3281"
     ]
    },
    {
     "name": "stderr",
     "output_type": "stream",
     "text": [
      "c:\\Users\\joshu\\anaconda3\\envs\\SuperBoop\\lib\\site-packages\\sklearn\\metrics\\_classification.py:1531: UndefinedMetricWarning: Precision is ill-defined and being set to 0.0 in labels with no predicted samples. Use `zero_division` parameter to control this behavior.\n",
      "  _warn_prf(average, modifier, f\"{metric.capitalize()} is\", len(result))\n"
     ]
    },
    {
     "name": "stdout",
     "output_type": "stream",
     "text": [
      "2/2 [==============================] - 0s 11ms/steploss: 1.9165 - accuracy: 0.33\n",
      "Epoch 114 — F1: 0.3044, Precision: 0.4432, Recall: 0.3023\n",
      "85/85 [==============================] - 1s 7ms/step - loss: 1.9137 - accuracy: 0.3412 - val_loss: 1.9486 - val_accuracy: 0.3023\n",
      "Epoch 115/400\n",
      "2/2 [==============================] - 0s 13ms/steploss: 1.9085 - accuracy: 0.31\n",
      "Epoch 115 — F1: 0.2638, Precision: 0.2831, Recall: 0.3256\n",
      "85/85 [==============================] - 1s 7ms/step - loss: 1.9104 - accuracy: 0.3118 - val_loss: 1.9371 - val_accuracy: 0.3256\n",
      "Epoch 116/400\n",
      "31/85 [=========>....................] - ETA: 0s - loss: 1.8451 - accuracy: 0.4032"
     ]
    },
    {
     "name": "stderr",
     "output_type": "stream",
     "text": [
      "c:\\Users\\joshu\\anaconda3\\envs\\SuperBoop\\lib\\site-packages\\sklearn\\metrics\\_classification.py:1531: UndefinedMetricWarning: Precision is ill-defined and being set to 0.0 in labels with no predicted samples. Use `zero_division` parameter to control this behavior.\n",
      "  _warn_prf(average, modifier, f\"{metric.capitalize()} is\", len(result))\n"
     ]
    },
    {
     "name": "stdout",
     "output_type": "stream",
     "text": [
      "2/2 [==============================] - 0s 12ms/steploss: 1.8465 - accuracy: 0.39\n",
      "Epoch 116 — F1: 0.3658, Precision: 0.4166, Recall: 0.3953\n",
      "85/85 [==============================] - 1s 7ms/step - loss: 1.8502 - accuracy: 0.3882 - val_loss: 1.9186 - val_accuracy: 0.3953\n",
      "Epoch 117/400\n",
      "2/2 [==============================] - 0s 17ms/steploss: 1.8653 - accuracy: 0.32\n",
      "Epoch 117 — F1: 0.2751, Precision: 0.3050, Recall: 0.3488\n",
      "85/85 [==============================] - 1s 7ms/step - loss: 1.8653 - accuracy: 0.3235 - val_loss: 1.9083 - val_accuracy: 0.3488\n",
      "Epoch 118/400\n",
      "2/2 [==============================] - 0s 13ms/steploss: 1.8916 - accuracy: 0.31\n",
      "Epoch 118 — F1: 0.2783, Precision: 0.3596, Recall: 0.3023\n",
      "85/85 [==============================] - 1s 7ms/step - loss: 1.8882 - accuracy: 0.3176 - val_loss: 1.9466 - val_accuracy: 0.3023\n",
      "Epoch 119/400\n",
      "34/85 [===========>..................] - ETA: 0s - loss: 1.8691 - accuracy: 0.3382"
     ]
    },
    {
     "name": "stderr",
     "output_type": "stream",
     "text": [
      "c:\\Users\\joshu\\anaconda3\\envs\\SuperBoop\\lib\\site-packages\\sklearn\\metrics\\_classification.py:1531: UndefinedMetricWarning: Precision is ill-defined and being set to 0.0 in labels with no predicted samples. Use `zero_division` parameter to control this behavior.\n",
      "  _warn_prf(average, modifier, f\"{metric.capitalize()} is\", len(result))\n"
     ]
    },
    {
     "name": "stdout",
     "output_type": "stream",
     "text": [
      "2/2 [==============================] - 0s 17ms/steploss: 1.8894 - accuracy: 0.33\n",
      "Epoch 119 — F1: 0.3885, Precision: 0.4703, Recall: 0.3953\n",
      "85/85 [==============================] - 1s 7ms/step - loss: 1.8798 - accuracy: 0.3471 - val_loss: 1.9049 - val_accuracy: 0.3953\n",
      "Epoch 120/400\n",
      "2/2 [==============================] - 0s 13ms/steploss: 1.9218 - accuracy: 0.30\n",
      "Epoch 120 — F1: 0.2888, Precision: 0.3349, Recall: 0.3488\n",
      "85/85 [==============================] - 1s 7ms/step - loss: 1.9201 - accuracy: 0.3059 - val_loss: 1.9057 - val_accuracy: 0.3488\n",
      "Epoch 121/400\n",
      "31/85 [=========>....................] - ETA: 0s - loss: 1.8590 - accuracy: 0.3226"
     ]
    },
    {
     "name": "stderr",
     "output_type": "stream",
     "text": [
      "c:\\Users\\joshu\\anaconda3\\envs\\SuperBoop\\lib\\site-packages\\sklearn\\metrics\\_classification.py:1531: UndefinedMetricWarning: Precision is ill-defined and being set to 0.0 in labels with no predicted samples. Use `zero_division` parameter to control this behavior.\n",
      "  _warn_prf(average, modifier, f\"{metric.capitalize()} is\", len(result))\n"
     ]
    },
    {
     "name": "stdout",
     "output_type": "stream",
     "text": [
      "2/2 [==============================] - 0s 8ms/step loss: 1.8748 - accuracy: 0.27\n",
      "Epoch 121 — F1: 0.3845, Precision: 0.5620, Recall: 0.4186\n",
      "85/85 [==============================] - 1s 7ms/step - loss: 1.8708 - accuracy: 0.2882 - val_loss: 1.9070 - val_accuracy: 0.4186\n",
      "Epoch 122/400\n",
      "2/2 [==============================] - 0s 12ms/steploss: 1.8616 - accuracy: 0.36\n",
      "Epoch 122 — F1: 0.2738, Precision: 0.2909, Recall: 0.3256\n",
      "85/85 [==============================] - 1s 7ms/step - loss: 1.8592 - accuracy: 0.3706 - val_loss: 1.9067 - val_accuracy: 0.3256\n",
      "Epoch 123/400\n",
      "32/85 [==========>...................] - ETA: 0s - loss: 1.8200 - accuracy: 0.3594"
     ]
    },
    {
     "name": "stderr",
     "output_type": "stream",
     "text": [
      "c:\\Users\\joshu\\anaconda3\\envs\\SuperBoop\\lib\\site-packages\\sklearn\\metrics\\_classification.py:1531: UndefinedMetricWarning: Precision is ill-defined and being set to 0.0 in labels with no predicted samples. Use `zero_division` parameter to control this behavior.\n",
      "  _warn_prf(average, modifier, f\"{metric.capitalize()} is\", len(result))\n"
     ]
    },
    {
     "name": "stdout",
     "output_type": "stream",
     "text": [
      "2/2 [==============================] - 0s 12ms/steploss: 1.8414 - accuracy: 0.37\n",
      "Epoch 123 — F1: 0.2465, Precision: 0.2746, Recall: 0.2791\n",
      "85/85 [==============================] - 1s 7ms/step - loss: 1.8397 - accuracy: 0.3647 - val_loss: 1.9197 - val_accuracy: 0.2791\n",
      "Epoch 124/400\n",
      "31/85 [=========>....................] - ETA: 0s - loss: 1.8652 - accuracy: 0.3548"
     ]
    },
    {
     "name": "stderr",
     "output_type": "stream",
     "text": [
      "c:\\Users\\joshu\\anaconda3\\envs\\SuperBoop\\lib\\site-packages\\sklearn\\metrics\\_classification.py:1531: UndefinedMetricWarning: Precision is ill-defined and being set to 0.0 in labels with no predicted samples. Use `zero_division` parameter to control this behavior.\n",
      "  _warn_prf(average, modifier, f\"{metric.capitalize()} is\", len(result))\n"
     ]
    },
    {
     "name": "stdout",
     "output_type": "stream",
     "text": [
      "2/2 [==============================] - 0s 10ms/steploss: 1.8752 - accuracy: 0.26\n",
      "Epoch 124 — F1: 0.3472, Precision: 0.5408, Recall: 0.3488\n",
      "85/85 [==============================] - 1s 7ms/step - loss: 1.8813 - accuracy: 0.2882 - val_loss: 1.9254 - val_accuracy: 0.3488\n",
      "Epoch 125/400\n",
      "2/2 [==============================] - 0s 16ms/steploss: 1.8749 - accuracy: 0.34\n",
      "Epoch 125 — F1: 0.2984, Precision: 0.3242, Recall: 0.3488\n",
      "85/85 [==============================] - 1s 7ms/step - loss: 1.8702 - accuracy: 0.3529 - val_loss: 1.8913 - val_accuracy: 0.3488\n",
      "Epoch 126/400\n",
      "2/2 [==============================] - 0s 12ms/steploss: 1.8093 - accuracy: 0.39\n",
      "Epoch 126 — F1: 0.3018, Precision: 0.2952, Recall: 0.3256\n",
      "85/85 [==============================] - 1s 7ms/step - loss: 1.8214 - accuracy: 0.3941 - val_loss: 1.9018 - val_accuracy: 0.3256\n",
      "Epoch 127/400\n",
      "31/85 [=========>....................] - ETA: 0s - loss: 1.8714 - accuracy: 0.2419"
     ]
    },
    {
     "name": "stderr",
     "output_type": "stream",
     "text": [
      "c:\\Users\\joshu\\anaconda3\\envs\\SuperBoop\\lib\\site-packages\\sklearn\\metrics\\_classification.py:1531: UndefinedMetricWarning: Precision is ill-defined and being set to 0.0 in labels with no predicted samples. Use `zero_division` parameter to control this behavior.\n",
      "  _warn_prf(average, modifier, f\"{metric.capitalize()} is\", len(result))\n"
     ]
    },
    {
     "name": "stdout",
     "output_type": "stream",
     "text": [
      "2/2 [==============================] - 0s 8ms/step loss: 1.8404 - accuracy: 0.29\n",
      "Epoch 127 — F1: 0.2766, Precision: 0.2792, Recall: 0.3023\n",
      "85/85 [==============================] - 1s 7ms/step - loss: 1.8425 - accuracy: 0.3000 - val_loss: 1.9130 - val_accuracy: 0.3023\n",
      "Epoch 128/400\n",
      "31/85 [=========>....................] - ETA: 0s - loss: 1.8614 - accuracy: 0.3065"
     ]
    },
    {
     "name": "stderr",
     "output_type": "stream",
     "text": [
      "c:\\Users\\joshu\\anaconda3\\envs\\SuperBoop\\lib\\site-packages\\sklearn\\metrics\\_classification.py:1531: UndefinedMetricWarning: Precision is ill-defined and being set to 0.0 in labels with no predicted samples. Use `zero_division` parameter to control this behavior.\n",
      "  _warn_prf(average, modifier, f\"{metric.capitalize()} is\", len(result))\n"
     ]
    },
    {
     "name": "stdout",
     "output_type": "stream",
     "text": [
      "2/2 [==============================] - 0s 8ms/step loss: 1.8617 - accuracy: 0.29\n",
      "Epoch 128 — F1: 0.2658, Precision: 0.3510, Recall: 0.3256\n",
      "85/85 [==============================] - 1s 7ms/step - loss: 1.8576 - accuracy: 0.3059 - val_loss: 1.8953 - val_accuracy: 0.3256\n",
      "Epoch 129/400\n",
      "31/85 [=========>....................] - ETA: 0s - loss: 1.8510 - accuracy: 0.3065"
     ]
    },
    {
     "name": "stderr",
     "output_type": "stream",
     "text": [
      "c:\\Users\\joshu\\anaconda3\\envs\\SuperBoop\\lib\\site-packages\\sklearn\\metrics\\_classification.py:1531: UndefinedMetricWarning: Precision is ill-defined and being set to 0.0 in labels with no predicted samples. Use `zero_division` parameter to control this behavior.\n",
      "  _warn_prf(average, modifier, f\"{metric.capitalize()} is\", len(result))\n"
     ]
    },
    {
     "name": "stdout",
     "output_type": "stream",
     "text": [
      "2/2 [==============================] - 0s 10ms/steploss: 1.8234 - accuracy: 0.30\n",
      "Epoch 129 — F1: 0.2472, Precision: 0.3108, Recall: 0.3256\n",
      "85/85 [==============================] - 1s 7ms/step - loss: 1.8260 - accuracy: 0.3176 - val_loss: 1.8902 - val_accuracy: 0.3256\n",
      "Epoch 130/400\n",
      "32/85 [==========>...................] - ETA: 0s - loss: 1.8735 - accuracy: 0.2656"
     ]
    },
    {
     "name": "stderr",
     "output_type": "stream",
     "text": [
      "c:\\Users\\joshu\\anaconda3\\envs\\SuperBoop\\lib\\site-packages\\sklearn\\metrics\\_classification.py:1531: UndefinedMetricWarning: Precision is ill-defined and being set to 0.0 in labels with no predicted samples. Use `zero_division` parameter to control this behavior.\n",
      "  _warn_prf(average, modifier, f\"{metric.capitalize()} is\", len(result))\n"
     ]
    },
    {
     "name": "stdout",
     "output_type": "stream",
     "text": [
      "2/2 [==============================] - 0s 11ms/steploss: 1.8608 - accuracy: 0.29\n",
      "Epoch 130 — F1: 0.3233, Precision: 0.3709, Recall: 0.3721\n",
      "85/85 [==============================] - 1s 7ms/step - loss: 1.8615 - accuracy: 0.2941 - val_loss: 1.8797 - val_accuracy: 0.3721\n",
      "Epoch 131/400\n",
      "31/85 [=========>....................] - ETA: 0s - loss: 1.7145 - accuracy: 0.4677"
     ]
    },
    {
     "name": "stderr",
     "output_type": "stream",
     "text": [
      "c:\\Users\\joshu\\anaconda3\\envs\\SuperBoop\\lib\\site-packages\\sklearn\\metrics\\_classification.py:1531: UndefinedMetricWarning: Precision is ill-defined and being set to 0.0 in labels with no predicted samples. Use `zero_division` parameter to control this behavior.\n",
      "  _warn_prf(average, modifier, f\"{metric.capitalize()} is\", len(result))\n"
     ]
    },
    {
     "name": "stdout",
     "output_type": "stream",
     "text": [
      "2/2 [==============================] - 0s 14ms/steploss: 1.7841 - accuracy: 0.32\n",
      "Epoch 131 — F1: 0.2974, Precision: 0.3398, Recall: 0.3023\n",
      "85/85 [==============================] - 1s 7ms/step - loss: 1.7897 - accuracy: 0.3118 - val_loss: 1.9167 - val_accuracy: 0.3023\n",
      "Epoch 132/400\n",
      "2/2 [==============================] - 0s 9ms/step loss: 1.8494 - accuracy: 0.35\n",
      "Epoch 132 — F1: 0.3310, Precision: 0.4196, Recall: 0.3721\n",
      "85/85 [==============================] - 1s 7ms/step - loss: 1.8431 - accuracy: 0.3529 - val_loss: 1.8817 - val_accuracy: 0.3721\n",
      "Epoch 133/400\n",
      "30/85 [=========>....................] - ETA: 0s - loss: 1.8401 - accuracy: 0.3167"
     ]
    },
    {
     "name": "stderr",
     "output_type": "stream",
     "text": [
      "c:\\Users\\joshu\\anaconda3\\envs\\SuperBoop\\lib\\site-packages\\sklearn\\metrics\\_classification.py:1531: UndefinedMetricWarning: Precision is ill-defined and being set to 0.0 in labels with no predicted samples. Use `zero_division` parameter to control this behavior.\n",
      "  _warn_prf(average, modifier, f\"{metric.capitalize()} is\", len(result))\n"
     ]
    },
    {
     "name": "stdout",
     "output_type": "stream",
     "text": [
      "2/2 [==============================] - 0s 15ms/steploss: 1.8469 - accuracy: 0.30\n",
      "Epoch 133 — F1: 0.3458, Precision: 0.3747, Recall: 0.3488\n",
      "85/85 [==============================] - 1s 7ms/step - loss: 1.8483 - accuracy: 0.2941 - val_loss: 1.9027 - val_accuracy: 0.3488\n",
      "Epoch 134/400\n",
      "2/2 [==============================] - 0s 12ms/steploss: 1.8249 - accuracy: 0.35\n",
      "Epoch 134 — F1: 0.2809, Precision: 0.3439, Recall: 0.2791\n",
      "85/85 [==============================] - 1s 7ms/step - loss: 1.8249 - accuracy: 0.3529 - val_loss: 1.9137 - val_accuracy: 0.2791\n",
      "Epoch 135/400\n",
      "2/2 [==============================] - 0s 14ms/steploss: 1.8341 - accuracy: 0.32\n",
      "Epoch 135 — F1: 0.3274, Precision: 0.3271, Recall: 0.3721\n",
      "85/85 [==============================] - 1s 7ms/step - loss: 1.8312 - accuracy: 0.3235 - val_loss: 1.8794 - val_accuracy: 0.3721\n",
      "Epoch 136/400\n",
      "32/85 [==========>...................] - ETA: 0s - loss: 1.7831 - accuracy: 0.3906"
     ]
    },
    {
     "name": "stderr",
     "output_type": "stream",
     "text": [
      "c:\\Users\\joshu\\anaconda3\\envs\\SuperBoop\\lib\\site-packages\\sklearn\\metrics\\_classification.py:1531: UndefinedMetricWarning: Precision is ill-defined and being set to 0.0 in labels with no predicted samples. Use `zero_division` parameter to control this behavior.\n",
      "  _warn_prf(average, modifier, f\"{metric.capitalize()} is\", len(result))\n"
     ]
    },
    {
     "name": "stdout",
     "output_type": "stream",
     "text": [
      "2/2 [==============================] - 0s 12ms/steploss: 1.8002 - accuracy: 0.35\n",
      "Epoch 136 — F1: 0.3216, Precision: 0.4160, Recall: 0.3256\n",
      "85/85 [==============================] - 1s 7ms/step - loss: 1.7988 - accuracy: 0.3588 - val_loss: 1.8961 - val_accuracy: 0.3256\n",
      "Epoch 137/400\n",
      "2/2 [==============================] - 0s 10ms/steploss: 1.7956 - accuracy: 0.35\n",
      "Epoch 137 — F1: 0.3502, Precision: 0.3570, Recall: 0.3953\n",
      "85/85 [==============================] - 1s 7ms/step - loss: 1.7955 - accuracy: 0.3471 - val_loss: 1.8722 - val_accuracy: 0.3953\n",
      "Epoch 138/400\n",
      "33/85 [==========>...................] - ETA: 0s - loss: 1.8117 - accuracy: 0.3030"
     ]
    },
    {
     "name": "stderr",
     "output_type": "stream",
     "text": [
      "c:\\Users\\joshu\\anaconda3\\envs\\SuperBoop\\lib\\site-packages\\sklearn\\metrics\\_classification.py:1531: UndefinedMetricWarning: Precision is ill-defined and being set to 0.0 in labels with no predicted samples. Use `zero_division` parameter to control this behavior.\n",
      "  _warn_prf(average, modifier, f\"{metric.capitalize()} is\", len(result))\n"
     ]
    },
    {
     "name": "stdout",
     "output_type": "stream",
     "text": [
      "2/2 [==============================] - 0s 12ms/steploss: 1.8059 - accuracy: 0.31\n",
      "Epoch 138 — F1: 0.3259, Precision: 0.3850, Recall: 0.3488\n",
      "85/85 [==============================] - 1s 7ms/step - loss: 1.8118 - accuracy: 0.3118 - val_loss: 1.8862 - val_accuracy: 0.3488\n",
      "Epoch 139/400\n",
      "2/2 [==============================] - 0s 7ms/step loss: 1.8118 - accuracy: 0.34\n",
      "Epoch 139 — F1: 0.3172, Precision: 0.4202, Recall: 0.3488\n",
      "85/85 [==============================] - 1s 7ms/step - loss: 1.8155 - accuracy: 0.3412 - val_loss: 1.8890 - val_accuracy: 0.3488\n",
      "Epoch 140/400\n",
      "2/2 [==============================] - 0s 12ms/steploss: 1.8141 - accuracy: 0.33\n",
      "Epoch 140 — F1: 0.3672, Precision: 0.4969, Recall: 0.3488\n",
      "85/85 [==============================] - 1s 7ms/step - loss: 1.8055 - accuracy: 0.3471 - val_loss: 1.8948 - val_accuracy: 0.3488\n",
      "Epoch 141/400\n",
      "2/2 [==============================] - 0s 15ms/steploss: 1.7682 - accuracy: 0.35\n",
      "Epoch 141 — F1: 0.2413, Precision: 0.2587, Recall: 0.2791\n",
      "85/85 [==============================] - 1s 7ms/step - loss: 1.7672 - accuracy: 0.3529 - val_loss: 1.8694 - val_accuracy: 0.2791\n",
      "Epoch 142/400\n",
      "32/85 [==========>...................] - ETA: 0s - loss: 1.7378 - accuracy: 0.4062"
     ]
    },
    {
     "name": "stderr",
     "output_type": "stream",
     "text": [
      "c:\\Users\\joshu\\anaconda3\\envs\\SuperBoop\\lib\\site-packages\\sklearn\\metrics\\_classification.py:1531: UndefinedMetricWarning: Precision is ill-defined and being set to 0.0 in labels with no predicted samples. Use `zero_division` parameter to control this behavior.\n",
      "  _warn_prf(average, modifier, f\"{metric.capitalize()} is\", len(result))\n"
     ]
    },
    {
     "name": "stdout",
     "output_type": "stream",
     "text": [
      "2/2 [==============================] - 0s 15ms/steploss: 1.7929 - accuracy: 0.36\n",
      "Epoch 142 — F1: 0.3149, Precision: 0.5073, Recall: 0.3256\n",
      "85/85 [==============================] - 1s 7ms/step - loss: 1.7866 - accuracy: 0.3706 - val_loss: 1.8771 - val_accuracy: 0.3256\n",
      "Epoch 143/400\n",
      "2/2 [==============================] - 0s 17ms/steploss: 1.7677 - accuracy: 0.34\n",
      "Epoch 143 — F1: 0.2676, Precision: 0.4700, Recall: 0.2791\n",
      "85/85 [==============================] - 1s 7ms/step - loss: 1.7692 - accuracy: 0.3353 - val_loss: 1.8990 - val_accuracy: 0.2791\n",
      "Epoch 144/400\n",
      "2/2 [==============================] - 0s 4ms/step loss: 1.7655 - accuracy: 0.33\n",
      "Epoch 144 — F1: 0.2564, Precision: 0.2608, Recall: 0.2791\n",
      "85/85 [==============================] - 1s 7ms/step - loss: 1.7506 - accuracy: 0.3353 - val_loss: 1.8879 - val_accuracy: 0.2791\n",
      "Epoch 145/400\n",
      "31/85 [=========>....................] - ETA: 0s - loss: 1.7768 - accuracy: 0.3871"
     ]
    },
    {
     "name": "stderr",
     "output_type": "stream",
     "text": [
      "c:\\Users\\joshu\\anaconda3\\envs\\SuperBoop\\lib\\site-packages\\sklearn\\metrics\\_classification.py:1531: UndefinedMetricWarning: Precision is ill-defined and being set to 0.0 in labels with no predicted samples. Use `zero_division` parameter to control this behavior.\n",
      "  _warn_prf(average, modifier, f\"{metric.capitalize()} is\", len(result))\n"
     ]
    },
    {
     "name": "stdout",
     "output_type": "stream",
     "text": [
      "2/2 [==============================] - 0s 10ms/steploss: 1.7758 - accuracy: 0.34\n",
      "Epoch 145 — F1: 0.2214, Precision: 0.2802, Recall: 0.3023\n",
      "85/85 [==============================] - 1s 7ms/step - loss: 1.7733 - accuracy: 0.3588 - val_loss: 1.8974 - val_accuracy: 0.3023\n",
      "Epoch 146/400\n",
      "2/2 [==============================] - 0s 13ms/steploss: 1.7738 - accuracy: 0.38\n",
      "Epoch 146 — F1: 0.3328, Precision: 0.5189, Recall: 0.3721\n",
      "85/85 [==============================] - 1s 7ms/step - loss: 1.7738 - accuracy: 0.3824 - val_loss: 1.8639 - val_accuracy: 0.3721\n",
      "Epoch 147/400\n",
      "2/2 [==============================] - 0s 13ms/steploss: 1.7656 - accuracy: 0.33\n",
      "Epoch 147 — F1: 0.2375, Precision: 0.2377, Recall: 0.2558\n",
      "85/85 [==============================] - 1s 7ms/step - loss: 1.7608 - accuracy: 0.3471 - val_loss: 1.8799 - val_accuracy: 0.2558\n",
      "Epoch 148/400\n",
      "30/85 [=========>....................] - ETA: 0s - loss: 1.7756 - accuracy: 0.3833"
     ]
    },
    {
     "name": "stderr",
     "output_type": "stream",
     "text": [
      "c:\\Users\\joshu\\anaconda3\\envs\\SuperBoop\\lib\\site-packages\\sklearn\\metrics\\_classification.py:1531: UndefinedMetricWarning: Precision is ill-defined and being set to 0.0 in labels with no predicted samples. Use `zero_division` parameter to control this behavior.\n",
      "  _warn_prf(average, modifier, f\"{metric.capitalize()} is\", len(result))\n"
     ]
    },
    {
     "name": "stdout",
     "output_type": "stream",
     "text": [
      "2/2 [==============================] - 0s 12ms/steploss: 1.7595 - accuracy: 0.38\n",
      "Epoch 148 — F1: 0.3411, Precision: 0.5209, Recall: 0.3721\n",
      "85/85 [==============================] - 1s 7ms/step - loss: 1.7682 - accuracy: 0.3706 - val_loss: 1.8865 - val_accuracy: 0.3721\n",
      "Epoch 149/400\n",
      "2/2 [==============================] - 0s 12ms/steploss: 1.7280 - accuracy: 0.39\n",
      "Epoch 149 — F1: 0.2724, Precision: 0.2912, Recall: 0.2791\n",
      "85/85 [==============================] - 1s 7ms/step - loss: 1.7285 - accuracy: 0.3941 - val_loss: 1.8863 - val_accuracy: 0.2791\n",
      "Epoch 150/400\n",
      "2/2 [==============================] - 0s 13ms/steploss: 1.7535 - accuracy: 0.36\n",
      "Epoch 150 — F1: 0.2878, Precision: 0.2941, Recall: 0.3023\n",
      "85/85 [==============================] - 1s 7ms/step - loss: 1.7557 - accuracy: 0.3588 - val_loss: 1.8493 - val_accuracy: 0.3023\n",
      "Epoch 151/400\n",
      "32/85 [==========>...................] - ETA: 0s - loss: 1.6570 - accuracy: 0.5000"
     ]
    },
    {
     "name": "stderr",
     "output_type": "stream",
     "text": [
      "c:\\Users\\joshu\\anaconda3\\envs\\SuperBoop\\lib\\site-packages\\sklearn\\metrics\\_classification.py:1531: UndefinedMetricWarning: Precision is ill-defined and being set to 0.0 in labels with no predicted samples. Use `zero_division` parameter to control this behavior.\n",
      "  _warn_prf(average, modifier, f\"{metric.capitalize()} is\", len(result))\n"
     ]
    },
    {
     "name": "stdout",
     "output_type": "stream",
     "text": [
      "2/2 [==============================] - 0s 7ms/step loss: 1.7242 - accuracy: 0.43\n",
      "Epoch 151 — F1: 0.3542, Precision: 0.4551, Recall: 0.3488\n",
      "85/85 [==============================] - 1s 7ms/step - loss: 1.7309 - accuracy: 0.4353 - val_loss: 1.8668 - val_accuracy: 0.3488\n",
      "Epoch 152/400\n",
      "2/2 [==============================] - 0s 13ms/steploss: 1.7547 - accuracy: 0.31\n",
      "Epoch 152 — F1: 0.2965, Precision: 0.4782, Recall: 0.3023\n",
      "85/85 [==============================] - 1s 7ms/step - loss: 1.7484 - accuracy: 0.3294 - val_loss: 1.8782 - val_accuracy: 0.3023\n",
      "Epoch 153/400\n",
      "2/2 [==============================] - 0s 16ms/steploss: 1.6874 - accuracy: 0.45\n",
      "Epoch 153 — F1: 0.3056, Precision: 0.3902, Recall: 0.3256\n",
      "85/85 [==============================] - 1s 7ms/step - loss: 1.7037 - accuracy: 0.4353 - val_loss: 1.8798 - val_accuracy: 0.3256\n",
      "Epoch 154/400\n",
      "2/2 [==============================] - 0s 15ms/steploss: 1.7368 - accuracy: 0.42\n",
      "Epoch 154 — F1: 0.3360, Precision: 0.4483, Recall: 0.3488\n",
      "85/85 [==============================] - 1s 7ms/step - loss: 1.7404 - accuracy: 0.4235 - val_loss: 1.9020 - val_accuracy: 0.3488\n",
      "Epoch 155/400\n",
      "2/2 [==============================] - 0s 7ms/step loss: 1.7349 - accuracy: 0.36\n",
      "Epoch 155 — F1: 0.3291, Precision: 0.5200, Recall: 0.3721\n",
      "85/85 [==============================] - 1s 7ms/step - loss: 1.7377 - accuracy: 0.3588 - val_loss: 1.9268 - val_accuracy: 0.3721\n",
      "Epoch 156/400\n",
      "2/2 [==============================] - 0s 13ms/steploss: 1.7707 - accuracy: 0.31\n",
      "Epoch 156 — F1: 0.3113, Precision: 0.4231, Recall: 0.3256\n",
      "85/85 [==============================] - 1s 7ms/step - loss: 1.7633 - accuracy: 0.3235 - val_loss: 1.8688 - val_accuracy: 0.3256\n",
      "Epoch 157/400\n",
      "2/2 [==============================] - 0s 14ms/steploss: 1.7514 - accuracy: 0.30\n",
      "Epoch 157 — F1: 0.2625, Precision: 0.3491, Recall: 0.2791\n",
      "85/85 [==============================] - 1s 7ms/step - loss: 1.7562 - accuracy: 0.3000 - val_loss: 1.8729 - val_accuracy: 0.2791\n",
      "Epoch 158/400\n",
      "2/2 [==============================] - 0s 12ms/steploss: 1.7222 - accuracy: 0.44\n",
      "Epoch 158 — F1: 0.2973, Precision: 0.3786, Recall: 0.3256\n",
      "85/85 [==============================] - 1s 7ms/step - loss: 1.7222 - accuracy: 0.4412 - val_loss: 1.8807 - val_accuracy: 0.3256\n",
      "Epoch 159/400\n",
      "2/2 [==============================] - 0s 9ms/step loss: 1.7245 - accuracy: 0.37\n",
      "Epoch 159 — F1: 0.2538, Precision: 0.3331, Recall: 0.3023\n",
      "85/85 [==============================] - 1s 7ms/step - loss: 1.7242 - accuracy: 0.3765 - val_loss: 1.9025 - val_accuracy: 0.3023\n",
      "Epoch 160/400\n",
      "33/85 [==========>...................] - ETA: 0s - loss: 1.7158 - accuracy: 0.3939"
     ]
    },
    {
     "name": "stderr",
     "output_type": "stream",
     "text": [
      "c:\\Users\\joshu\\anaconda3\\envs\\SuperBoop\\lib\\site-packages\\sklearn\\metrics\\_classification.py:1531: UndefinedMetricWarning: Precision is ill-defined and being set to 0.0 in labels with no predicted samples. Use `zero_division` parameter to control this behavior.\n",
      "  _warn_prf(average, modifier, f\"{metric.capitalize()} is\", len(result))\n"
     ]
    },
    {
     "name": "stdout",
     "output_type": "stream",
     "text": [
      "2/2 [==============================] - 0s 14ms/steploss: 1.7135 - accuracy: 0.37\n",
      "Epoch 160 — F1: 0.3108, Precision: 0.4922, Recall: 0.3256\n",
      "85/85 [==============================] - 1s 7ms/step - loss: 1.7135 - accuracy: 0.3706 - val_loss: 1.8719 - val_accuracy: 0.3256\n",
      "Epoch 161/400\n",
      "2/2 [==============================] - 0s 13ms/steploss: 1.6970 - accuracy: 0.38\n",
      "Epoch 161 — F1: 0.1498, Precision: 0.1571, Recall: 0.1628\n",
      "85/85 [==============================] - 1s 7ms/step - loss: 1.6960 - accuracy: 0.3824 - val_loss: 1.9067 - val_accuracy: 0.1628\n",
      "Epoch 162/400\n",
      "2/2 [==============================] - 0s 12ms/steploss: 1.6987 - accuracy: 0.35\n",
      "Epoch 162 — F1: 0.2937, Precision: 0.3321, Recall: 0.3023\n",
      "85/85 [==============================] - 1s 7ms/step - loss: 1.7015 - accuracy: 0.3529 - val_loss: 1.8835 - val_accuracy: 0.3023\n",
      "Epoch 163/400\n",
      "2/2 [==============================] - 0s 17ms/steploss: 1.7274 - accuracy: 0.39\n",
      "Epoch 163 — F1: 0.3600, Precision: 0.4059, Recall: 0.3721\n",
      "85/85 [==============================] - 1s 7ms/step - loss: 1.7290 - accuracy: 0.3882 - val_loss: 1.8615 - val_accuracy: 0.3488\n",
      "Epoch 164/400\n",
      "2/2 [==============================] - 0s 17ms/steploss: 1.7289 - accuracy: 0.38\n",
      "Epoch 164 — F1: 0.2523, Precision: 0.2457, Recall: 0.2791\n",
      "85/85 [==============================] - 1s 7ms/step - loss: 1.7333 - accuracy: 0.3882 - val_loss: 1.8774 - val_accuracy: 0.2791\n",
      "Epoch 165/400\n",
      "2/2 [==============================] - 0s 7ms/step loss: 1.7428 - accuracy: 0.35\n",
      "Epoch 165 — F1: 0.3289, Precision: 0.4496, Recall: 0.3488\n",
      "85/85 [==============================] - 1s 7ms/step - loss: 1.7455 - accuracy: 0.3471 - val_loss: 1.9038 - val_accuracy: 0.3488\n",
      "Epoch 166/400\n",
      "2/2 [==============================] - 0s 7ms/step loss: 1.6764 - accuracy: 0.38\n",
      "Epoch 166 — F1: 0.3153, Precision: 0.3658, Recall: 0.3488\n",
      "85/85 [==============================] - 1s 7ms/step - loss: 1.6764 - accuracy: 0.3824 - val_loss: 1.9232 - val_accuracy: 0.3488\n",
      "Epoch 167/400\n",
      "32/85 [==========>...................] - ETA: 0s - loss: 1.7239 - accuracy: 0.3438"
     ]
    },
    {
     "name": "stderr",
     "output_type": "stream",
     "text": [
      "c:\\Users\\joshu\\anaconda3\\envs\\SuperBoop\\lib\\site-packages\\sklearn\\metrics\\_classification.py:1531: UndefinedMetricWarning: Precision is ill-defined and being set to 0.0 in labels with no predicted samples. Use `zero_division` parameter to control this behavior.\n",
      "  _warn_prf(average, modifier, f\"{metric.capitalize()} is\", len(result))\n"
     ]
    },
    {
     "name": "stdout",
     "output_type": "stream",
     "text": [
      "2/2 [==============================] - 0s 13ms/steploss: 1.6994 - accuracy: 0.33\n",
      "Epoch 167 — F1: 0.2699, Precision: 0.2800, Recall: 0.3023\n",
      "85/85 [==============================] - 1s 7ms/step - loss: 1.7020 - accuracy: 0.3353 - val_loss: 1.8984 - val_accuracy: 0.3023\n",
      "Epoch 168/400\n",
      "32/85 [==========>...................] - ETA: 0s - loss: 1.7641 - accuracy: 0.2031"
     ]
    },
    {
     "name": "stderr",
     "output_type": "stream",
     "text": [
      "c:\\Users\\joshu\\anaconda3\\envs\\SuperBoop\\lib\\site-packages\\sklearn\\metrics\\_classification.py:1531: UndefinedMetricWarning: Precision is ill-defined and being set to 0.0 in labels with no predicted samples. Use `zero_division` parameter to control this behavior.\n",
      "  _warn_prf(average, modifier, f\"{metric.capitalize()} is\", len(result))\n"
     ]
    },
    {
     "name": "stdout",
     "output_type": "stream",
     "text": [
      "2/2 [==============================] - 0s 11ms/steploss: 1.6857 - accuracy: 0.37\n",
      "Epoch 168 — F1: 0.2681, Precision: 0.2938, Recall: 0.3023\n",
      "85/85 [==============================] - 1s 7ms/step - loss: 1.6881 - accuracy: 0.3706 - val_loss: 1.9122 - val_accuracy: 0.3023\n",
      "Epoch 169/400\n",
      "2/2 [==============================] - 0s 6ms/step loss: 1.6691 - accuracy: 0.39\n",
      "Epoch 169 — F1: 0.1976, Precision: 0.2019, Recall: 0.2093\n",
      "85/85 [==============================] - 1s 7ms/step - loss: 1.6689 - accuracy: 0.4000 - val_loss: 1.9087 - val_accuracy: 0.2093\n",
      "Epoch 170/400\n",
      "2/2 [==============================] - 0s 12ms/steploss: 1.6869 - accuracy: 0.37\n",
      "Epoch 170 — F1: 0.3081, Precision: 0.3065, Recall: 0.3256\n",
      "85/85 [==============================] - 1s 7ms/step - loss: 1.6878 - accuracy: 0.3824 - val_loss: 1.8790 - val_accuracy: 0.3256\n",
      "Epoch 171/400\n",
      "2/2 [==============================] - 0s 13ms/steploss: 1.6434 - accuracy: 0.37\n",
      "Epoch 171 — F1: 0.3085, Precision: 0.3494, Recall: 0.3256\n",
      "85/85 [==============================] - 1s 7ms/step - loss: 1.6597 - accuracy: 0.3706 - val_loss: 1.9114 - val_accuracy: 0.3256\n",
      "Epoch 172/400\n",
      "2/2 [==============================] - 0s 13ms/steploss: 1.6530 - accuracy: 0.39\n",
      "Epoch 172 — F1: 0.2639, Precision: 0.2821, Recall: 0.2791\n",
      "85/85 [==============================] - 1s 7ms/step - loss: 1.6627 - accuracy: 0.3824 - val_loss: 1.8780 - val_accuracy: 0.2791\n",
      "Epoch 173/400\n",
      "2/2 [==============================] - 0s 12ms/steploss: 1.6745 - accuracy: 0.35\n",
      "Epoch 173 — F1: 0.3057, Precision: 0.4091, Recall: 0.3023\n",
      "85/85 [==============================] - 1s 7ms/step - loss: 1.6714 - accuracy: 0.3588 - val_loss: 1.8778 - val_accuracy: 0.3023\n",
      "Epoch 174/400\n",
      "2/2 [==============================] - 0s 11ms/steploss: 1.6968 - accuracy: 0.36\n",
      "Epoch 174 — F1: 0.2904, Precision: 0.3900, Recall: 0.3023\n",
      "85/85 [==============================] - 1s 7ms/step - loss: 1.7036 - accuracy: 0.3588 - val_loss: 1.8684 - val_accuracy: 0.3023\n",
      "Epoch 175/400\n",
      "2/2 [==============================] - 0s 14ms/steploss: 1.6233 - accuracy: 0.38\n",
      "Epoch 175 — F1: 0.2366, Precision: 0.2335, Recall: 0.2558\n",
      "85/85 [==============================] - 1s 7ms/step - loss: 1.6161 - accuracy: 0.3882 - val_loss: 1.8822 - val_accuracy: 0.2558\n",
      "Epoch 176/400\n",
      "2/2 [==============================] - 0s 12ms/steploss: 1.6478 - accuracy: 0.35\n",
      "Epoch 176 — F1: 0.3452, Precision: 0.3700, Recall: 0.3488\n",
      "85/85 [==============================] - 1s 7ms/step - loss: 1.6488 - accuracy: 0.3588 - val_loss: 1.8362 - val_accuracy: 0.3488\n",
      "Epoch 177/400\n",
      "2/2 [==============================] - 0s 14ms/steploss: 1.6691 - accuracy: 0.44\n",
      "Epoch 177 — F1: 0.2403, Precision: 0.2344, Recall: 0.2558\n",
      "85/85 [==============================] - 1s 7ms/step - loss: 1.6573 - accuracy: 0.4471 - val_loss: 1.8652 - val_accuracy: 0.2558\n",
      "Epoch 178/400\n",
      "2/2 [==============================] - 0s 12ms/steploss: 1.6604 - accuracy: 0.39\n",
      "Epoch 178 — F1: 0.2085, Precision: 0.2042, Recall: 0.2326\n",
      "85/85 [==============================] - 1s 7ms/step - loss: 1.6521 - accuracy: 0.3941 - val_loss: 1.8617 - val_accuracy: 0.2326\n",
      "Epoch 179/400\n",
      "2/2 [==============================] - 0s 13ms/steploss: 1.6344 - accuracy: 0.41\n",
      "Epoch 179 — F1: 0.3405, Precision: 0.3709, Recall: 0.3488\n",
      "85/85 [==============================] - 1s 7ms/step - loss: 1.6344 - accuracy: 0.4118 - val_loss: 1.8866 - val_accuracy: 0.3488\n",
      "Epoch 180/400\n",
      "2/2 [==============================] - 0s 11ms/steploss: 1.6117 - accuracy: 0.41\n",
      "Epoch 180 — F1: 0.2755, Precision: 0.3267, Recall: 0.2791\n",
      "85/85 [==============================] - 1s 7ms/step - loss: 1.5970 - accuracy: 0.4294 - val_loss: 1.8657 - val_accuracy: 0.2791\n",
      "Epoch 181/400\n",
      "2/2 [==============================] - 0s 12ms/steploss: 1.6801 - accuracy: 0.30\n",
      "Epoch 181 — F1: 0.2222, Precision: 0.2403, Recall: 0.2326\n",
      "85/85 [==============================] - 1s 7ms/step - loss: 1.6771 - accuracy: 0.3176 - val_loss: 1.8869 - val_accuracy: 0.2326\n",
      "Epoch 182/400\n",
      "2/2 [==============================] - 0s 8ms/step loss: 1.6429 - accuracy: 0.39\n",
      "Epoch 182 — F1: 0.3599, Precision: 0.4067, Recall: 0.3488\n",
      "85/85 [==============================] - 1s 7ms/step - loss: 1.6400 - accuracy: 0.4000 - val_loss: 1.8398 - val_accuracy: 0.3488\n",
      "Epoch 183/400\n",
      "2/2 [==============================] - 0s 12ms/steploss: 1.6729 - accuracy: 0.38\n",
      "Epoch 183 — F1: 0.3282, Precision: 0.4360, Recall: 0.3488\n",
      "85/85 [==============================] - 1s 7ms/step - loss: 1.6765 - accuracy: 0.3765 - val_loss: 1.9214 - val_accuracy: 0.3488\n",
      "Epoch 184/400\n",
      "2/2 [==============================] - 0s 15ms/steploss: 1.6052 - accuracy: 0.39\n",
      "Epoch 184 — F1: 0.2907, Precision: 0.3904, Recall: 0.3256\n",
      "85/85 [==============================] - 1s 7ms/step - loss: 1.6061 - accuracy: 0.4059 - val_loss: 1.9041 - val_accuracy: 0.3256\n",
      "Epoch 185/400\n",
      "2/2 [==============================] - 0s 15ms/steploss: 1.6291 - accuracy: 0.41\n",
      "Epoch 185 — F1: 0.3210, Precision: 0.4111, Recall: 0.3256\n",
      "85/85 [==============================] - 1s 7ms/step - loss: 1.6311 - accuracy: 0.4059 - val_loss: 1.8653 - val_accuracy: 0.3256\n",
      "Epoch 186/400\n",
      "2/2 [==============================] - 0s 16ms/steploss: 1.6214 - accuracy: 0.43\n",
      "Epoch 186 — F1: 0.3368, Precision: 0.4406, Recall: 0.3488\n",
      "85/85 [==============================] - 1s 7ms/step - loss: 1.6223 - accuracy: 0.4294 - val_loss: 1.8638 - val_accuracy: 0.3488\n",
      "Epoch 187/400\n",
      "2/2 [==============================] - 0s 13ms/steploss: 1.6658 - accuracy: 0.40\n",
      "Epoch 187 — F1: 0.2870, Precision: 0.3672, Recall: 0.3256\n",
      "85/85 [==============================] - 1s 7ms/step - loss: 1.6725 - accuracy: 0.4000 - val_loss: 1.9013 - val_accuracy: 0.3256\n",
      "Epoch 188/400\n",
      "32/85 [==========>...................] - ETA: 0s - loss: 1.5906 - accuracy: 0.4062"
     ]
    },
    {
     "name": "stderr",
     "output_type": "stream",
     "text": [
      "c:\\Users\\joshu\\anaconda3\\envs\\SuperBoop\\lib\\site-packages\\sklearn\\metrics\\_classification.py:1531: UndefinedMetricWarning: Precision is ill-defined and being set to 0.0 in labels with no predicted samples. Use `zero_division` parameter to control this behavior.\n",
      "  _warn_prf(average, modifier, f\"{metric.capitalize()} is\", len(result))\n"
     ]
    },
    {
     "name": "stdout",
     "output_type": "stream",
     "text": [
      "2/2 [==============================] - 0s 17ms/steploss: 1.6201 - accuracy: 0.39\n",
      "Epoch 188 — F1: 0.3666, Precision: 0.4205, Recall: 0.3488\n",
      "85/85 [==============================] - 1s 7ms/step - loss: 1.6247 - accuracy: 0.4000 - val_loss: 1.8249 - val_accuracy: 0.3488\n",
      "Epoch 189/400\n",
      "2/2 [==============================] - 0s 7ms/step loss: 1.6638 - accuracy: 0.35\n",
      "Epoch 189 — F1: 0.2021, Precision: 0.2381, Recall: 0.2093\n",
      "85/85 [==============================] - 1s 7ms/step - loss: 1.6587 - accuracy: 0.3647 - val_loss: 1.9338 - val_accuracy: 0.2093\n",
      "Epoch 190/400\n",
      "2/2 [==============================] - 0s 12ms/steploss: 1.5823 - accuracy: 0.46\n",
      "Epoch 190 — F1: 0.3101, Precision: 0.3420, Recall: 0.3023\n",
      "85/85 [==============================] - 1s 7ms/step - loss: 1.5814 - accuracy: 0.4706 - val_loss: 1.8707 - val_accuracy: 0.3023\n",
      "Epoch 191/400\n",
      "2/2 [==============================] - 0s 9ms/step loss: 1.6152 - accuracy: 0.38\n",
      "Epoch 191 — F1: 0.2469, Precision: 0.3058, Recall: 0.2558\n",
      "85/85 [==============================] - 1s 7ms/step - loss: 1.6170 - accuracy: 0.3706 - val_loss: 1.8880 - val_accuracy: 0.2558\n",
      "Epoch 192/400\n",
      "2/2 [==============================] - 0s 16ms/steploss: 1.6717 - accuracy: 0.34\n",
      "Epoch 192 — F1: 0.2761, Precision: 0.3561, Recall: 0.3023\n",
      "85/85 [==============================] - 1s 7ms/step - loss: 1.6583 - accuracy: 0.3529 - val_loss: 1.9138 - val_accuracy: 0.3023\n",
      "Epoch 193/400\n",
      "2/2 [==============================] - 0s 3ms/step loss: 1.5813 - accuracy: 0.41\n",
      "Epoch 193 — F1: 0.2756, Precision: 0.3126, Recall: 0.2791\n",
      "85/85 [==============================] - 1s 7ms/step - loss: 1.5887 - accuracy: 0.4059 - val_loss: 1.8582 - val_accuracy: 0.2791\n",
      "Epoch 194/400\n",
      "2/2 [==============================] - 0s 15ms/steploss: 1.6161 - accuracy: 0.42\n",
      "Epoch 194 — F1: 0.3078, Precision: 0.3410, Recall: 0.3023\n",
      "85/85 [==============================] - 1s 7ms/step - loss: 1.6042 - accuracy: 0.4529 - val_loss: 1.9102 - val_accuracy: 0.3023\n",
      "Epoch 195/400\n",
      "2/2 [==============================] - 0s 6ms/step loss: 1.5760 - accuracy: 0.39\n",
      "Epoch 195 — F1: 0.3412, Precision: 0.3867, Recall: 0.3256\n",
      "85/85 [==============================] - 1s 7ms/step - loss: 1.5792 - accuracy: 0.3882 - val_loss: 1.8693 - val_accuracy: 0.3256\n",
      "Epoch 196/400\n",
      "2/2 [==============================] - 0s 12ms/steploss: 1.5934 - accuracy: 0.39\n",
      "Epoch 196 — F1: 0.2619, Precision: 0.3413, Recall: 0.3023\n",
      "85/85 [==============================] - 1s 7ms/step - loss: 1.5860 - accuracy: 0.4118 - val_loss: 1.9478 - val_accuracy: 0.3023\n",
      "Epoch 197/400\n",
      "32/85 [==========>...................] - ETA: 0s - loss: 1.5748 - accuracy: 0.4219"
     ]
    },
    {
     "name": "stderr",
     "output_type": "stream",
     "text": [
      "c:\\Users\\joshu\\anaconda3\\envs\\SuperBoop\\lib\\site-packages\\sklearn\\metrics\\_classification.py:1531: UndefinedMetricWarning: Precision is ill-defined and being set to 0.0 in labels with no predicted samples. Use `zero_division` parameter to control this behavior.\n",
      "  _warn_prf(average, modifier, f\"{metric.capitalize()} is\", len(result))\n"
     ]
    },
    {
     "name": "stdout",
     "output_type": "stream",
     "text": [
      "2/2 [==============================] - 0s 9ms/step loss: 1.5568 - accuracy: 0.45\n",
      "Epoch 197 — F1: 0.2837, Precision: 0.3339, Recall: 0.2791\n",
      "85/85 [==============================] - 1s 7ms/step - loss: 1.5569 - accuracy: 0.4529 - val_loss: 1.8645 - val_accuracy: 0.2791\n",
      "Epoch 198/400\n",
      "2/2 [==============================] - 0s 12ms/steploss: 1.5530 - accuracy: 0.42\n",
      "Epoch 198 — F1: 0.3043, Precision: 0.3404, Recall: 0.3023\n",
      "85/85 [==============================] - 1s 7ms/step - loss: 1.5539 - accuracy: 0.4235 - val_loss: 1.8810 - val_accuracy: 0.3023\n",
      "Epoch 199/400\n",
      "2/2 [==============================] - 0s 11ms/steploss: 1.6173 - accuracy: 0.36\n",
      "Epoch 199 — F1: 0.3064, Precision: 0.3059, Recall: 0.3256\n",
      "85/85 [==============================] - 1s 7ms/step - loss: 1.6177 - accuracy: 0.3647 - val_loss: 1.8813 - val_accuracy: 0.3256\n",
      "Epoch 200/400\n",
      "2/2 [==============================] - 0s 14ms/steploss: 1.5667 - accuracy: 0.43\n",
      "Epoch 200 — F1: 0.3131, Precision: 0.3195, Recall: 0.3256\n",
      "85/85 [==============================] - 1s 7ms/step - loss: 1.5578 - accuracy: 0.4471 - val_loss: 1.8833 - val_accuracy: 0.3256\n",
      "Epoch 201/400\n",
      "2/2 [==============================] - 0s 16ms/steploss: 1.5570 - accuracy: 0.41\n",
      "Epoch 201 — F1: 0.2525, Precision: 0.2865, Recall: 0.2558\n",
      "85/85 [==============================] - 1s 7ms/step - loss: 1.5570 - accuracy: 0.4176 - val_loss: 1.9091 - val_accuracy: 0.2326\n",
      "Epoch 202/400\n",
      "2/2 [==============================] - 0s 17ms/steploss: 1.6111 - accuracy: 0.42\n",
      "Epoch 202 — F1: 0.2597, Precision: 0.2899, Recall: 0.2558\n",
      "85/85 [==============================] - 1s 7ms/step - loss: 1.6136 - accuracy: 0.4235 - val_loss: 1.9312 - val_accuracy: 0.2558\n",
      "Epoch 203/400\n",
      "2/2 [==============================] - 0s 13ms/steploss: 1.5665 - accuracy: 0.41\n",
      "Epoch 203 — F1: 0.2100, Precision: 0.2389, Recall: 0.2093\n",
      "85/85 [==============================] - 1s 7ms/step - loss: 1.5653 - accuracy: 0.4118 - val_loss: 1.9370 - val_accuracy: 0.2093\n",
      "Epoch 204/400\n",
      "2/2 [==============================] - 0s 15ms/steploss: 1.6148 - accuracy: 0.39\n",
      "Epoch 204 — F1: 0.3090, Precision: 0.3429, Recall: 0.3023\n",
      "85/85 [==============================] - 1s 7ms/step - loss: 1.6063 - accuracy: 0.4000 - val_loss: 1.9179 - val_accuracy: 0.3023\n",
      "Epoch 205/400\n",
      "2/2 [==============================] - 0s 12ms/steploss: 1.5356 - accuracy: 0.48\n",
      "Epoch 205 — F1: 0.3285, Precision: 0.3574, Recall: 0.3256\n",
      "85/85 [==============================] - 1s 7ms/step - loss: 1.5356 - accuracy: 0.4824 - val_loss: 1.9222 - val_accuracy: 0.3256\n",
      "Epoch 206/400\n",
      "2/2 [==============================] - 0s 7ms/step loss: 1.5480 - accuracy: 0.45\n",
      "Epoch 206 — F1: 0.3834, Precision: 0.3953, Recall: 0.3953\n",
      "85/85 [==============================] - 1s 7ms/step - loss: 1.5486 - accuracy: 0.4471 - val_loss: 1.8788 - val_accuracy: 0.3953\n",
      "Epoch 207/400\n",
      "2/2 [==============================] - 0s 13ms/steploss: 1.5941 - accuracy: 0.37\n",
      "Epoch 207 — F1: 0.3247, Precision: 0.3447, Recall: 0.3256\n",
      "85/85 [==============================] - 1s 7ms/step - loss: 1.5776 - accuracy: 0.3882 - val_loss: 1.9177 - val_accuracy: 0.3256\n",
      "Epoch 208/400\n",
      "2/2 [==============================] - 0s 13ms/steploss: 1.5498 - accuracy: 0.43\n",
      "Epoch 208 — F1: 0.2951, Precision: 0.3456, Recall: 0.2791\n",
      "85/85 [==============================] - 1s 7ms/step - loss: 1.5454 - accuracy: 0.4471 - val_loss: 1.8781 - val_accuracy: 0.2791\n",
      "Epoch 209/400\n",
      "2/2 [==============================] - 0s 13ms/steploss: 1.5331 - accuracy: 0.49\n",
      "Epoch 209 — F1: 0.3538, Precision: 0.4059, Recall: 0.3488\n",
      "85/85 [==============================] - 1s 7ms/step - loss: 1.5270 - accuracy: 0.4941 - val_loss: 1.9207 - val_accuracy: 0.3488\n",
      "Epoch 210/400\n",
      "2/2 [==============================] - 0s 8ms/step loss: 1.5438 - accuracy: 0.41\n",
      "Epoch 210 — F1: 0.3775, Precision: 0.4167, Recall: 0.3721\n",
      "85/85 [==============================] - 1s 7ms/step - loss: 1.5356 - accuracy: 0.4235 - val_loss: 1.8876 - val_accuracy: 0.3721\n",
      "Epoch 211/400\n",
      "2/2 [==============================] - 0s 16ms/steploss: 1.5264 - accuracy: 0.43\n",
      "Epoch 211 — F1: 0.3594, Precision: 0.4280, Recall: 0.3488\n",
      "85/85 [==============================] - 1s 7ms/step - loss: 1.5252 - accuracy: 0.4412 - val_loss: 1.8616 - val_accuracy: 0.3488\n",
      "Epoch 212/400\n",
      "2/2 [==============================] - 0s 17ms/steploss: 1.5371 - accuracy: 0.47\n",
      "Epoch 212 — F1: 0.3727, Precision: 0.4528, Recall: 0.3721\n",
      "85/85 [==============================] - 1s 7ms/step - loss: 1.5412 - accuracy: 0.4647 - val_loss: 1.9270 - val_accuracy: 0.3721\n",
      "Epoch 213/400\n",
      "2/2 [==============================] - 0s 12ms/steploss: 1.5353 - accuracy: 0.39\n",
      "Epoch 213 — F1: 0.3481, Precision: 0.4167, Recall: 0.3488\n",
      "85/85 [==============================] - 1s 7ms/step - loss: 1.5328 - accuracy: 0.4059 - val_loss: 1.8448 - val_accuracy: 0.3488\n",
      "Epoch 214/400\n",
      "2/2 [==============================] - 0s 13ms/steploss: 1.5200 - accuracy: 0.41\n",
      "Epoch 214 — F1: 0.3780, Precision: 0.4096, Recall: 0.3721\n",
      "85/85 [==============================] - 1s 7ms/step - loss: 1.5200 - accuracy: 0.4176 - val_loss: 1.8716 - val_accuracy: 0.3721\n",
      "Epoch 215/400\n",
      "2/2 [==============================] - 0s 12ms/steploss: 1.4877 - accuracy: 0.42\n",
      "Epoch 215 — F1: 0.3131, Precision: 0.3870, Recall: 0.3023\n",
      "85/85 [==============================] - 1s 7ms/step - loss: 1.4877 - accuracy: 0.4294 - val_loss: 1.8988 - val_accuracy: 0.3023\n",
      "Epoch 216/400\n",
      "2/2 [==============================] - 0s 13ms/steploss: 1.5006 - accuracy: 0.42\n",
      "Epoch 216 — F1: 0.3057, Precision: 0.4386, Recall: 0.3023\n",
      "85/85 [==============================] - 1s 7ms/step - loss: 1.5026 - accuracy: 0.4294 - val_loss: 1.9391 - val_accuracy: 0.3023\n",
      "Epoch 217/400\n",
      "2/2 [==============================] - 0s 7ms/step loss: 1.4835 - accuracy: 0.41\n",
      "Epoch 217 — F1: 0.2686, Precision: 0.3568, Recall: 0.2791\n",
      "85/85 [==============================] - 1s 7ms/step - loss: 1.4902 - accuracy: 0.4118 - val_loss: 1.9601 - val_accuracy: 0.2791\n",
      "Epoch 218/400\n",
      "2/2 [==============================] - 0s 12ms/steploss: 1.4906 - accuracy: 0.46\n",
      "Epoch 218 — F1: 0.2562, Precision: 0.3824, Recall: 0.2558\n",
      "85/85 [==============================] - 1s 7ms/step - loss: 1.4905 - accuracy: 0.4647 - val_loss: 1.9044 - val_accuracy: 0.2558\n",
      "Epoch 219/400\n",
      "2/2 [==============================] - 0s 11ms/steploss: 1.4576 - accuracy: 0.49\n",
      "Epoch 219 — F1: 0.3634, Precision: 0.4102, Recall: 0.3488\n",
      "85/85 [==============================] - 1s 7ms/step - loss: 1.4606 - accuracy: 0.4882 - val_loss: 1.9253 - val_accuracy: 0.3488\n",
      "Epoch 220/400\n",
      "2/2 [==============================] - 0s 16ms/steploss: 1.5156 - accuracy: 0.35\n",
      "Epoch 220 — F1: 0.3392, Precision: 0.4407, Recall: 0.3488\n",
      "85/85 [==============================] - 1s 7ms/step - loss: 1.5240 - accuracy: 0.3588 - val_loss: 2.0835 - val_accuracy: 0.3721\n",
      "Epoch 221/400\n",
      "2/2 [==============================] - 0s 17ms/steploss: 1.5042 - accuracy: 0.49\n",
      "Epoch 221 — F1: 0.3208, Precision: 0.3765, Recall: 0.3023\n",
      "85/85 [==============================] - 1s 7ms/step - loss: 1.5088 - accuracy: 0.4882 - val_loss: 1.9770 - val_accuracy: 0.3023\n",
      "Epoch 222/400\n",
      "2/2 [==============================] - 0s 17ms/steploss: 1.5384 - accuracy: 0.42\n",
      "Epoch 222 — F1: 0.3610, Precision: 0.4407, Recall: 0.3488\n",
      "85/85 [==============================] - 1s 7ms/step - loss: 1.5443 - accuracy: 0.4235 - val_loss: 1.9474 - val_accuracy: 0.3488\n",
      "Epoch 223/400\n",
      "2/2 [==============================] - 0s 9ms/step loss: 1.4677 - accuracy: 0.45\n",
      "Epoch 223 — F1: 0.2664, Precision: 0.3497, Recall: 0.2791\n",
      "85/85 [==============================] - 1s 7ms/step - loss: 1.4774 - accuracy: 0.4529 - val_loss: 2.0003 - val_accuracy: 0.2791\n",
      "Epoch 224/400\n",
      "2/2 [==============================] - 0s 13ms/steploss: 1.4958 - accuracy: 0.43\n",
      "Epoch 224 — F1: 0.2310, Precision: 0.2465, Recall: 0.2791\n",
      "85/85 [==============================] - 1s 7ms/step - loss: 1.4934 - accuracy: 0.4412 - val_loss: 2.0558 - val_accuracy: 0.2791\n",
      "Epoch 225/400\n",
      "2/2 [==============================] - 0s 12ms/steploss: 1.5216 - accuracy: 0.46\n",
      "Epoch 225 — F1: 0.3343, Precision: 0.3811, Recall: 0.3256\n",
      "85/85 [==============================] - 1s 7ms/step - loss: 1.5139 - accuracy: 0.4765 - val_loss: 1.9344 - val_accuracy: 0.3256\n",
      "Epoch 226/400\n",
      "2/2 [==============================] - 0s 12ms/steploss: 1.4407 - accuracy: 0.52\n",
      "Epoch 226 — F1: 0.2673, Precision: 0.2608, Recall: 0.2791\n",
      "85/85 [==============================] - 1s 7ms/step - loss: 1.4393 - accuracy: 0.5294 - val_loss: 1.9292 - val_accuracy: 0.2791\n",
      "Epoch 227/400\n",
      "2/2 [==============================] - 0s 11ms/steploss: 1.4544 - accuracy: 0.48\n",
      "Epoch 227 — F1: 0.3098, Precision: 0.3541, Recall: 0.3023\n",
      "85/85 [==============================] - 1s 7ms/step - loss: 1.4560 - accuracy: 0.4824 - val_loss: 1.9370 - val_accuracy: 0.2791\n",
      "Epoch 228/400\n",
      "2/2 [==============================] - 0s 7ms/step loss: 1.5179 - accuracy: 0.44\n",
      "Epoch 228 — F1: 0.3132, Precision: 0.4310, Recall: 0.3023\n",
      "85/85 [==============================] - 1s 7ms/step - loss: 1.5158 - accuracy: 0.4412 - val_loss: 1.9575 - val_accuracy: 0.3023\n",
      "Epoch 229/400\n",
      "2/2 [==============================] - 0s 12ms/steploss: 1.4936 - accuracy: 0.43\n",
      "Epoch 229 — F1: 0.3479, Precision: 0.4276, Recall: 0.3488\n",
      "85/85 [==============================] - 1s 7ms/step - loss: 1.4944 - accuracy: 0.4294 - val_loss: 2.0291 - val_accuracy: 0.3488\n",
      "Epoch 230/400\n",
      "2/2 [==============================] - 0s 11ms/steploss: 1.4355 - accuracy: 0.48\n",
      "Epoch 230 — F1: 0.3056, Precision: 0.3456, Recall: 0.3023\n",
      "85/85 [==============================] - 1s 7ms/step - loss: 1.4351 - accuracy: 0.4765 - val_loss: 2.0109 - val_accuracy: 0.3023\n",
      "Epoch 231/400\n",
      "2/2 [==============================] - 0s 12ms/steploss: 1.3732 - accuracy: 0.53\n",
      "Epoch 231 — F1: 0.3615, Precision: 0.4003, Recall: 0.3488\n",
      "85/85 [==============================] - 1s 7ms/step - loss: 1.3742 - accuracy: 0.5294 - val_loss: 1.9518 - val_accuracy: 0.3488\n",
      "Epoch 232/400\n",
      "2/2 [==============================] - 0s 11ms/steploss: 1.5238 - accuracy: 0.45\n",
      "Epoch 232 — F1: 0.3270, Precision: 0.3710, Recall: 0.3256\n",
      "85/85 [==============================] - 1s 7ms/step - loss: 1.5284 - accuracy: 0.4529 - val_loss: 1.9173 - val_accuracy: 0.3256\n",
      "Epoch 233/400\n",
      "2/2 [==============================] - 0s 14ms/steploss: 1.5469 - accuracy: 0.45\n",
      "Epoch 233 — F1: 0.2976, Precision: 0.3260, Recall: 0.3023\n",
      "85/85 [==============================] - 1s 7ms/step - loss: 1.5395 - accuracy: 0.4588 - val_loss: 1.8857 - val_accuracy: 0.3023\n",
      "Epoch 234/400\n",
      "2/2 [==============================] - 0s 12ms/steploss: 1.5080 - accuracy: 0.44\n",
      "Epoch 234 — F1: 0.2315, Precision: 0.2764, Recall: 0.2326\n",
      "85/85 [==============================] - 1s 7ms/step - loss: 1.5032 - accuracy: 0.4471 - val_loss: 2.0171 - val_accuracy: 0.2326\n",
      "Epoch 235/400\n",
      "2/2 [==============================] - 0s 13ms/steploss: 1.4440 - accuracy: 0.49\n",
      "Epoch 235 — F1: 0.2257, Precision: 0.2565, Recall: 0.2326\n",
      "85/85 [==============================] - 1s 7ms/step - loss: 1.4517 - accuracy: 0.4824 - val_loss: 1.9727 - val_accuracy: 0.2326\n",
      "Epoch 236/400\n",
      "2/2 [==============================] - 0s 12ms/steploss: 1.5010 - accuracy: 0.41\n",
      "Epoch 236 — F1: 0.3360, Precision: 0.3522, Recall: 0.3488\n",
      "85/85 [==============================] - 1s 7ms/step - loss: 1.5010 - accuracy: 0.4176 - val_loss: 2.0380 - val_accuracy: 0.3488\n",
      "Epoch 237/400\n",
      "2/2 [==============================] - 0s 12ms/steploss: 1.4634 - accuracy: 0.45\n",
      "Epoch 237 — F1: 0.2205, Precision: 0.3223, Recall: 0.2326\n",
      "85/85 [==============================] - 1s 7ms/step - loss: 1.4681 - accuracy: 0.4471 - val_loss: 1.9487 - val_accuracy: 0.2326\n",
      "Epoch 238/400\n",
      "2/2 [==============================] - 0s 9ms/step loss: 1.4728 - accuracy: 0.43\n",
      "Epoch 238 — F1: 0.3142, Precision: 0.3519, Recall: 0.3023\n",
      "85/85 [==============================] - 1s 7ms/step - loss: 1.4593 - accuracy: 0.4529 - val_loss: 1.9719 - val_accuracy: 0.3023\n",
      "Epoch 239/400\n",
      "2/2 [==============================] - 0s 7ms/step loss: 1.4376 - accuracy: 0.48\n",
      "Epoch 239 — F1: 0.3277, Precision: 0.4234, Recall: 0.3256\n",
      "85/85 [==============================] - 1s 7ms/step - loss: 1.4288 - accuracy: 0.4824 - val_loss: 2.0082 - val_accuracy: 0.3256\n",
      "Epoch 240/400\n",
      "2/2 [==============================] - 0s 13ms/steploss: 1.4877 - accuracy: 0.41\n",
      "Epoch 240 — F1: 0.1776, Precision: 0.1912, Recall: 0.1860\n",
      "85/85 [==============================] - 1s 7ms/step - loss: 1.4871 - accuracy: 0.4118 - val_loss: 1.9274 - val_accuracy: 0.1860\n",
      "Epoch 241/400\n",
      "2/2 [==============================] - 0s 17ms/steploss: 1.4361 - accuracy: 0.44\n",
      "Epoch 241 — F1: 0.2726, Precision: 0.3030, Recall: 0.2791\n",
      "85/85 [==============================] - 1s 7ms/step - loss: 1.4424 - accuracy: 0.4471 - val_loss: 1.9716 - val_accuracy: 0.2791\n",
      "Epoch 242/400\n",
      "2/2 [==============================] - 0s 12ms/steploss: 1.4507 - accuracy: 0.44\n",
      "Epoch 242 — F1: 0.3167, Precision: 0.3896, Recall: 0.3256\n",
      "85/85 [==============================] - 1s 7ms/step - loss: 1.4538 - accuracy: 0.4353 - val_loss: 1.9807 - val_accuracy: 0.3023\n",
      "Epoch 243/400\n",
      "2/2 [==============================] - 0s 14ms/steploss: 1.4554 - accuracy: 0.50\n",
      "Epoch 243 — F1: 0.2884, Precision: 0.3647, Recall: 0.3023\n",
      "85/85 [==============================] - 1s 7ms/step - loss: 1.4515 - accuracy: 0.5118 - val_loss: 1.9941 - val_accuracy: 0.3023\n",
      "Epoch 244/400\n",
      "2/2 [==============================] - 0s 12ms/steploss: 1.4308 - accuracy: 0.46\n",
      "Epoch 244 — F1: 0.3065, Precision: 0.4005, Recall: 0.3023\n",
      "85/85 [==============================] - 1s 7ms/step - loss: 1.4223 - accuracy: 0.4824 - val_loss: 1.9433 - val_accuracy: 0.3023\n",
      "Epoch 245/400\n",
      "2/2 [==============================] - 0s 11ms/steploss: 1.4139 - accuracy: 0.49\n",
      "Epoch 245 — F1: 0.2794, Precision: 0.3877, Recall: 0.2791\n",
      "85/85 [==============================] - 1s 7ms/step - loss: 1.3994 - accuracy: 0.5000 - val_loss: 2.0256 - val_accuracy: 0.2791\n",
      "Epoch 246/400\n",
      "2/2 [==============================] - 0s 12ms/steploss: 1.4111 - accuracy: 0.42\n",
      "Epoch 246 — F1: 0.2270, Precision: 0.3358, Recall: 0.2326\n",
      "85/85 [==============================] - 1s 7ms/step - loss: 1.4130 - accuracy: 0.4294 - val_loss: 2.0391 - val_accuracy: 0.2326\n",
      "Epoch 247/400\n",
      "2/2 [==============================] - 0s 13ms/steploss: 1.4296 - accuracy: 0.44\n",
      "Epoch 247 — F1: 0.2359, Precision: 0.2883, Recall: 0.2326\n",
      "85/85 [==============================] - 1s 7ms/step - loss: 1.4194 - accuracy: 0.4588 - val_loss: 1.9773 - val_accuracy: 0.2326\n",
      "Epoch 248/400\n",
      "2/2 [==============================] - 0s 13ms/steploss: 1.4263 - accuracy: 0.45\n",
      "Epoch 248 — F1: 0.3013, Precision: 0.3575, Recall: 0.3023\n",
      "85/85 [==============================] - 1s 7ms/step - loss: 1.4266 - accuracy: 0.4529 - val_loss: 1.9457 - val_accuracy: 0.3023\n",
      "Epoch 249/400\n",
      "2/2 [==============================] - 0s 16ms/steploss: 1.4257 - accuracy: 0.47\n",
      "Epoch 249 — F1: 0.3061, Precision: 0.3230, Recall: 0.3023\n",
      "85/85 [==============================] - 1s 7ms/step - loss: 1.4203 - accuracy: 0.4706 - val_loss: 1.9746 - val_accuracy: 0.3023\n",
      "Epoch 250/400\n",
      "2/2 [==============================] - 0s 14ms/steploss: 1.4453 - accuracy: 0.43\n",
      "Epoch 250 — F1: 0.3351, Precision: 0.4238, Recall: 0.3256\n",
      "85/85 [==============================] - 1s 7ms/step - loss: 1.4406 - accuracy: 0.4353 - val_loss: 2.0301 - val_accuracy: 0.3256\n",
      "Epoch 251/400\n",
      "2/2 [==============================] - 0s 11ms/steploss: 1.4202 - accuracy: 0.50\n",
      "Epoch 251 — F1: 0.3508, Precision: 0.4475, Recall: 0.3488\n",
      "85/85 [==============================] - 1s 7ms/step - loss: 1.4230 - accuracy: 0.4941 - val_loss: 2.0205 - val_accuracy: 0.3488\n",
      "Epoch 252/400\n",
      "2/2 [==============================] - 0s 13ms/steploss: 1.3949 - accuracy: 0.50\n",
      "Epoch 252 — F1: 0.2747, Precision: 0.2775, Recall: 0.2791\n",
      "85/85 [==============================] - 1s 7ms/step - loss: 1.3898 - accuracy: 0.5059 - val_loss: 1.9717 - val_accuracy: 0.2791\n",
      "Epoch 253/400\n",
      "2/2 [==============================] - 0s 15ms/steploss: 1.3685 - accuracy: 0.51\n",
      "Epoch 253 — F1: 0.3083, Precision: 0.3814, Recall: 0.3023\n",
      "85/85 [==============================] - 1s 7ms/step - loss: 1.3813 - accuracy: 0.5059 - val_loss: 2.0446 - val_accuracy: 0.3023\n",
      "Epoch 254/400\n",
      "2/2 [==============================] - 0s 14ms/steploss: 1.3911 - accuracy: 0.45\n",
      "Epoch 254 — F1: 0.2834, Precision: 0.3892, Recall: 0.2791\n",
      "85/85 [==============================] - 1s 7ms/step - loss: 1.3955 - accuracy: 0.4471 - val_loss: 2.0290 - val_accuracy: 0.2791\n",
      "Epoch 255/400\n",
      "2/2 [==============================] - 0s 11ms/steploss: 1.4012 - accuracy: 0.47\n",
      "Epoch 255 — F1: 0.3411, Precision: 0.3799, Recall: 0.3256\n",
      "85/85 [==============================] - 1s 7ms/step - loss: 1.3924 - accuracy: 0.4765 - val_loss: 2.0274 - val_accuracy: 0.3256\n",
      "Epoch 256/400\n",
      "2/2 [==============================] - 0s 11ms/steploss: 1.3999 - accuracy: 0.45\n",
      "Epoch 256 — F1: 0.3173, Precision: 0.3623, Recall: 0.3023\n",
      "85/85 [==============================] - 1s 7ms/step - loss: 1.3904 - accuracy: 0.4588 - val_loss: 1.9838 - val_accuracy: 0.3023\n",
      "Epoch 257/400\n",
      "2/2 [==============================] - 0s 11ms/steploss: 1.3509 - accuracy: 0.53\n",
      "Epoch 257 — F1: 0.3041, Precision: 0.3457, Recall: 0.3023\n",
      "85/85 [==============================] - 1s 7ms/step - loss: 1.3477 - accuracy: 0.5353 - val_loss: 1.9825 - val_accuracy: 0.3023\n",
      "Epoch 258/400\n",
      "2/2 [==============================] - 0s 14ms/steploss: 1.4069 - accuracy: 0.44\n",
      "Epoch 258 — F1: 0.3052, Precision: 0.3287, Recall: 0.3023\n",
      "85/85 [==============================] - 1s 7ms/step - loss: 1.4056 - accuracy: 0.4412 - val_loss: 2.0499 - val_accuracy: 0.3023\n",
      "Epoch 259/400\n",
      "2/2 [==============================] - 0s 11ms/steploss: 1.3652 - accuracy: 0.51\n",
      "Epoch 259 — F1: 0.2658, Precision: 0.2982, Recall: 0.2558\n",
      "85/85 [==============================] - 1s 7ms/step - loss: 1.3688 - accuracy: 0.5059 - val_loss: 2.0645 - val_accuracy: 0.2558\n",
      "Epoch 260/400\n",
      "2/2 [==============================] - 0s 12ms/steploss: 1.3743 - accuracy: 0.45\n",
      "Epoch 260 — F1: 0.2723, Precision: 0.3241, Recall: 0.2558\n",
      "85/85 [==============================] - 1s 7ms/step - loss: 1.3762 - accuracy: 0.4353 - val_loss: 1.9811 - val_accuracy: 0.2558\n",
      "Epoch 261/400\n",
      "2/2 [==============================] - 0s 14ms/steploss: 1.4038 - accuracy: 0.47\n",
      "Epoch 261 — F1: 0.2763, Precision: 0.2826, Recall: 0.2791\n",
      "85/85 [==============================] - 1s 7ms/step - loss: 1.4088 - accuracy: 0.4765 - val_loss: 2.0162 - val_accuracy: 0.2791\n",
      "Epoch 262/400\n",
      "2/2 [==============================] - 0s 12ms/steploss: 1.4092 - accuracy: 0.51\n",
      "Epoch 262 — F1: 0.3060, Precision: 0.3291, Recall: 0.3023\n",
      "85/85 [==============================] - 1s 7ms/step - loss: 1.4186 - accuracy: 0.5000 - val_loss: 2.0352 - val_accuracy: 0.3023\n",
      "Epoch 263/400\n",
      "2/2 [==============================] - 0s 13ms/steploss: 1.3939 - accuracy: 0.45\n",
      "Epoch 263 — F1: 0.2975, Precision: 0.3928, Recall: 0.3023\n",
      "85/85 [==============================] - 1s 7ms/step - loss: 1.3980 - accuracy: 0.4529 - val_loss: 2.0166 - val_accuracy: 0.3023\n",
      "Epoch 264/400\n",
      "2/2 [==============================] - 0s 14ms/steploss: 1.3501 - accuracy: 0.46\n",
      "Epoch 264 — F1: 0.3033, Precision: 0.3596, Recall: 0.3023\n",
      "85/85 [==============================] - 1s 7ms/step - loss: 1.3501 - accuracy: 0.4647 - val_loss: 2.1047 - val_accuracy: 0.3256\n",
      "Epoch 265/400\n",
      "2/2 [==============================] - 0s 9ms/step loss: 1.3287 - accuracy: 0.54\n",
      "Epoch 265 — F1: 0.3264, Precision: 0.3513, Recall: 0.3256\n",
      "85/85 [==============================] - 1s 7ms/step - loss: 1.3306 - accuracy: 0.5353 - val_loss: 2.0361 - val_accuracy: 0.3256\n",
      "Epoch 266/400\n",
      "2/2 [==============================] - 0s 12ms/steploss: 1.3763 - accuracy: 0.50\n",
      "Epoch 266 — F1: 0.2641, Precision: 0.2868, Recall: 0.2558\n",
      "85/85 [==============================] - 1s 7ms/step - loss: 1.3619 - accuracy: 0.5235 - val_loss: 2.0056 - val_accuracy: 0.2558\n",
      "Epoch 267/400\n",
      "2/2 [==============================] - 0s 12ms/steploss: 1.3762 - accuracy: 0.49\n",
      "Epoch 267 — F1: 0.2897, Precision: 0.3250, Recall: 0.2791\n",
      "85/85 [==============================] - 1s 7ms/step - loss: 1.3702 - accuracy: 0.5000 - val_loss: 1.9943 - val_accuracy: 0.2791\n",
      "Epoch 268/400\n",
      "2/2 [==============================] - 0s 11ms/steploss: 1.3523 - accuracy: 0.54\n",
      "Epoch 268 — F1: 0.3055, Precision: 0.3168, Recall: 0.3256\n",
      "85/85 [==============================] - 1s 7ms/step - loss: 1.3554 - accuracy: 0.5353 - val_loss: 1.9612 - val_accuracy: 0.3256\n",
      "Epoch 269/400\n",
      "2/2 [==============================] - 0s 7ms/step loss: 1.3237 - accuracy: 0.49\n",
      "Epoch 269 — F1: 0.2875, Precision: 0.3225, Recall: 0.2791\n",
      "85/85 [==============================] - 1s 7ms/step - loss: 1.3359 - accuracy: 0.4882 - val_loss: 2.0732 - val_accuracy: 0.2791\n",
      "Epoch 270/400\n",
      "2/2 [==============================] - 0s 7ms/step loss: 1.3392 - accuracy: 0.45\n",
      "Epoch 270 — F1: 0.2824, Precision: 0.3063, Recall: 0.2791\n",
      "85/85 [==============================] - 1s 7ms/step - loss: 1.3418 - accuracy: 0.4588 - val_loss: 2.0136 - val_accuracy: 0.2791\n",
      "Epoch 271/400\n",
      "2/2 [==============================] - 0s 12ms/steploss: 1.3356 - accuracy: 0.51\n",
      "Epoch 271 — F1: 0.2890, Precision: 0.3460, Recall: 0.2791\n",
      "85/85 [==============================] - 1s 7ms/step - loss: 1.3495 - accuracy: 0.5118 - val_loss: 2.0036 - val_accuracy: 0.2791\n",
      "Epoch 272/400\n",
      "2/2 [==============================] - 0s 13ms/steploss: 1.3055 - accuracy: 0.53\n",
      "Epoch 272 — F1: 0.3029, Precision: 0.3102, Recall: 0.3023\n",
      "85/85 [==============================] - 1s 7ms/step - loss: 1.3055 - accuracy: 0.5353 - val_loss: 2.0487 - val_accuracy: 0.3023\n",
      "Epoch 273/400\n",
      "2/2 [==============================] - 0s 12ms/steploss: 1.2896 - accuracy: 0.51\n",
      "Epoch 273 — F1: 0.2546, Precision: 0.2695, Recall: 0.2558\n",
      "85/85 [==============================] - 1s 7ms/step - loss: 1.2983 - accuracy: 0.5118 - val_loss: 2.0109 - val_accuracy: 0.2558\n",
      "Epoch 274/400\n",
      "2/2 [==============================] - 0s 12ms/steploss: 1.3379 - accuracy: 0.49\n",
      "Epoch 274 — F1: 0.2780, Precision: 0.2921, Recall: 0.2791\n",
      "85/85 [==============================] - 1s 7ms/step - loss: 1.3379 - accuracy: 0.4941 - val_loss: 2.0234 - val_accuracy: 0.2791\n",
      "Epoch 275/400\n",
      "2/2 [==============================] - 0s 12ms/steploss: 1.3770 - accuracy: 0.47\n",
      "Epoch 275 — F1: 0.2368, Precision: 0.3310, Recall: 0.2326\n",
      "85/85 [==============================] - 1s 7ms/step - loss: 1.3761 - accuracy: 0.4706 - val_loss: 2.1273 - val_accuracy: 0.2326\n",
      "Epoch 276/400\n",
      "2/2 [==============================] - 0s 12ms/steploss: 1.3701 - accuracy: 0.45\n",
      "Epoch 276 — F1: 0.3139, Precision: 0.4229, Recall: 0.3023\n",
      "85/85 [==============================] - 1s 7ms/step - loss: 1.3763 - accuracy: 0.4412 - val_loss: 2.0979 - val_accuracy: 0.3023\n",
      "Epoch 277/400\n",
      "2/2 [==============================] - 0s 11ms/steploss: 1.4022 - accuracy: 0.42\n",
      "Epoch 277 — F1: 0.2666, Precision: 0.3242, Recall: 0.2558\n",
      "85/85 [==============================] - 1s 7ms/step - loss: 1.3960 - accuracy: 0.4353 - val_loss: 2.0089 - val_accuracy: 0.2558\n",
      "Epoch 278/400\n",
      "2/2 [==============================] - 0s 13ms/steploss: 1.2834 - accuracy: 0.53\n",
      "Epoch 278 — F1: 0.2263, Precision: 0.2752, Recall: 0.2326\n",
      "85/85 [==============================] - 1s 7ms/step - loss: 1.2886 - accuracy: 0.5294 - val_loss: 1.9893 - val_accuracy: 0.2326\n",
      "Epoch 279/400\n",
      "2/2 [==============================] - 0s 11ms/steploss: 1.4052 - accuracy: 0.49\n",
      "Epoch 279 — F1: 0.3244, Precision: 0.3547, Recall: 0.3256\n",
      "85/85 [==============================] - 1s 7ms/step - loss: 1.4051 - accuracy: 0.4941 - val_loss: 2.0099 - val_accuracy: 0.3256\n",
      "Epoch 280/400\n",
      "2/2 [==============================] - 0s 7ms/step loss: 1.3079 - accuracy: 0.53\n",
      "Epoch 280 — F1: 0.3259, Precision: 0.3409, Recall: 0.3256\n",
      "85/85 [==============================] - 1s 7ms/step - loss: 1.3230 - accuracy: 0.5294 - val_loss: 2.0673 - val_accuracy: 0.3256\n",
      "Epoch 281/400\n",
      "2/2 [==============================] - 0s 12ms/steploss: 1.2988 - accuracy: 0.54\n",
      "Epoch 281 — F1: 0.3337, Precision: 0.3614, Recall: 0.3256\n",
      "85/85 [==============================] - 1s 7ms/step - loss: 1.2976 - accuracy: 0.5529 - val_loss: 2.0181 - val_accuracy: 0.3256\n",
      "Epoch 282/400\n",
      "2/2 [==============================] - 0s 12ms/steploss: 1.3221 - accuracy: 0.48\n",
      "Epoch 282 — F1: 0.2810, Precision: 0.3201, Recall: 0.2791\n",
      "85/85 [==============================] - 1s 7ms/step - loss: 1.3275 - accuracy: 0.4765 - val_loss: 1.9816 - val_accuracy: 0.2791\n",
      "Epoch 283/400\n",
      "2/2 [==============================] - 0s 14ms/steploss: 1.3478 - accuracy: 0.50\n",
      "Epoch 283 — F1: 0.2956, Precision: 0.3200, Recall: 0.3023\n",
      "85/85 [==============================] - 1s 7ms/step - loss: 1.3501 - accuracy: 0.5059 - val_loss: 2.1277 - val_accuracy: 0.3023\n",
      "Epoch 284/400\n",
      "2/2 [==============================] - 0s 12ms/steploss: 1.3602 - accuracy: 0.46\n",
      "Epoch 284 — F1: 0.3041, Precision: 0.3260, Recall: 0.3023\n",
      "85/85 [==============================] - 1s 7ms/step - loss: 1.3652 - accuracy: 0.4706 - val_loss: 1.9887 - val_accuracy: 0.2791\n",
      "Epoch 285/400\n",
      "2/2 [==============================] - 0s 11ms/steploss: 1.3360 - accuracy: 0.51\n",
      "Epoch 285 — F1: 0.2956, Precision: 0.3457, Recall: 0.3023\n",
      "85/85 [==============================] - 1s 7ms/step - loss: 1.3380 - accuracy: 0.5118 - val_loss: 1.9988 - val_accuracy: 0.3023\n",
      "Epoch 286/400\n",
      "2/2 [==============================] - 0s 9ms/step loss: 1.3363 - accuracy: 0.53\n",
      "Epoch 286 — F1: 0.3221, Precision: 0.4176, Recall: 0.3256\n",
      "85/85 [==============================] - 1s 7ms/step - loss: 1.3337 - accuracy: 0.5353 - val_loss: 2.0394 - val_accuracy: 0.3023\n",
      "Epoch 287/400\n",
      "2/2 [==============================] - 0s 10ms/steploss: 1.3592 - accuracy: 0.49\n",
      "Epoch 287 — F1: 0.2384, Precision: 0.2770, Recall: 0.2326\n",
      "85/85 [==============================] - 1s 7ms/step - loss: 1.3587 - accuracy: 0.5000 - val_loss: 1.9982 - val_accuracy: 0.2326\n",
      "Epoch 288/400\n",
      "2/2 [==============================] - 0s 11ms/steploss: 1.3377 - accuracy: 0.54\n",
      "Epoch 288 — F1: 0.2950, Precision: 0.3273, Recall: 0.3023\n",
      "85/85 [==============================] - 1s 7ms/step - loss: 1.3354 - accuracy: 0.5412 - val_loss: 1.9782 - val_accuracy: 0.3023\n",
      "Epoch 289/400\n",
      "2/2 [==============================] - 0s 14ms/steploss: 1.2909 - accuracy: 0.56\n",
      "Epoch 289 — F1: 0.3108, Precision: 0.3445, Recall: 0.3023\n",
      "85/85 [==============================] - 1s 7ms/step - loss: 1.2943 - accuracy: 0.5529 - val_loss: 1.9116 - val_accuracy: 0.3023\n",
      "Epoch 290/400\n",
      "2/2 [==============================] - 0s 7ms/step loss: 1.3501 - accuracy: 0.46\n",
      "Epoch 290 — F1: 0.2944, Precision: 0.3647, Recall: 0.2791\n",
      "85/85 [==============================] - 1s 7ms/step - loss: 1.3477 - accuracy: 0.4588 - val_loss: 2.0357 - val_accuracy: 0.2791\n",
      "Epoch 291/400\n",
      "2/2 [==============================] - 0s 14ms/steploss: 1.2923 - accuracy: 0.54\n",
      "Epoch 291 — F1: 0.2808, Precision: 0.2975, Recall: 0.2791\n",
      "85/85 [==============================] - 1s 7ms/step - loss: 1.3011 - accuracy: 0.5412 - val_loss: 1.9332 - val_accuracy: 0.2791\n",
      "Epoch 292/400\n",
      "2/2 [==============================] - 0s 9ms/step loss: 1.3156 - accuracy: 0.51\n",
      "Epoch 292 — F1: 0.3126, Precision: 0.4064, Recall: 0.3023\n",
      "85/85 [==============================] - 1s 7ms/step - loss: 1.3098 - accuracy: 0.5235 - val_loss: 2.0617 - val_accuracy: 0.3023\n",
      "Epoch 293/400\n",
      "2/2 [==============================] - 0s 9ms/step loss: 1.2473 - accuracy: 0.57\n",
      "Epoch 293 — F1: 0.2822, Precision: 0.2940, Recall: 0.2791\n",
      "85/85 [==============================] - 1s 7ms/step - loss: 1.2577 - accuracy: 0.5765 - val_loss: 1.9143 - val_accuracy: 0.2791\n",
      "Epoch 294/400\n",
      "2/2 [==============================] - 0s 12ms/steploss: 1.2681 - accuracy: 0.53\n",
      "Epoch 294 — F1: 0.3366, Precision: 0.3714, Recall: 0.3256\n",
      "85/85 [==============================] - 1s 7ms/step - loss: 1.2856 - accuracy: 0.5176 - val_loss: 1.8945 - val_accuracy: 0.3256\n",
      "Epoch 295/400\n",
      "2/2 [==============================] - 0s 14ms/steploss: 1.2618 - accuracy: 0.56\n",
      "Epoch 295 — F1: 0.3006, Precision: 0.3280, Recall: 0.3023\n",
      "85/85 [==============================] - 1s 7ms/step - loss: 1.2534 - accuracy: 0.5706 - val_loss: 2.0109 - val_accuracy: 0.2791\n",
      "Epoch 296/400\n",
      "2/2 [==============================] - 0s 14ms/steploss: 1.2611 - accuracy: 0.53\n",
      "Epoch 296 — F1: 0.3321, Precision: 0.3491, Recall: 0.3256\n",
      "85/85 [==============================] - 1s 7ms/step - loss: 1.2669 - accuracy: 0.5353 - val_loss: 2.1247 - val_accuracy: 0.3256\n",
      "Epoch 297/400\n",
      "2/2 [==============================] - 0s 10ms/steploss: 1.2439 - accuracy: 0.56\n",
      "Epoch 297 — F1: 0.2455, Precision: 0.2456, Recall: 0.2558\n",
      "85/85 [==============================] - 1s 7ms/step - loss: 1.2465 - accuracy: 0.5647 - val_loss: 1.9610 - val_accuracy: 0.2558\n",
      "Epoch 298/400\n",
      "2/2 [==============================] - 0s 11ms/steploss: 1.2458 - accuracy: 0.55\n",
      "Epoch 298 — F1: 0.3007, Precision: 0.3357, Recall: 0.3023\n",
      "85/85 [==============================] - 1s 7ms/step - loss: 1.2403 - accuracy: 0.5588 - val_loss: 1.9210 - val_accuracy: 0.3023\n",
      "Epoch 299/400\n",
      "2/2 [==============================] - 0s 12ms/steploss: 1.3135 - accuracy: 0.50\n",
      "Epoch 299 — F1: 0.3188, Precision: 0.3419, Recall: 0.3256\n",
      "85/85 [==============================] - 1s 7ms/step - loss: 1.3060 - accuracy: 0.5059 - val_loss: 2.1492 - val_accuracy: 0.3256\n",
      "Epoch 300/400\n",
      "2/2 [==============================] - 0s 11ms/steploss: 1.3397 - accuracy: 0.54\n",
      "Epoch 300 — F1: 0.3305, Precision: 0.3448, Recall: 0.3256\n",
      "85/85 [==============================] - 1s 7ms/step - loss: 1.3367 - accuracy: 0.5471 - val_loss: 2.0556 - val_accuracy: 0.3256\n",
      "Epoch 301/400\n",
      "2/2 [==============================] - 0s 11ms/steploss: 1.3599 - accuracy: 0.44\n",
      "Epoch 301 — F1: 0.2638, Precision: 0.2877, Recall: 0.2791\n",
      "85/85 [==============================] - 1s 7ms/step - loss: 1.3525 - accuracy: 0.4529 - val_loss: 2.0036 - val_accuracy: 0.2791\n",
      "Epoch 302/400\n",
      "2/2 [==============================] - 0s 12ms/steploss: 1.2905 - accuracy: 0.51\n",
      "Epoch 302 — F1: 0.2867, Precision: 0.2953, Recall: 0.3023\n",
      "85/85 [==============================] - 1s 7ms/step - loss: 1.2916 - accuracy: 0.5118 - val_loss: 2.0079 - val_accuracy: 0.3023\n",
      "Epoch 303/400\n",
      "2/2 [==============================] - 0s 12ms/steploss: 1.2850 - accuracy: 0.48\n",
      "Epoch 303 — F1: 0.3141, Precision: 0.3741, Recall: 0.3023\n",
      "85/85 [==============================] - 1s 7ms/step - loss: 1.2898 - accuracy: 0.4765 - val_loss: 2.0663 - val_accuracy: 0.3023\n",
      "Epoch 304/400\n",
      "2/2 [==============================] - 0s 16ms/steploss: 1.2296 - accuracy: 0.54\n",
      "Epoch 304 — F1: 0.3599, Precision: 0.5210, Recall: 0.3488\n",
      "85/85 [==============================] - 1s 7ms/step - loss: 1.2267 - accuracy: 0.5529 - val_loss: 2.1306 - val_accuracy: 0.3488\n",
      "Epoch 305/400\n",
      "2/2 [==============================] - 0s 14ms/steploss: 1.2782 - accuracy: 0.53\n",
      "Epoch 305 — F1: 0.3327, Precision: 0.3521, Recall: 0.3256\n",
      "85/85 [==============================] - 1s 7ms/step - loss: 1.2744 - accuracy: 0.5412 - val_loss: 2.0557 - val_accuracy: 0.3256\n",
      "Epoch 306/400\n",
      "2/2 [==============================] - 0s 16ms/steploss: 1.2580 - accuracy: 0.55\n",
      "Epoch 306 — F1: 0.2874, Precision: 0.3204, Recall: 0.2791\n",
      "85/85 [==============================] - 1s 7ms/step - loss: 1.2541 - accuracy: 0.5588 - val_loss: 2.1617 - val_accuracy: 0.2791\n",
      "Epoch 307/400\n",
      "2/2 [==============================] - 0s 14ms/steploss: 1.2514 - accuracy: 0.51\n",
      "Epoch 307 — F1: 0.3135, Precision: 0.3434, Recall: 0.3023\n",
      "85/85 [==============================] - 1s 7ms/step - loss: 1.2456 - accuracy: 0.5294 - val_loss: 2.1540 - val_accuracy: 0.3023\n",
      "Epoch 308/400\n",
      "2/2 [==============================] - 0s 12ms/steploss: 1.2405 - accuracy: 0.50\n",
      "Epoch 308 — F1: 0.2331, Precision: 0.2563, Recall: 0.2326\n",
      "85/85 [==============================] - 1s 7ms/step - loss: 1.2343 - accuracy: 0.5176 - val_loss: 2.0001 - val_accuracy: 0.2326\n",
      "Epoch 309/400\n",
      "2/2 [==============================] - 0s 12ms/steploss: 1.2840 - accuracy: 0.50\n",
      "Epoch 309 — F1: 0.2701, Precision: 0.3096, Recall: 0.2558\n",
      "85/85 [==============================] - 1s 7ms/step - loss: 1.2834 - accuracy: 0.5059 - val_loss: 2.3382 - val_accuracy: 0.2558\n",
      "Epoch 310/400\n",
      "2/2 [==============================] - 0s 15ms/steploss: 1.2476 - accuracy: 0.56\n",
      "Epoch 310 — F1: 0.3255, Precision: 0.3815, Recall: 0.3023\n",
      "85/85 [==============================] - 1s 7ms/step - loss: 1.2476 - accuracy: 0.5647 - val_loss: 2.2462 - val_accuracy: 0.3023\n",
      "Epoch 311/400\n",
      "2/2 [==============================] - 0s 13ms/steploss: 1.2287 - accuracy: 0.56\n",
      "Epoch 311 — F1: 0.2743, Precision: 0.3105, Recall: 0.2791\n",
      "85/85 [==============================] - 1s 7ms/step - loss: 1.2262 - accuracy: 0.5588 - val_loss: 2.0376 - val_accuracy: 0.2791\n",
      "Epoch 312/400\n",
      "2/2 [==============================] - 0s 9ms/step loss: 1.2557 - accuracy: 0.54\n",
      "Epoch 312 — F1: 0.2629, Precision: 0.2903, Recall: 0.2558\n",
      "85/85 [==============================] - 1s 7ms/step - loss: 1.2513 - accuracy: 0.5588 - val_loss: 2.0881 - val_accuracy: 0.2558\n",
      "Epoch 313/400\n",
      "2/2 [==============================] - 0s 14ms/steploss: 1.2648 - accuracy: 0.47\n",
      "Epoch 313 — F1: 0.3238, Precision: 0.3540, Recall: 0.3256\n",
      "85/85 [==============================] - 1s 7ms/step - loss: 1.2656 - accuracy: 0.4882 - val_loss: 2.2105 - val_accuracy: 0.3256\n",
      "Epoch 314/400\n",
      "2/2 [==============================] - 0s 12ms/steploss: 1.3079 - accuracy: 0.54\n",
      "Epoch 314 — F1: 0.2602, Precision: 0.2977, Recall: 0.2558\n",
      "85/85 [==============================] - 1s 7ms/step - loss: 1.2950 - accuracy: 0.5588 - val_loss: 2.1382 - val_accuracy: 0.2558\n",
      "Epoch 315/400\n",
      "2/2 [==============================] - 0s 11ms/steploss: 1.2332 - accuracy: 0.56\n",
      "Epoch 315 — F1: 0.3288, Precision: 0.3654, Recall: 0.3256\n",
      "85/85 [==============================] - 1s 7ms/step - loss: 1.2320 - accuracy: 0.5588 - val_loss: 2.0365 - val_accuracy: 0.3256\n",
      "Epoch 316/400\n",
      "2/2 [==============================] - 0s 11ms/steploss: 1.2293 - accuracy: 0.54\n",
      "Epoch 316 — F1: 0.3359, Precision: 0.3826, Recall: 0.3256\n",
      "85/85 [==============================] - 1s 7ms/step - loss: 1.2293 - accuracy: 0.5471 - val_loss: 2.0680 - val_accuracy: 0.3256\n",
      "Epoch 317/400\n",
      "2/2 [==============================] - 0s 15ms/steploss: 1.1934 - accuracy: 0.60\n",
      "Epoch 317 — F1: 0.3351, Precision: 0.3780, Recall: 0.3256\n",
      "85/85 [==============================] - 1s 7ms/step - loss: 1.1904 - accuracy: 0.6118 - val_loss: 2.0716 - val_accuracy: 0.3256\n",
      "Epoch 318/400\n",
      "2/2 [==============================] - 0s 10ms/steploss: 1.2093 - accuracy: 0.56\n",
      "Epoch 318 — F1: 0.3151, Precision: 0.4332, Recall: 0.3023\n",
      "85/85 [==============================] - 1s 7ms/step - loss: 1.2104 - accuracy: 0.5706 - val_loss: 2.1078 - val_accuracy: 0.2791\n",
      "Epoch 319/400\n",
      "2/2 [==============================] - 0s 12ms/steploss: 1.2131 - accuracy: 0.53\n",
      "Epoch 319 — F1: 0.3828, Precision: 0.4547, Recall: 0.3721\n",
      "85/85 [==============================] - 1s 7ms/step - loss: 1.2233 - accuracy: 0.5294 - val_loss: 2.1674 - val_accuracy: 0.3721\n",
      "Epoch 320/400\n",
      "2/2 [==============================] - 0s 13ms/steploss: 1.2075 - accuracy: 0.62\n",
      "Epoch 320 — F1: 0.2708, Precision: 0.3344, Recall: 0.2558\n",
      "85/85 [==============================] - 1s 7ms/step - loss: 1.2181 - accuracy: 0.6118 - val_loss: 2.0005 - val_accuracy: 0.2558\n",
      "Epoch 321/400\n",
      "2/2 [==============================] - 0s 11ms/steploss: 1.2623 - accuracy: 0.50\n",
      "Epoch 321 — F1: 0.2925, Precision: 0.3289, Recall: 0.2791\n",
      "85/85 [==============================] - 1s 7ms/step - loss: 1.2590 - accuracy: 0.5000 - val_loss: 2.0629 - val_accuracy: 0.2791\n",
      "Epoch 322/400\n",
      "2/2 [==============================] - 0s 12ms/steploss: 1.1668 - accuracy: 0.60\n",
      "Epoch 322 — F1: 0.2755, Precision: 0.2930, Recall: 0.2791\n",
      "85/85 [==============================] - 1s 7ms/step - loss: 1.1668 - accuracy: 0.6059 - val_loss: 2.1729 - val_accuracy: 0.2791\n",
      "Epoch 323/400\n",
      "2/2 [==============================] - 0s 9ms/step loss: 1.2217 - accuracy: 0.53\n",
      "Epoch 323 — F1: 0.2920, Precision: 0.3344, Recall: 0.3023\n",
      "85/85 [==============================] - 1s 7ms/step - loss: 1.2175 - accuracy: 0.5471 - val_loss: 2.1612 - val_accuracy: 0.3023\n",
      "Epoch 324/400\n",
      "2/2 [==============================] - 0s 11ms/steploss: 1.1377 - accuracy: 0.61\n",
      "Epoch 324 — F1: 0.2376, Precision: 0.2886, Recall: 0.2326\n",
      "85/85 [==============================] - 1s 7ms/step - loss: 1.1387 - accuracy: 0.6176 - val_loss: 2.1041 - val_accuracy: 0.2326\n",
      "Epoch 325/400\n",
      "2/2 [==============================] - 0s 13ms/steploss: 1.2669 - accuracy: 0.58\n",
      "Epoch 325 — F1: 0.3125, Precision: 0.3520, Recall: 0.3023\n",
      "85/85 [==============================] - 1s 7ms/step - loss: 1.2674 - accuracy: 0.5765 - val_loss: 2.0821 - val_accuracy: 0.3023\n",
      "Epoch 326/400\n",
      "2/2 [==============================] - 0s 9ms/step loss: 1.1516 - accuracy: 0.57\n",
      "Epoch 326 — F1: 0.2913, Precision: 0.2998, Recall: 0.3023\n",
      "85/85 [==============================] - 1s 7ms/step - loss: 1.1507 - accuracy: 0.5765 - val_loss: 2.0645 - val_accuracy: 0.3023\n",
      "Epoch 327/400\n",
      "2/2 [==============================] - 0s 14ms/steploss: 1.2497 - accuracy: 0.49\n",
      "Epoch 327 — F1: 0.3602, Precision: 0.3945, Recall: 0.3488\n",
      "85/85 [==============================] - 1s 7ms/step - loss: 1.2492 - accuracy: 0.4941 - val_loss: 1.9690 - val_accuracy: 0.3488\n",
      "Epoch 328/400\n",
      "2/2 [==============================] - 0s 17ms/steploss: 1.1947 - accuracy: 0.55\n",
      "Epoch 328 — F1: 0.2862, Precision: 0.3080, Recall: 0.2791\n",
      "85/85 [==============================] - 1s 7ms/step - loss: 1.1947 - accuracy: 0.5529 - val_loss: 1.9480 - val_accuracy: 0.2791\n",
      "Epoch 329/400\n",
      "2/2 [==============================] - 0s 12ms/steploss: 1.1790 - accuracy: 0.58\n",
      "Epoch 329 — F1: 0.3637, Precision: 0.4271, Recall: 0.3488\n",
      "85/85 [==============================] - 1s 7ms/step - loss: 1.1790 - accuracy: 0.5824 - val_loss: 2.0235 - val_accuracy: 0.3488\n",
      "Epoch 330/400\n",
      "2/2 [==============================] - 0s 14ms/steploss: 1.1369 - accuracy: 0.60\n",
      "Epoch 330 — F1: 0.3285, Precision: 0.3866, Recall: 0.3256\n",
      "85/85 [==============================] - 1s 7ms/step - loss: 1.1391 - accuracy: 0.6118 - val_loss: 2.2052 - val_accuracy: 0.3256\n",
      "Epoch 331/400\n",
      "2/2 [==============================] - 0s 14ms/steploss: 1.1941 - accuracy: 0.56\n",
      "Epoch 331 — F1: 0.3191, Precision: 0.3901, Recall: 0.3023\n",
      "85/85 [==============================] - 1s 7ms/step - loss: 1.1941 - accuracy: 0.5647 - val_loss: 2.1422 - val_accuracy: 0.3023\n",
      "Epoch 332/400\n",
      "2/2 [==============================] - 0s 12ms/steploss: 1.2352 - accuracy: 0.52\n",
      "Epoch 332 — F1: 0.2177, Precision: 0.2563, Recall: 0.2326\n",
      "85/85 [==============================] - 1s 7ms/step - loss: 1.2338 - accuracy: 0.5176 - val_loss: 2.0584 - val_accuracy: 0.2326\n",
      "Epoch 333/400\n",
      "2/2 [==============================] - 0s 12ms/steploss: 1.2297 - accuracy: 0.53\n",
      "Epoch 333 — F1: 0.2634, Precision: 0.3248, Recall: 0.2558\n",
      "85/85 [==============================] - 1s 7ms/step - loss: 1.2281 - accuracy: 0.5353 - val_loss: 2.0188 - val_accuracy: 0.2558\n",
      "Epoch 334/400\n",
      "2/2 [==============================] - 0s 12ms/steploss: 1.2473 - accuracy: 0.50\n",
      "Epoch 334 — F1: 0.2468, Precision: 0.3178, Recall: 0.2326\n",
      "85/85 [==============================] - 1s 7ms/step - loss: 1.2432 - accuracy: 0.5118 - val_loss: 2.1013 - val_accuracy: 0.2326\n",
      "Epoch 335/400\n",
      "2/2 [==============================] - 0s 11ms/steploss: 1.2192 - accuracy: 0.58\n",
      "Epoch 335 — F1: 0.2321, Precision: 0.2665, Recall: 0.2326\n",
      "85/85 [==============================] - 1s 7ms/step - loss: 1.2115 - accuracy: 0.5882 - val_loss: 2.1034 - val_accuracy: 0.2326\n",
      "Epoch 336/400\n",
      "2/2 [==============================] - 0s 15ms/steploss: 1.1350 - accuracy: 0.61\n",
      "Epoch 336 — F1: 0.3066, Precision: 0.4455, Recall: 0.3023\n",
      "85/85 [==============================] - 1s 7ms/step - loss: 1.1363 - accuracy: 0.6118 - val_loss: 2.2756 - val_accuracy: 0.3023\n",
      "Epoch 337/400\n",
      "2/2 [==============================] - 0s 9ms/step loss: 1.2003 - accuracy: 0.60\n",
      "Epoch 337 — F1: 0.2566, Precision: 0.2756, Recall: 0.2558\n",
      "85/85 [==============================] - 1s 7ms/step - loss: 1.1989 - accuracy: 0.6118 - val_loss: 2.2759 - val_accuracy: 0.2558\n",
      "Epoch 338/400\n",
      "2/2 [==============================] - 0s 12ms/steploss: 1.1976 - accuracy: 0.58\n",
      "Epoch 338 — F1: 0.3535, Precision: 0.4115, Recall: 0.3488\n",
      "85/85 [==============================] - 1s 7ms/step - loss: 1.1970 - accuracy: 0.5882 - val_loss: 2.1610 - val_accuracy: 0.3488\n",
      "Epoch 339/400\n",
      "2/2 [==============================] - 0s 13ms/steploss: 1.1521 - accuracy: 0.59\n",
      "Epoch 339 — F1: 0.2500, Precision: 0.3750, Recall: 0.2558\n",
      "85/85 [==============================] - 1s 7ms/step - loss: 1.1503 - accuracy: 0.5941 - val_loss: 2.1578 - val_accuracy: 0.2558\n",
      "Epoch 340/400\n",
      "2/2 [==============================] - 0s 9ms/step loss: 1.0937 - accuracy: 0.60\n",
      "Epoch 340 — F1: 0.2821, Precision: 0.3655, Recall: 0.2791\n",
      "85/85 [==============================] - 1s 7ms/step - loss: 1.0843 - accuracy: 0.6176 - val_loss: 2.2386 - val_accuracy: 0.2791\n",
      "Epoch 341/400\n",
      "2/2 [==============================] - 0s 8ms/step loss: 1.1738 - accuracy: 0.55\n",
      "Epoch 341 — F1: 0.2857, Precision: 0.4424, Recall: 0.2791\n",
      "85/85 [==============================] - 1s 7ms/step - loss: 1.1610 - accuracy: 0.5647 - val_loss: 2.1109 - val_accuracy: 0.2791\n",
      "Epoch 342/400\n",
      "2/2 [==============================] - 0s 10ms/steploss: 1.1413 - accuracy: 0.59\n",
      "Epoch 342 — F1: 0.3165, Precision: 0.3674, Recall: 0.3023\n",
      "85/85 [==============================] - 1s 7ms/step - loss: 1.1432 - accuracy: 0.5882 - val_loss: 2.1287 - val_accuracy: 0.3023\n",
      "Epoch 343/400\n",
      "2/2 [==============================] - 0s 13ms/steploss: 1.1668 - accuracy: 0.53\n",
      "Epoch 343 — F1: 0.3084, Precision: 0.4056, Recall: 0.3256\n",
      "85/85 [==============================] - 1s 7ms/step - loss: 1.1787 - accuracy: 0.5294 - val_loss: 2.1129 - val_accuracy: 0.3256\n",
      "Epoch 344/400\n",
      "2/2 [==============================] - 0s 14ms/steploss: 1.1773 - accuracy: 0.56\n",
      "Epoch 344 — F1: 0.2410, Precision: 0.2749, Recall: 0.2558\n",
      "85/85 [==============================] - 1s 7ms/step - loss: 1.1707 - accuracy: 0.5706 - val_loss: 2.0738 - val_accuracy: 0.2558\n",
      "Epoch 345/400\n",
      "2/2 [==============================] - 0s 10ms/steploss: 1.2366 - accuracy: 0.52\n",
      "Epoch 345 — F1: 0.3146, Precision: 0.3758, Recall: 0.3023\n",
      "85/85 [==============================] - 1s 7ms/step - loss: 1.2416 - accuracy: 0.5118 - val_loss: 2.2298 - val_accuracy: 0.3023\n",
      "Epoch 346/400\n",
      "2/2 [==============================] - 0s 12ms/steploss: 1.1539 - accuracy: 0.59\n",
      "Epoch 346 — F1: 0.2650, Precision: 0.3111, Recall: 0.2791\n",
      "85/85 [==============================] - 1s 7ms/step - loss: 1.1526 - accuracy: 0.6000 - val_loss: 2.1043 - val_accuracy: 0.2791\n",
      "Epoch 347/400\n",
      "2/2 [==============================] - 0s 9ms/step loss: 1.0683 - accuracy: 0.64\n",
      "Epoch 347 — F1: 0.3105, Precision: 0.3924, Recall: 0.3023\n",
      "85/85 [==============================] - 1s 7ms/step - loss: 1.0683 - accuracy: 0.6471 - val_loss: 2.2363 - val_accuracy: 0.3023\n",
      "Epoch 348/400\n",
      "2/2 [==============================] - 0s 9ms/step loss: 1.1067 - accuracy: 0.62\n",
      "Epoch 348 — F1: 0.2818, Precision: 0.2920, Recall: 0.2791\n",
      "85/85 [==============================] - 1s 7ms/step - loss: 1.0922 - accuracy: 0.6294 - val_loss: 2.1593 - val_accuracy: 0.2791\n",
      "Epoch 349/400\n",
      "2/2 [==============================] - 0s 12ms/steploss: 1.1092 - accuracy: 0.60\n",
      "Epoch 349 — F1: 0.3401, Precision: 0.4541, Recall: 0.3256\n",
      "85/85 [==============================] - 1s 7ms/step - loss: 1.1092 - accuracy: 0.6000 - val_loss: 2.1232 - val_accuracy: 0.3256\n",
      "Epoch 350/400\n",
      "2/2 [==============================] - 0s 11ms/steploss: 1.0787 - accuracy: 0.64\n",
      "Epoch 350 — F1: 0.2848, Precision: 0.3614, Recall: 0.2791\n",
      "85/85 [==============================] - 1s 7ms/step - loss: 1.0765 - accuracy: 0.6412 - val_loss: 2.0907 - val_accuracy: 0.2791\n",
      "Epoch 351/400\n",
      "2/2 [==============================] - 0s 11ms/steploss: 1.1173 - accuracy: 0.59\n",
      "Epoch 351 — F1: 0.3050, Precision: 0.3259, Recall: 0.3256\n",
      "85/85 [==============================] - 1s 7ms/step - loss: 1.1158 - accuracy: 0.6000 - val_loss: 1.9864 - val_accuracy: 0.3488\n",
      "Epoch 352/400\n",
      "32/85 [==========>...................] - ETA: 0s - loss: 1.1275 - accuracy: 0.6250"
     ]
    },
    {
     "name": "stderr",
     "output_type": "stream",
     "text": [
      "c:\\Users\\joshu\\anaconda3\\envs\\SuperBoop\\lib\\site-packages\\sklearn\\metrics\\_classification.py:1531: UndefinedMetricWarning: Precision is ill-defined and being set to 0.0 in labels with no predicted samples. Use `zero_division` parameter to control this behavior.\n",
      "  _warn_prf(average, modifier, f\"{metric.capitalize()} is\", len(result))\n"
     ]
    },
    {
     "name": "stdout",
     "output_type": "stream",
     "text": [
      "2/2 [==============================] - 0s 9ms/step loss: 1.1412 - accuracy: 0.59\n",
      "Epoch 352 — F1: 0.3284, Precision: 0.4628, Recall: 0.3256\n",
      "85/85 [==============================] - 1s 7ms/step - loss: 1.1475 - accuracy: 0.5941 - val_loss: 2.1340 - val_accuracy: 0.3256\n",
      "Epoch 353/400\n",
      "2/2 [==============================] - 0s 17ms/steploss: 1.0729 - accuracy: 0.61\n",
      "Epoch 353 — F1: 0.3808, Precision: 0.4541, Recall: 0.3721\n",
      "85/85 [==============================] - 1s 7ms/step - loss: 1.0842 - accuracy: 0.6118 - val_loss: 2.0511 - val_accuracy: 0.3721\n",
      "Epoch 354/400\n",
      "2/2 [==============================] - 0s 15ms/steploss: 1.0988 - accuracy: 0.56\n",
      "Epoch 354 — F1: 0.4166, Precision: 0.4781, Recall: 0.3953\n",
      "85/85 [==============================] - 1s 7ms/step - loss: 1.1009 - accuracy: 0.5588 - val_loss: 2.1321 - val_accuracy: 0.3953\n",
      "Epoch 355/400\n",
      "2/2 [==============================] - 0s 16ms/steploss: 1.0882 - accuracy: 0.61\n",
      "Epoch 355 — F1: 0.4156, Precision: 0.4824, Recall: 0.3953\n",
      "85/85 [==============================] - 1s 7ms/step - loss: 1.1017 - accuracy: 0.6118 - val_loss: 2.2080 - val_accuracy: 0.3953\n",
      "Epoch 356/400\n",
      "2/2 [==============================] - 0s 7ms/step loss: 1.0776 - accuracy: 0.61\n",
      "Epoch 356 — F1: 0.2747, Precision: 0.4249, Recall: 0.2791\n",
      "85/85 [==============================] - 1s 7ms/step - loss: 1.0780 - accuracy: 0.6176 - val_loss: 2.1176 - val_accuracy: 0.2791\n",
      "Epoch 357/400\n",
      "2/2 [==============================] - 0s 12ms/steploss: 1.0924 - accuracy: 0.62\n",
      "Epoch 357 — F1: 0.3533, Precision: 0.3736, Recall: 0.3488\n",
      "85/85 [==============================] - 1s 7ms/step - loss: 1.0931 - accuracy: 0.6353 - val_loss: 2.1250 - val_accuracy: 0.3488\n",
      "Epoch 358/400\n",
      "2/2 [==============================] - 0s 12ms/steploss: 1.1063 - accuracy: 0.66\n",
      "Epoch 358 — F1: 0.3167, Precision: 0.4122, Recall: 0.3023\n",
      "85/85 [==============================] - 1s 7ms/step - loss: 1.0995 - accuracy: 0.6706 - val_loss: 2.2099 - val_accuracy: 0.3023\n",
      "Epoch 359/400\n",
      "2/2 [==============================] - 0s 7ms/step loss: 1.1093 - accuracy: 0.61\n",
      "Epoch 359 — F1: 0.2795, Precision: 0.3375, Recall: 0.2791\n",
      "85/85 [==============================] - 1s 7ms/step - loss: 1.1311 - accuracy: 0.6059 - val_loss: 2.2916 - val_accuracy: 0.2791\n",
      "Epoch 360/400\n",
      "2/2 [==============================] - 0s 10ms/steploss: 1.1014 - accuracy: 0.65\n",
      "Epoch 360 — F1: 0.3485, Precision: 0.4017, Recall: 0.3488\n",
      "85/85 [==============================] - 1s 7ms/step - loss: 1.1064 - accuracy: 0.6471 - val_loss: 2.2697 - val_accuracy: 0.3488\n",
      "Epoch 361/400\n",
      "2/2 [==============================] - 0s 12ms/steploss: 1.1555 - accuracy: 0.61\n",
      "Epoch 361 — F1: 0.3818, Precision: 0.4132, Recall: 0.3721\n",
      "85/85 [==============================] - 1s 7ms/step - loss: 1.1513 - accuracy: 0.6118 - val_loss: 2.1939 - val_accuracy: 0.3721\n",
      "Epoch 362/400\n",
      "2/2 [==============================] - 0s 13ms/steploss: 0.9909 - accuracy: 0.69\n",
      "Epoch 362 — F1: 0.3393, Precision: 0.3886, Recall: 0.3488\n",
      "85/85 [==============================] - 1s 7ms/step - loss: 0.9909 - accuracy: 0.6941 - val_loss: 2.2034 - val_accuracy: 0.3488\n",
      "Epoch 363/400\n",
      "2/2 [==============================] - 0s 12ms/steploss: 1.0733 - accuracy: 0.64\n",
      "Epoch 363 — F1: 0.3020, Precision: 0.3342, Recall: 0.3023\n",
      "85/85 [==============================] - 1s 7ms/step - loss: 1.0732 - accuracy: 0.6529 - val_loss: 2.0243 - val_accuracy: 0.3023\n",
      "Epoch 364/400\n",
      "2/2 [==============================] - 0s 10ms/steploss: 1.1197 - accuracy: 0.61\n",
      "Epoch 364 — F1: 0.2493, Precision: 0.2752, Recall: 0.2558\n",
      "85/85 [==============================] - 1s 7ms/step - loss: 1.1260 - accuracy: 0.6176 - val_loss: 2.0767 - val_accuracy: 0.2558\n",
      "Epoch 365/400\n",
      "2/2 [==============================] - 0s 14ms/steploss: 1.1244 - accuracy: 0.61\n",
      "Epoch 365 — F1: 0.2530, Precision: 0.2836, Recall: 0.2558\n",
      "85/85 [==============================] - 1s 7ms/step - loss: 1.1269 - accuracy: 0.6118 - val_loss: 2.0535 - val_accuracy: 0.2558\n",
      "Epoch 366/400\n",
      "2/2 [==============================] - 0s 10ms/steploss: 1.0722 - accuracy: 0.63\n",
      "Epoch 366 — F1: 0.2917, Precision: 0.3845, Recall: 0.3023\n",
      "85/85 [==============================] - 1s 7ms/step - loss: 1.0713 - accuracy: 0.6353 - val_loss: 2.1931 - val_accuracy: 0.3023\n",
      "Epoch 367/400\n",
      "33/85 [==========>...................] - ETA: 0s - loss: 1.0201 - accuracy: 0.6212"
     ]
    },
    {
     "name": "stderr",
     "output_type": "stream",
     "text": [
      "c:\\Users\\joshu\\anaconda3\\envs\\SuperBoop\\lib\\site-packages\\sklearn\\metrics\\_classification.py:1531: UndefinedMetricWarning: Precision is ill-defined and being set to 0.0 in labels with no predicted samples. Use `zero_division` parameter to control this behavior.\n",
      "  _warn_prf(average, modifier, f\"{metric.capitalize()} is\", len(result))\n"
     ]
    },
    {
     "name": "stdout",
     "output_type": "stream",
     "text": [
      "2/2 [==============================] - 0s 10ms/steploss: 1.0421 - accuracy: 0.62\n",
      "Epoch 367 — F1: 0.3078, Precision: 0.3396, Recall: 0.3256\n",
      "85/85 [==============================] - 1s 7ms/step - loss: 1.0453 - accuracy: 0.6176 - val_loss: 2.2089 - val_accuracy: 0.3256\n",
      "Epoch 368/400\n",
      "32/85 [==========>...................] - ETA: 0s - loss: 1.0789 - accuracy: 0.5938"
     ]
    },
    {
     "name": "stderr",
     "output_type": "stream",
     "text": [
      "c:\\Users\\joshu\\anaconda3\\envs\\SuperBoop\\lib\\site-packages\\sklearn\\metrics\\_classification.py:1531: UndefinedMetricWarning: Precision is ill-defined and being set to 0.0 in labels with no predicted samples. Use `zero_division` parameter to control this behavior.\n",
      "  _warn_prf(average, modifier, f\"{metric.capitalize()} is\", len(result))\n"
     ]
    },
    {
     "name": "stdout",
     "output_type": "stream",
     "text": [
      "2/2 [==============================] - 0s 10ms/steploss: 1.0014 - accuracy: 0.67\n",
      "Epoch 368 — F1: 0.3404, Precision: 0.3943, Recall: 0.3256\n",
      "85/85 [==============================] - 1s 7ms/step - loss: 1.0061 - accuracy: 0.6765 - val_loss: 2.2044 - val_accuracy: 0.3256\n",
      "Epoch 369/400\n",
      "2/2 [==============================] - 0s 12ms/steploss: 1.0742 - accuracy: 0.66\n",
      "Epoch 369 — F1: 0.3324, Precision: 0.3758, Recall: 0.3256\n",
      "85/85 [==============================] - 1s 7ms/step - loss: 1.0700 - accuracy: 0.6647 - val_loss: 2.0499 - val_accuracy: 0.3256\n",
      "Epoch 370/400\n",
      "2/2 [==============================] - 0s 11ms/steploss: 1.0765 - accuracy: 0.65\n",
      "Epoch 370 — F1: 0.3380, Precision: 0.4118, Recall: 0.3256\n",
      "85/85 [==============================] - 1s 7ms/step - loss: 1.0588 - accuracy: 0.6647 - val_loss: 2.1528 - val_accuracy: 0.3256\n",
      "Epoch 371/400\n",
      "2/2 [==============================] - 0s 12ms/steploss: 1.0479 - accuracy: 0.66\n",
      "Epoch 371 — F1: 0.2490, Precision: 0.2542, Recall: 0.2558\n",
      "85/85 [==============================] - 1s 7ms/step - loss: 1.0479 - accuracy: 0.6647 - val_loss: 2.2176 - val_accuracy: 0.2558\n",
      "Epoch 372/400\n",
      "2/2 [==============================] - 0s 7ms/step loss: 1.0530 - accuracy: 0.62\n",
      "Epoch 372 — F1: 0.2768, Precision: 0.2950, Recall: 0.2791\n",
      "85/85 [==============================] - 1s 7ms/step - loss: 1.0655 - accuracy: 0.6176 - val_loss: 2.1513 - val_accuracy: 0.2791\n",
      "Epoch 373/400\n",
      "2/2 [==============================] - 0s 12ms/steploss: 1.0205 - accuracy: 0.67\n",
      "Epoch 373 — F1: 0.3258, Precision: 0.3788, Recall: 0.3256\n",
      "85/85 [==============================] - 1s 7ms/step - loss: 1.0141 - accuracy: 0.6706 - val_loss: 2.3230 - val_accuracy: 0.3256\n",
      "Epoch 374/400\n",
      "2/2 [==============================] - 0s 14ms/steploss: 1.1121 - accuracy: 0.58\n",
      "Epoch 374 — F1: 0.3196, Precision: 0.3264, Recall: 0.3256\n",
      "85/85 [==============================] - 1s 7ms/step - loss: 1.1108 - accuracy: 0.5941 - val_loss: 1.9910 - val_accuracy: 0.3256\n",
      "Epoch 375/400\n",
      "2/2 [==============================] - 0s 17ms/steploss: 1.0959 - accuracy: 0.62\n",
      "Epoch 375 — F1: 0.3410, Precision: 0.4494, Recall: 0.3256\n",
      "85/85 [==============================] - 1s 7ms/step - loss: 1.0922 - accuracy: 0.6294 - val_loss: 2.3486 - val_accuracy: 0.3256\n",
      "Epoch 376/400\n",
      "2/2 [==============================] - 0s 9ms/step loss: 0.9627 - accuracy: 0.72\n",
      "Epoch 376 — F1: 0.3251, Precision: 0.3899, Recall: 0.3256\n",
      "85/85 [==============================] - 1s 7ms/step - loss: 0.9723 - accuracy: 0.7235 - val_loss: 2.3679 - val_accuracy: 0.3256\n",
      "Epoch 377/400\n",
      "2/2 [==============================] - 0s 11ms/steploss: 1.0954 - accuracy: 0.62\n",
      "Epoch 377 — F1: 0.3286, Precision: 0.3729, Recall: 0.3256\n",
      "85/85 [==============================] - 1s 7ms/step - loss: 1.0954 - accuracy: 0.6353 - val_loss: 2.3181 - val_accuracy: 0.3256\n",
      "Epoch 378/400\n",
      "2/2 [==============================] - 0s 12ms/steploss: 1.0535 - accuracy: 0.63\n",
      "Epoch 378 — F1: 0.3515, Precision: 0.4349, Recall: 0.3488\n",
      "85/85 [==============================] - 1s 7ms/step - loss: 1.0660 - accuracy: 0.6294 - val_loss: 2.3621 - val_accuracy: 0.3488\n",
      "Epoch 379/400\n",
      "2/2 [==============================] - 0s 12ms/steploss: 1.1364 - accuracy: 0.57\n",
      "Epoch 379 — F1: 0.3252, Precision: 0.4193, Recall: 0.3256\n",
      "85/85 [==============================] - 1s 7ms/step - loss: 1.1360 - accuracy: 0.5765 - val_loss: 2.2903 - val_accuracy: 0.3256\n",
      "Epoch 380/400\n",
      "2/2 [==============================] - 0s 12ms/steploss: 1.0521 - accuracy: 0.65\n",
      "Epoch 380 — F1: 0.3469, Precision: 0.4283, Recall: 0.3256\n",
      "85/85 [==============================] - 1s 7ms/step - loss: 1.0565 - accuracy: 0.6412 - val_loss: 2.2752 - val_accuracy: 0.3256\n",
      "Epoch 381/400\n",
      "2/2 [==============================] - 0s 17ms/steploss: 1.0319 - accuracy: 0.66\n",
      "Epoch 381 — F1: 0.2972, Precision: 0.4308, Recall: 0.3023\n",
      "85/85 [==============================] - 1s 7ms/step - loss: 1.0170 - accuracy: 0.6765 - val_loss: 2.3037 - val_accuracy: 0.3023\n",
      "Epoch 382/400\n",
      "2/2 [==============================] - 0s 11ms/steploss: 1.0062 - accuracy: 0.68\n",
      "Epoch 382 — F1: 0.3012, Precision: 0.3374, Recall: 0.3023\n",
      "85/85 [==============================] - 1s 7ms/step - loss: 1.0071 - accuracy: 0.6824 - val_loss: 2.3400 - val_accuracy: 0.3023\n",
      "Epoch 383/400\n",
      "2/2 [==============================] - 0s 6ms/step loss: 1.0679 - accuracy: 0.65\n",
      "Epoch 383 — F1: 0.3178, Precision: 0.3370, Recall: 0.3256\n",
      "85/85 [==============================] - 1s 7ms/step - loss: 1.0465 - accuracy: 0.6706 - val_loss: 2.2633 - val_accuracy: 0.3256\n",
      "Epoch 384/400\n",
      "2/2 [==============================] - 0s 12ms/steploss: 1.0296 - accuracy: 0.63\n",
      "Epoch 384 — F1: 0.2973, Precision: 0.3178, Recall: 0.3023\n",
      "85/85 [==============================] - 1s 7ms/step - loss: 1.0286 - accuracy: 0.6294 - val_loss: 2.4194 - val_accuracy: 0.3023\n",
      "Epoch 385/400\n",
      "2/2 [==============================] - 0s 11ms/steploss: 1.0498 - accuracy: 0.60\n",
      "Epoch 385 — F1: 0.2986, Precision: 0.3098, Recall: 0.3023\n",
      "85/85 [==============================] - 1s 7ms/step - loss: 1.0513 - accuracy: 0.6118 - val_loss: 2.1490 - val_accuracy: 0.3023\n",
      "Epoch 386/400\n",
      "2/2 [==============================] - 0s 17ms/steploss: 1.0356 - accuracy: 0.67\n",
      "Epoch 386 — F1: 0.3148, Precision: 0.3368, Recall: 0.3256\n",
      "85/85 [==============================] - 1s 7ms/step - loss: 1.0410 - accuracy: 0.6647 - val_loss: 2.2078 - val_accuracy: 0.3256\n",
      "Epoch 387/400\n",
      "2/2 [==============================] - 0s 13ms/steploss: 1.0635 - accuracy: 0.59\n",
      "Epoch 387 — F1: 0.3084, Precision: 0.4041, Recall: 0.3023\n",
      "85/85 [==============================] - 1s 7ms/step - loss: 1.0515 - accuracy: 0.6059 - val_loss: 2.2995 - val_accuracy: 0.3023\n",
      "Epoch 388/400\n",
      "2/2 [==============================] - 0s 13ms/steploss: 0.9597 - accuracy: 0.70\n",
      "Epoch 388 — F1: 0.2608, Precision: 0.2899, Recall: 0.2558\n",
      "85/85 [==============================] - 1s 7ms/step - loss: 0.9533 - accuracy: 0.7118 - val_loss: 2.2562 - val_accuracy: 0.2558\n",
      "Epoch 389/400\n",
      "2/2 [==============================] - 0s 17ms/steploss: 0.9471 - accuracy: 0.71\n",
      "Epoch 389 — F1: 0.2459, Precision: 0.2723, Recall: 0.2558\n",
      "85/85 [==============================] - 1s 7ms/step - loss: 0.9479 - accuracy: 0.7118 - val_loss: 2.1770 - val_accuracy: 0.2558\n",
      "Epoch 390/400\n",
      "2/2 [==============================] - 0s 11ms/steploss: 0.9724 - accuracy: 0.71\n",
      "Epoch 390 — F1: 0.2593, Precision: 0.2901, Recall: 0.2558\n",
      "85/85 [==============================] - 1s 7ms/step - loss: 0.9652 - accuracy: 0.7059 - val_loss: 2.2979 - val_accuracy: 0.2558\n",
      "Epoch 391/400\n",
      "2/2 [==============================] - 0s 13ms/steploss: 1.0295 - accuracy: 0.64\n",
      "Epoch 391 — F1: 0.3842, Precision: 0.4862, Recall: 0.3721\n",
      "85/85 [==============================] - 1s 7ms/step - loss: 1.0260 - accuracy: 0.6471 - val_loss: 2.2655 - val_accuracy: 0.3721\n",
      "Epoch 392/400\n",
      "2/2 [==============================] - 0s 10ms/steploss: 1.0290 - accuracy: 0.65\n",
      "Epoch 392 — F1: 0.2956, Precision: 0.3005, Recall: 0.3023\n",
      "85/85 [==============================] - 1s 7ms/step - loss: 1.0290 - accuracy: 0.6588 - val_loss: 2.3397 - val_accuracy: 0.3023\n",
      "Epoch 393/400\n",
      "2/2 [==============================] - 0s 12ms/steploss: 1.0003 - accuracy: 0.67\n",
      "Epoch 393 — F1: 0.3425, Precision: 0.4150, Recall: 0.3256\n",
      "85/85 [==============================] - 1s 7ms/step - loss: 0.9906 - accuracy: 0.6765 - val_loss: 2.3794 - val_accuracy: 0.3256\n",
      "Epoch 394/400\n",
      "2/2 [==============================] - 0s 7ms/step loss: 0.9550 - accuracy: 0.64\n",
      "Epoch 394 — F1: 0.2811, Precision: 0.3008, Recall: 0.2791\n",
      "85/85 [==============================] - 1s 7ms/step - loss: 0.9540 - accuracy: 0.6471 - val_loss: 2.3300 - val_accuracy: 0.2791\n",
      "Epoch 395/400\n",
      "2/2 [==============================] - 0s 13ms/steploss: 0.9585 - accuracy: 0.68\n",
      "Epoch 395 — F1: 0.3558, Precision: 0.3948, Recall: 0.3488\n",
      "85/85 [==============================] - 1s 7ms/step - loss: 0.9658 - accuracy: 0.7000 - val_loss: 2.3308 - val_accuracy: 0.3488\n",
      "Epoch 396/400\n",
      "2/2 [==============================] - 0s 18ms/steploss: 1.0297 - accuracy: 0.60\n",
      "Epoch 396 — F1: 0.2848, Precision: 0.3101, Recall: 0.2791\n",
      "85/85 [==============================] - 1s 7ms/step - loss: 1.0252 - accuracy: 0.6059 - val_loss: 2.4205 - val_accuracy: 0.2791\n",
      "Epoch 397/400\n",
      "2/2 [==============================] - 0s 11ms/steploss: 0.9981 - accuracy: 0.67\n",
      "Epoch 397 — F1: 0.3220, Precision: 0.3661, Recall: 0.3023\n",
      "85/85 [==============================] - 1s 7ms/step - loss: 0.9902 - accuracy: 0.6765 - val_loss: 2.4890 - val_accuracy: 0.3023\n",
      "Epoch 398/400\n",
      "2/2 [==============================] - 0s 12ms/steploss: 1.0435 - accuracy: 0.64\n",
      "Epoch 398 — F1: 0.2797, Precision: 0.3151, Recall: 0.2791\n",
      "85/85 [==============================] - 1s 7ms/step - loss: 1.0328 - accuracy: 0.6471 - val_loss: 2.4070 - val_accuracy: 0.2791\n",
      "Epoch 399/400\n",
      "34/85 [===========>..................] - ETA: 0s - loss: 0.9268 - accuracy: 0.7353"
     ]
    },
    {
     "name": "stderr",
     "output_type": "stream",
     "text": [
      "c:\\Users\\joshu\\anaconda3\\envs\\SuperBoop\\lib\\site-packages\\sklearn\\metrics\\_classification.py:1531: UndefinedMetricWarning: Precision is ill-defined and being set to 0.0 in labels with no predicted samples. Use `zero_division` parameter to control this behavior.\n",
      "  _warn_prf(average, modifier, f\"{metric.capitalize()} is\", len(result))\n"
     ]
    },
    {
     "name": "stdout",
     "output_type": "stream",
     "text": [
      "2/2 [==============================] - 0s 13ms/steploss: 0.9915 - accuracy: 0.65\n",
      "Epoch 399 — F1: 0.3065, Precision: 0.3682, Recall: 0.3023\n",
      "85/85 [==============================] - 1s 7ms/step - loss: 0.9914 - accuracy: 0.6529 - val_loss: 2.3324 - val_accuracy: 0.3023\n",
      "Epoch 400/400\n",
      "2/2 [==============================] - 0s 9ms/step loss: 0.9662 - accuracy: 0.68\n",
      "Epoch 400 — F1: 0.2918, Precision: 0.3194, Recall: 0.3023\n",
      "85/85 [==============================] - 1s 7ms/step - loss: 0.9642 - accuracy: 0.6882 - val_loss: 2.3521 - val_accuracy: 0.3023\n"
     ]
    },
    {
     "data": {
      "image/png": "[encoded data removed]",
      "text/plain": [
       "<Figure size 640x480 with 1 Axes>"
      ]
     },
     "metadata": {},
     "output_type": "display_data"
    },
    {
     "name": "stdout",
     "output_type": "stream",
     "text": [
      "Model: \"sequential\"\n",
      "_________________________________________________________________\n",
      " Layer (type)                Output Shape              Param #   \n",
      "=================================================================\n",
      " conv2d (Conv2D)             (None, 112, 112, 8)       224       \n",
      "                                                                 \n",
      " batch_normalization (BatchN  (None, 112, 112, 8)      32        \n",
      " ormalization)                                                   \n",
      "                                                                 \n",
      " depthwise_conv2d (Depthwise  (None, 112, 112, 8)      80        \n",
      " Conv2D)                                                         \n",
      "                                                                 \n",
      " batch_normalization_1 (Batc  (None, 112, 112, 8)      32        \n",
      " hNormalization)                                                 \n",
      "                                                                 \n",
      " conv2d_1 (Conv2D)           (None, 112, 112, 16)      144       \n",
      "                                                                 \n",
      " max_pooling2d (MaxPooling2D  (None, 56, 56, 16)       0         \n",
      " )                                                               \n",
      "                                                                 \n",
      " conv2d_2 (Conv2D)           (None, 56, 56, 32)        544       \n",
      "                                                                 \n",
      " batch_normalization_2 (Batc  (None, 56, 56, 32)       128       \n",
      " hNormalization)                                                 \n",
      "                                                                 \n",
      " depthwise_conv2d_1 (Depthwi  (None, 56, 56, 32)       320       \n",
      " seConv2D)                                                       \n",
      "                                                                 \n",
      " batch_normalization_3 (Batc  (None, 56, 56, 32)       128       \n",
      " hNormalization)                                                 \n",
      "                                                                 \n",
      " conv2d_3 (Conv2D)           (None, 56, 56, 32)        1056      \n",
      "                                                                 \n",
      " max_pooling2d_1 (MaxPooling  (None, 28, 28, 32)       0         \n",
      " 2D)                                                             \n",
      "                                                                 \n",
      " conv2d_4 (Conv2D)           (None, 28, 28, 64)        2112      \n",
      "                                                                 \n",
      " batch_normalization_4 (Batc  (None, 28, 28, 64)       256       \n",
      " hNormalization)                                                 \n",
      "                                                                 \n",
      " depthwise_conv2d_2 (Depthwi  (None, 28, 28, 64)       640       \n",
      " seConv2D)                                                       \n",
      "                                                                 \n",
      " batch_normalization_5 (Batc  (None, 28, 28, 64)       256       \n",
      " hNormalization)                                                 \n",
      "                                                                 \n",
      " conv2d_5 (Conv2D)           (None, 28, 28, 64)        4160      \n",
      "                                                                 \n",
      " global_average_pooling2d (G  (None, 64)               0         \n",
      " lobalAveragePooling2D)                                          \n",
      "                                                                 \n",
      " dense (Dense)               (None, 32)                2080      \n",
      "                                                                 \n",
      " dropout (Dropout)           (None, 32)                0         \n",
      "                                                                 \n",
      " dense_1 (Dense)             (None, 7)                 231       \n",
      "                                                                 \n",
      "=================================================================\n",
      "Total params: 12,423\n",
      "Trainable params: 12,007\n",
      "Non-trainable params: 416\n",
      "_________________________________________________________________\n",
      "2/2 [==============================] - 0s 12ms/step\n",
      "WARNING:tensorflow:From c:\\Users\\joshu\\anaconda3\\envs\\SuperBoop\\lib\\site-packages\\tensorflow\\python\\ops\\nn_ops.py:5250: tensor_shape_from_node_def_name (from tensorflow.python.framework.graph_util_impl) is deprecated and will be removed in a future version.\n",
      "Instructions for updating:\n",
      "Use `tf.compat.v1.graph_util.tensor_shape_from_node_def_name`\n",
      "Acc: 0.6882352828979492, F1: 0.29178495922681974, P: 0.319415081042988, R: 0.3023255813953488, Loss: 0.9642195105552673, Parámetros: 12423, FLOPS: 33622538, Memoria: 0.05 MB\n"
     ]
    },
    {
     "data": {
      "image/png": "[encoded data removed]",
      "text/plain": [
       "<Figure size 640x480 with 1 Axes>"
      ]
     },
     "metadata": {},
     "output_type": "display_data"
    },
    {
     "data": {
      "image/png": "[encoded data removed]",
      "text/plain": [
       "<Figure size 640x480 with 1 Axes>"
      ]
     },
     "metadata": {},
     "output_type": "display_data"
    },
    {
     "data": {
      "image/png": "[encoded data removed]",
      "text/plain": [
       "<Figure size 640x480 with 1 Axes>"
      ]
     },
     "metadata": {},
     "output_type": "display_data"
    },
    {
     "name": "stdout",
     "output_type": "stream",
     "text": [
      "2/2 [==============================] - 0s 12ms/step\n"
     ]
    },
    {
     "data": {
      "image/png": "[encoded data removed]",
      "text/plain": [
       "<Figure size 640x480 with 2 Axes>"
      ]
     },
     "metadata": {},
     "output_type": "display_data"
    },
    {
     "name": "stdout",
     "output_type": "stream",
     "text": [
      "              precision    recall  f1-score   support\n",
      "\n",
      "          NE     0.0000    0.0000    0.0000         6\n",
      "          HA     0.2857    0.2857    0.2857         7\n",
      "          SA     0.3636    0.8000    0.5000         5\n",
      "          SU     0.7500    0.4286    0.5455         7\n",
      "          AN     0.1111    0.1667    0.1333         6\n",
      "          DI     0.6667    0.5000    0.5714         4\n",
      "          FE     0.1667    0.1250    0.1429         8\n",
      "\n",
      "    accuracy                         0.3023        43\n",
      "   macro avg     0.3348    0.3294    0.3113        43\n",
      "weighted avg     0.3194    0.3023    0.2918        43\n",
      "\n"
     ]
    }
   ],
   "source": [
    "import os\n",
    "import cv2\n",
    "import numpy as np\n",
    "from sklearn.model_selection import train_test_split\n",
    "from tensorflow.keras.preprocessing.image import ImageDataGenerator\n",
    "from tensorflow.keras import layers, models, regularizers, Input\n",
    "import tensorflow as tf\n",
    "\n",
    "# Configurar aumento de datos\n",
    "datagen = ImageDataGenerator(\n",
    "    width_shift_range=0.1,\n",
    "    height_shift_range=0.1,\n",
    "    zoom_range=0.1,\n",
    "    horizontal_flip=True\n",
    ")\n",
    "\n",
    "# Ajustar el generador al conjunto de entrenamiento\n",
    "datagen.fit(imagenes_train)\n",
    "\n",
    "import tensorflow as tf\n",
    "from tensorflow.keras import layers, models, regularizers\n",
    "\n",
    "# Definir la entrada\n",
    "input_shape = (224, 224, 3)  # Ajustar tamaño de entrada para reducir parámetros\n",
    "\n",
    "# Construcción del modelo\n",
    "model = models.Sequential()\n",
    "\n",
    "# Primera capa convolucional con Depthwise separable para mantener eficiencia\n",
    "model.add(layers.Conv2D(8, (3, 3), strides=(2, 2), padding='same', activation='relu', input_shape=input_shape))\n",
    "model.add(layers.BatchNormalization())\n",
    "model.add(layers.DepthwiseConv2D((3, 3), padding='same', activation='relu'))\n",
    "model.add(layers.BatchNormalization())\n",
    "model.add(layers.Conv2D(16, (1, 1), padding='same', activation='relu'))\n",
    "model.add(layers.MaxPooling2D((2, 2)))\n",
    "\n",
    "# Segunda serie de capas convolucionales\n",
    "model.add(layers.Conv2D(32, (1, 1), padding='same', activation='relu'))\n",
    "model.add(layers.BatchNormalization())\n",
    "model.add(layers.DepthwiseConv2D((3, 3), padding='same', activation='relu'))\n",
    "model.add(layers.BatchNormalization())\n",
    "model.add(layers.Conv2D(32, (1, 1), padding='same', activation='relu'))\n",
    "model.add(layers.MaxPooling2D((2, 2)))\n",
    "\n",
    "# Bloque final con convoluciones y pooling global\n",
    "model.add(layers.Conv2D(64, (1, 1), padding='same', activation='relu'))\n",
    "model.add(layers.BatchNormalization())\n",
    "model.add(layers.DepthwiseConv2D((3, 3), padding='same', activation='relu'))\n",
    "model.add(layers.BatchNormalization())\n",
    "model.add(layers.Conv2D(64, (1, 1), padding='same', activation='relu'))\n",
    "model.add(layers.GlobalAveragePooling2D())\n",
    "\n",
    "# Capas densas finales con Dropout y regularización\n",
    "model.add(layers.Dense(32, activation='relu', kernel_regularizer=regularizers.l2(0.01)))\n",
    "model.add(layers.Dropout(0.4))  # Dropout ajustado para reducir sobreajuste\n",
    "model.add(layers.Dense(7, activation='softmax'))\n",
    "\n",
    "# Compilación del modelo\n",
    "model.compile(optimizer=tf.keras.optimizers.Adam(learning_rate=1e-4),\n",
    "              loss='sparse_categorical_crossentropy',\n",
    "              metrics=['accuracy'])\n",
    "\n",
    "\n",
    "# Implementar EarlyStopping y reducción de learning rate en Plateau\n",
    "early_stopping = tf.keras.callbacks.EarlyStopping(monitor='val_loss', patience=20, restore_best_weights=True)\n",
    "reduce_lr = tf.keras.callbacks.ReduceLROnPlateau(monitor='val_loss', factor=0.7, patience=10)\n",
    "\n",
    "from sklearn.metrics import f1_score, precision_score, recall_score\n",
    "import numpy as np\n",
    "import matplotlib.pyplot as plt\n",
    "\n",
    "# Definir un callback personalizado para calcular F1, Precision, y Recall\n",
    "class MetricsCallback(tf.keras.callbacks.Callback):\n",
    "    def on_train_begin(self, logs=None):\n",
    "        self.f1s = []\n",
    "        self.precisions = []\n",
    "        self.recalls = []\n",
    "\n",
    "    def on_epoch_end(self, epoch, logs=None):\n",
    "        val_predicciones = np.argmax(self.model.predict(self.validation_data[0]), axis=1)\n",
    "        val_etiquetas = self.validation_data[1]\n",
    "        \n",
    "        f1 = f1_score(val_etiquetas, val_predicciones, average='weighted')\n",
    "        precision = precision_score(val_etiquetas, val_predicciones, average='weighted')\n",
    "        recall = recall_score(val_etiquetas, val_predicciones, average='weighted')\n",
    "        \n",
    "        self.f1s.append(f1)\n",
    "        self.precisions.append(precision)\n",
    "        self.recalls.append(recall)\n",
    "        \n",
    "        print(f\"Epoch {epoch+1} — F1: {f1:.4f}, Precision: {precision:.4f}, Recall: {recall:.4f}\")\n",
    "    \n",
    "    # Sobrescribimos el método set_validation_data para obtener el conjunto de validación\n",
    "    def set_validation_data(self, validation_data):\n",
    "        self.validation_data = validation_data\n",
    "\n",
    "# Instanciar el callback y pasar los datos de validación explícitamente\n",
    "metrics_callback = MetricsCallback()\n",
    "metrics_callback.set_validation_data((imagenes_val, etiquetas_val))\n",
    "\n",
    "\n",
    "# Entrenar el modelo con el callback\n",
    "history = model.fit(\n",
    "    imagenes_train, etiquetas_train,\n",
    "    validation_data=(imagenes_val, etiquetas_val),\n",
    "    epochs=400,\n",
    "    batch_size=2,\n",
    "    callbacks=[metrics_callback]\n",
    ")\n",
    "\n",
    "# Graficar F1, Precision y Recall a lo largo de las épocas\n",
    "epocas = range(1, len(metrics_callback.f1s) + 1)\n",
    "\n",
    "plt.figure()\n",
    "plt.plot(epocas, metrics_callback.f1s, label='F1 Score')\n",
    "plt.plot(epocas, metrics_callback.precisions, label='Precision')\n",
    "plt.plot(epocas, metrics_callback.recalls, label='Recall')\n",
    "plt.title('F1, Precision y Recall a lo largo de las épocas')\n",
    "plt.xlabel('Épocas')\n",
    "plt.ylabel('Valor')\n",
    "plt.legend()\n",
    "plt.show()\n",
    "\n",
    "# Resumen del modelo\n",
    "model.summary()\n",
    "\n",
    "import os\n",
    "import cv2\n",
    "import numpy as np\n",
    "from sklearn.metrics import f1_score, precision_score, recall_score\n",
    "import tensorflow as tf\n",
    "import matplotlib.pyplot as plt\n",
    "import tensorflow as tf\n",
    "from tensorflow.python.framework.convert_to_constants import convert_variables_to_constants_v2\n",
    "\n",
    "# Función para calcular F1, Precision, y Recall\n",
    "def calcular_metricas(model, imagenes_val, etiquetas_val):\n",
    "    predicciones = model.predict(imagenes_val)\n",
    "    predicciones_clases = np.argmax(predicciones, axis=1)\n",
    "    \n",
    "    f1 = f1_score(etiquetas_val, predicciones_clases, average='weighted')\n",
    "    precision = precision_score(etiquetas_val, predicciones_clases, average='weighted')\n",
    "    recall = recall_score(etiquetas_val, predicciones_clases, average='weighted')\n",
    "    \n",
    "    return f1, precision, recall\n",
    "\n",
    "def calcular_flops(model):\n",
    "    # Crear una función concreta del modelo\n",
    "    imagen_de_prueba = tf.random.normal([1, 224, 224, 3])  # Imagen de prueba\n",
    "    modelo_funcional = tf.function(lambda x: model(x))\n",
    "    modelo_concreto = modelo_funcional.get_concrete_function(imagen_de_prueba)\n",
    "\n",
    "    # Convertir el modelo concreto a un gráfico de TensorFlow\n",
    "    frozen_func = convert_variables_to_constants_v2(modelo_concreto)\n",
    "    frozen_func.graph.as_graph_def()\n",
    "\n",
    "    # Utilizar tf.compat.v1.profiler para obtener el número de FLOPS\n",
    "    run_meta = tf.compat.v1.RunMetadata()\n",
    "    opts = tf.compat.v1.profiler.ProfileOptionBuilder.float_operation()\n",
    "\n",
    "    # Iniciar el profiler\n",
    "    flops = tf.compat.v1.profiler.profile(graph=frozen_func.graph, run_meta=run_meta, cmd='scope', options=opts)\n",
    "\n",
    "    # Devolver los FLOPS\n",
    "    return flops.total_float_ops  # Esta función devuelve el número total de operaciones de punto flotante\n",
    "\n",
    "\n",
    "# Función para calcular la huella de memoria\n",
    "def calcular_memoria_modelo(model):\n",
    "    # Contar los parámetros del modelo\n",
    "    total_params = model.count_params()\n",
    "    \n",
    "    # Asumiendo que los parámetros están almacenados en float32 (4 bytes por parámetro)\n",
    "    bytes_por_param = 4\n",
    "    memoria_total = total_params * bytes_por_param\n",
    "    \n",
    "    # Convertir a MB\n",
    "    memoria_total_mb = memoria_total / (1024 ** 2)\n",
    "    return memoria_total_mb\n",
    "\n",
    "# Obtener métricas en el conjunto de validación\n",
    "f1, precision, recall = calcular_metricas(model, imagenes_val, etiquetas_val)\n",
    "\n",
    "# Obtener los parámetros del modelo\n",
    "parametros = model.count_params()\n",
    "\n",
    "# Extraer Accuracy y Loss de la última época\n",
    "acc = history.history['accuracy'][-1]\n",
    "val_acc = history.history['val_accuracy'][-1]\n",
    "loss = history.history['loss'][-1]\n",
    "val_loss = history.history['val_loss'][-1]\n",
    "\n",
    "# Calcular FLOPS y huella de memoria\n",
    "flops = calcular_flops(model)\n",
    "memoria_modelo = calcular_memoria_modelo(model)\n",
    "\n",
    "# Imprimir la tabla con los resultados\n",
    "print(f\"Acc: {acc}, F1: {f1}, P: {precision}, R: {recall}, Loss: {loss}, Parámetros: {parametros}, FLOPS: {flops}, Memoria: {memoria_modelo:.2f} MB\")\n",
    "\n",
    "import pandas as pd\n",
    "\n",
    "# Crear un diccionario con los resultados de la última época\n",
    "resultados = {\n",
    "    'Métrica': ['Accuracy', 'F1 Score', 'Precision', 'Recall', 'Loss', 'Parámetros', 'FLOPS', 'Memoria (MB)'],\n",
    "    'Valor': [acc, f1, precision, recall, loss, parametros, flops, memoria_modelo]\n",
    "}\n",
    "\n",
    "# Convertir el diccionario en un DataFrame de pandas\n",
    "df_resultados = pd.DataFrame(resultados)\n",
    "\n",
    "# Guardar la tabla en un archivo Excel\n",
    "ruta_excel = r\"C:\\Users\\joshu\\OneDrive\\Desktop\\23SepCK\\UltimasCapasJ2MP\\RJAFFE.xlsx\"\n",
    "df_resultados.to_excel(ruta_excel, index=False)\n",
    "\n",
    "# Mostrar el archivo guardado\n",
    "ruta_excel\n",
    "# Graficar las métricas\n",
    "epocas = range(len(history.history['accuracy']))\n",
    "\n",
    "# Graficar Accuracy\n",
    "plt.figure()\n",
    "plt.plot(epocas, history.history['accuracy'], label='Entrenamiento')\n",
    "plt.plot(epocas, history.history['val_accuracy'], label='Validación')\n",
    "plt.title('Accuracy por Época')\n",
    "plt.xlabel('Época')\n",
    "plt.ylabel('Accuracy')\n",
    "plt.legend()\n",
    "plt.show()\n",
    "\n",
    "# Graficar Loss\n",
    "plt.figure()\n",
    "plt.plot(epocas, history.history['loss'], label='Entrenamiento')\n",
    "plt.plot(epocas, history.history['val_loss'], label='Validación')\n",
    "plt.title('Loss por Época')\n",
    "plt.xlabel('Época')\n",
    "plt.ylabel('Loss')\n",
    "plt.legend()\n",
    "plt.show()\n",
    "\n",
    "# Graficar F1, Precision, Recall\n",
    "metricas = ['F1 Score', 'Precision', 'Recall']\n",
    "valores = [f1, precision, recall]\n",
    "\n",
    "plt.figure()\n",
    "plt.bar(metricas, valores)\n",
    "plt.title('F1, Precision y Recall en la última época')\n",
    "plt.ylabel('Valor')\n",
    "plt.show()\n",
    "\n",
    "\n",
    "# Realizar predicciones con el modelo\n",
    "y_pred = model.predict(imagenes_val)\n",
    "y_pred_clases = np.argmax(y_pred, axis=1)\n",
    "\n",
    "# Calcular métricas de evaluación\n",
    "acc_val = accuracy_score(etiquetas_val, y_pred_clases)\n",
    "\n",
    "# Matriz de confusión de validación\n",
    "matriz_confusion_val = confusion_matrix(etiquetas_val, y_pred_clases)\n",
    "\n",
    "# Visualizar la matriz de confusión\n",
    "ax = sn.heatmap(matriz_confusion_val, annot=True, cmap='Blues')\n",
    "ax.set_title('Validation data Confusion Matrix')\n",
    "ax.set_xlabel('Predicted Values')\n",
    "ax.set_ylabel('Actual Values')\n",
    "\n",
    "# Ajustar los labels de los ticks\n",
    "ax.xaxis.set_ticklabels(['NE', 'HA', 'SA', 'SU', 'AN', 'DI', 'FE'])\n",
    "ax.yaxis.set_ticklabels(['NE', 'HA', 'SA', 'SU', 'AN', 'DI', 'FE'])\n",
    "\n",
    "plt.show()\n",
    "\n",
    "# Informe de clasificación\n",
    "target_names = ['NE', 'HA', 'SA', 'SU', 'AN', 'DI', 'FE']\n",
    "report = classification_report(etiquetas_val, y_pred_clases, digits=4, target_names=target_names)\n",
    "print(report)"
   ]
  }
 ],
 "metadata": {
  "kernelspec": {
   "display_name": "SuperBoop",
   "language": "python",
   "name": "python3"
  },
  "language_info": {
   "codemirror_mode": {
    "name": "ipython",
    "version": 3
   },
   "file_extension": ".py",
   "mimetype": "text/x-python",
   "name": "python",
   "nbconvert_exporter": "python",
   "pygments_lexer": "ipython3",
   "version": "3.9.18"
  }
 },
 "nbformat": 4,
 "nbformat_minor": 2
}
